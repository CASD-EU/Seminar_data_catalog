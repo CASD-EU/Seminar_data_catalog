{
 "cells": [
  {
   "metadata": {
    "collapsed": true
   },
   "cell_type": "markdown",
   "source": [
    "# Advance ingestion\n",
    "\n",
    "To avoid manual ingestion, we provide higher level API to facilitate ingestion"
   ],
   "id": "2a723e3d8411f3af"
  },
  {
   "metadata": {},
   "cell_type": "code",
   "outputs": [],
   "execution_count": null,
   "source": [
    "# ---------------- CREATE STORAGE SERVICE ----------------\n",
    "def create_or_get_storage_service(om_server_con):\n",
    "    # Check if the wanted storage service already exists, return the service entity\n",
    "    service = om_server_con.get_by_name(entity=\"storageService\", fqn=STORAGE_SERVICE_NAME)\n",
    "    if service:\n",
    "        return service\n",
    "\n",
    "    custom_storage_conn = CustomStorageConnection(\n",
    "        type=\"CustomStorage\",\n",
    "        sourcePythonClass=\"metadata.ingestion.source.storage.local.LocalStorageSource\",\n",
    "        connectionOptions={}\n",
    "    )\n",
    "    storage_conn_entity = StorageConnection(config=custom_storage_conn)\n",
    "\n",
    "    service_request = CreateStorageServiceRequest(\n",
    "        name=STORAGE_SERVICE_NAME,\n",
    "        serviceType=StorageServiceType.CustomStorage,\n",
    "        description=\"Local filesystem storage service\",\n",
    "        connection=storage_conn_entity\n",
    "    )\n",
    "\n",
    "    return om_server_con.create_or_update(data=service_request)\n",
    "\n",
    "# ---------------- CREATE ROOT CONTAINER ----------------\n",
    "def create_root_container(om_server_con, storage_service_entity):\n",
    "    container = om_server_con.get_by_name(entity=\"container\", fqn=f\"{STORAGE_SERVICE_NAME}.{CONTAINER_NAME}\")\n",
    "    if container:\n",
    "        return container\n",
    "\n",
    "    container_request = CreateContainerRequest(\n",
    "        name=CONTAINER_NAME,\n",
    "        displayName=\"Root Container\",\n",
    "        service=storage_service_entity.fullyQualifiedName,\n",
    "        dataModel=ContainerDataModel(isPartitioned=False)\n",
    "    )\n",
    "    return om_server_con.create_or_update(data=container_request)\n",
    "\n",
    "# ---------------- CREATE FILE ENTITIES ----------------\n",
    "# def register_files(om_server_con, storage_service_entity, container_entity, folder_path):\n",
    "#     for root, dirs, files in os.walk(folder_path):\n",
    "#         for f in files:\n",
    "#             file_path = os.path.join(root, f)\n",
    "#             size = os.path.getsize(file_path)\n",
    "#             ext = os.path.splitext(f)[1]\n",
    "#             mime = \"text/csv\" if ext == \".csv\" else None  # simple heuristic\n",
    "#             file_request = CreateFileRequest(\n",
    "#                 name=f,\n",
    "#                 displayName=f,\n",
    "#                 service=storage_service_entity.fullyQualifiedName,\n",
    "#                 directory=container_entity.fullyQualifiedName,\n",
    "#                 fileType=FileType.CSV if ext==\".csv\" else FileType.Other,\n",
    "#                 mimeType=mime,\n",
    "#                 fileExtension=ext,\n",
    "#                 path=file_path,\n",
    "#                 size=size\n",
    "#             )\n",
    "#             om_server_con.create_or_update(data=file_request)\n",
    "#             print(f\"Registered file: {file_path}\")"
   ],
   "id": "83f8ebef83a816c5"
  },
  {
   "metadata": {},
   "cell_type": "code",
   "outputs": [],
   "execution_count": null,
   "source": "",
   "id": "bc81ec5f59e427f1"
  },
  {
   "metadata": {},
   "cell_type": "code",
   "outputs": [],
   "execution_count": null,
   "source": "",
   "id": "52dd4b3c57c216ee"
  }
 ],
 "metadata": {
  "kernelspec": {
   "display_name": "Python 3",
   "language": "python",
   "name": "python3"
  },
  "language_info": {
   "codemirror_mode": {
    "name": "ipython",
    "version": 2
   },
   "file_extension": ".py",
   "mimetype": "text/x-python",
   "name": "python",
   "nbconvert_exporter": "python",
   "pygments_lexer": "ipython2",
   "version": "2.7.6"
  }
 },
 "nbformat": 4,
 "nbformat_minor": 5
}
