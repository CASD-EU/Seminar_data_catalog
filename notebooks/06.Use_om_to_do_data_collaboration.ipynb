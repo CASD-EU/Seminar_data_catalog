{
 "cells": [
  {
   "metadata": {
    "collapsed": true
   },
   "cell_type": "markdown",
   "source": [
    "# Use openmetadata for data collaboration\n",
    "\n",
    "To improve/audit metadata, the collaboration between data teams is essential. Users can collaborate with each other by adding documentation, descriptions, and annotations to metadata to provide context and share knowledge about data assets.\n",
    "There are three important aspects of data collaboration in OpenMetadata:\n",
    "\n",
    "- **Announcements**: Announce to your entire team about the upcoming events and changes such as deprecation, deletion, or schema changes.\n",
    "- **Conversations Threads**: Collaborate around data assets and tags by asking the right questions and discussing the details right within OpenMetadata.\n",
    "- **Tasks**: Create tasks around data assets to create and update descriptions, request for tags, and initiate a glossary term approval workflow.\n",
    "\n",
    "## 1. Announcement\n",
    "\n",
    "Announcement is the main way to broadcast important events(e.g. deprecation, deletion, or schema changes) about dataset entities inside openmetadata. These announcements can be scheduled with a start date and an end date. All the users following your data are not only notified in Activity Feeds but a banner is also shown on the data asset details page.\n",
    "\n",
    "### 1.1 Create an announcement\n",
    "\n",
    "To add an announcement:\n",
    "\n",
    "- Navigate to `Explore` tab and select a relevant `Data Asset`.\n",
    "- Click on the vertical ellipsis icon **⋮** located on the top right and select `Announcements`.\n",
    "\n",
    "The below figure shows an example\n",
    "\n",
    "![om_create_annoncement.png](../assets/om_create_annoncement.png)\n",
    "\n",
    "Enter the following information and click Submit.\n",
    "- Title of the Announcement\n",
    "- Start Date (To view the announcement right now, you need to choose today's date as start date)\n",
    "- End Date\n",
    "- Description\n",
    "\n",
    "> This announcement will be displayed in OpenMetadata during the scheduled time. It will be displayed to all the users who own or follow that particular data asset.\n",
    "\n",
    "To view more details about the announcement, you can click on it.\n",
    "\n",
    "Details of the announcement are as follows:\n",
    "\n",
    "- Creator: Get to know who added the announcement.\n",
    "- Data Asset: Know the data asset type (Table, Pipeline) as well as name of the data asset it pertains to.\n",
    "- Scheduled Date: A date range can be added during which the announcement will be displayed in OpenMetadata. This consists of a start and end date.\n",
    "\n",
    "> Furthermore, users can react with emojis and reply to the announcements from both the Activity Feed in the homepage and from the data asset page."
   ],
   "id": "676e2d8f13d8ec15"
  },
  {
   "metadata": {},
   "cell_type": "code",
   "outputs": [],
   "execution_count": null,
   "source": "##",
   "id": "c07780e185184811"
  },
  {
   "metadata": {},
   "cell_type": "markdown",
   "source": "## Tasks",
   "id": "40468bdb2fe4e58e"
  },
  {
   "metadata": {},
   "cell_type": "code",
   "outputs": [],
   "execution_count": null,
   "source": "",
   "id": "53cfc001218dbeb8"
  },
  {
   "metadata": {},
   "cell_type": "code",
   "outputs": [],
   "execution_count": null,
   "source": "",
   "id": "d6a705ae228925e8"
  }
 ],
 "metadata": {
  "kernelspec": {
   "display_name": "Python 3",
   "language": "python",
   "name": "python3"
  },
  "language_info": {
   "codemirror_mode": {
    "name": "ipython",
    "version": 2
   },
   "file_extension": ".py",
   "mimetype": "text/x-python",
   "name": "python",
   "nbconvert_exporter": "python",
   "pygments_lexer": "ipython2",
   "version": "2.7.6"
  }
 },
 "nbformat": 4,
 "nbformat_minor": 5
}
