{
 "cells": [
  {
   "metadata": {
    "collapsed": true,
    "ExecuteTime": {
     "end_time": "2025-09-09T14:21:38.946648Z",
     "start_time": "2025-09-09T14:21:34.886802Z"
    }
   },
   "cell_type": "markdown",
   "source": [
    "# Tags, Glossary and terms\n",
    "\n",
    "In metadata management, we often add two more extra categories of metadata:\n",
    "- Classification/Tags(Labels): Provide flexible classification and annotation of data assets.\n",
    "- Glossary/Terms: Provide a unified vocabulary across the organization."
   ],
   "id": "c7c911e9b6326785"
  },
  {
   "metadata": {
    "ExecuteTime": {
     "end_time": "2025-09-11T11:23:32.412675Z",
     "start_time": "2025-09-11T11:23:21.743465Z"
    }
   },
   "cell_type": "code",
   "source": [
    "from typing import Dict\n",
    "\n",
    "from metadata.ingestion.ometa.ometa_api import OpenMetadata\n",
    "from metadata.generated.schema.entity.services.connections.metadata.openMetadataConnection import (\n",
    "    OpenMetadataConnection, AuthProvider)\n",
    "from metadata.generated.schema.security.client.openMetadataJWTClientConfig import OpenMetadataJWTClientConfig\n",
    "\n",
    "import chardet\n",
    "import pandas as pd\n",
    "\n",
    "from metadata.generated.schema.entity.data.table import Table\n",
    "from metadata.ingestion.ometa.mixins.patch_mixin_utils import PatchOperation\n",
    "from metadata.ingestion.models.table_metadata import ColumnTag\n",
    "from metadata.generated.schema.type.tagLabel import TagLabel, TagSource, State, LabelType"
   ],
   "id": "eca90e902d766e6c",
   "outputs": [],
   "execution_count": 2
  },
  {
   "metadata": {
    "ExecuteTime": {
     "end_time": "2025-09-11T11:23:32.415894Z",
     "start_time": "2025-09-11T11:23:32.412675Z"
    }
   },
   "cell_type": "code",
   "source": [
    "# you need to modify this value to match your target open metadata server url\n",
    "target_om_server = \"http://om-dev.casd.local/api\""
   ],
   "id": "27672d7f3c576054",
   "outputs": [],
   "execution_count": 3
  },
  {
   "metadata": {
    "ExecuteTime": {
     "end_time": "2025-09-11T11:23:33.064917Z",
     "start_time": "2025-09-11T11:23:33.004703Z"
    }
   },
   "cell_type": "code",
   "source": [
    "from conf.creds import om_oidc_token\n",
    "\n",
    "server_config = OpenMetadataConnection(\n",
    "    hostPort=target_om_server,\n",
    "    authProvider=AuthProvider.openmetadata,\n",
    "    securityConfig=OpenMetadataJWTClientConfig(\n",
    "        jwtToken=om_oidc_token,\n",
    "    ),\n",
    ")\n",
    "om_conn = OpenMetadata(server_config)"
   ],
   "id": "192bc36f1c47ca26",
   "outputs": [],
   "execution_count": 4
  },
  {
   "metadata": {
    "ExecuteTime": {
     "end_time": "2025-09-11T11:23:34.330477Z",
     "start_time": "2025-09-11T11:23:34.302336Z"
    }
   },
   "cell_type": "code",
   "source": [
    "# if it returns true, it means the connection is success \n",
    "om_conn.health_check()"
   ],
   "id": "2fc5eb43e733ab55",
   "outputs": [
    {
     "data": {
      "text/plain": [
       "True"
      ]
     },
     "execution_count": 5,
     "metadata": {},
     "output_type": "execute_result"
    }
   ],
   "execution_count": 5
  },
  {
   "metadata": {
    "ExecuteTime": {
     "end_time": "2025-09-11T11:23:37.240465Z",
     "start_time": "2025-09-11T11:23:37.233538Z"
    }
   },
   "cell_type": "code",
   "source": [
    "import pathlib\n",
    "\n",
    "project_root = pathlib.Path.cwd().parent\n",
    "metadata_path = project_root / \"data\"\n",
    "\n",
    "print(metadata_path)"
   ],
   "id": "5f5f371ea159f126",
   "outputs": [
    {
     "name": "stdout",
     "output_type": "stream",
     "text": [
      "C:\\Users\\PLIU\\Documents\\git\\Seminare_data_catalog\\data\n"
     ]
    }
   ],
   "execution_count": 6
  },
  {
   "metadata": {},
   "cell_type": "markdown",
   "source": [
    "## 1. Classification and tags\n",
    "\n",
    "In Open Metadata, a `Classification entity` contains `hierarchical terms` called **tags** used for categorizing and classifying data assets and other entities.\n",
    "\n",
    "For example, in CASD, we value data security, so want to classify data with the below security level:\n",
    "- **TopSecret**: Such material would cause \"exceptionally grave damage\" to national security if made publicly available\n",
    "- **Secret**: Secret material would cause \"serious damage\" to national security if it were publicly available\n",
    "- **Confidential**: Confidential material would cause \"damage\" or be prejudicial to national security if publicly available\n",
    "- **Restricted**: Restricted material would cause \"undesirable effects\" if publicly available.\n",
    "- **Official**: Official material forms the generality of government business, public service delivery and commercial activity. This includes a diverse range of information, of varying sensitivities, and with differing consequences resulting from compromise or loss.\n",
    "- **Unclassified**: Unclassified information is low-impact, and therefore does not require any special protection, such as vetting of personnel.\n",
    "\n",
    "To be able to classify data with the above tags, we need to the below steps:\n",
    "1. Create a classification called **SecurityLevel**\n",
    "2. Create tags in the classification **SecurityLevel**\n",
    "\n",
    "### 1.1 Create classification entity\n",
    "\n",
    "To create a new classification entity, we must call the `CreateClassificationRequest`."
   ],
   "id": "5ba3d63ea7e34ecc"
  },
  {
   "metadata": {
    "ExecuteTime": {
     "end_time": "2025-09-11T11:23:44.291437Z",
     "start_time": "2025-09-11T11:23:44.209596Z"
    }
   },
   "cell_type": "code",
   "source": [
    "from metadata.generated.schema.api.classification.createClassification import CreateClassificationRequest\n",
    "from metadata.generated.schema.api.classification.createTag import CreateTagRequest\n",
    "\n",
    "#### Config #######\n",
    "classification_name = \"SecurityLevel\"\n",
    "classification_desc = \"CASD data confidentiality classification\"\n",
    "\n",
    "# build the creation request\n",
    "classification_request=CreateClassificationRequest(\n",
    "    name=classification_name,\n",
    "    description=classification_desc,\n",
    ")\n",
    "\n",
    "# submit the request\n",
    "classification_entity=om_conn.create_or_update(classification_request)"
   ],
   "id": "87872a446e8dbb87",
   "outputs": [],
   "execution_count": 7
  },
  {
   "metadata": {},
   "cell_type": "markdown",
   "source": "### 1.2 Create tags in the classification entity\n",
   "id": "e226fd3e65ea3c32"
  },
  {
   "metadata": {
    "ExecuteTime": {
     "end_time": "2025-09-11T11:25:09.445880Z",
     "start_time": "2025-09-11T11:25:09.156613Z"
    }
   },
   "cell_type": "code",
   "source": [
    "ts_tag_request=CreateTagRequest(\n",
    "    classification=classification_name,\n",
    "    name=\"TopSecret\",\n",
    "    displayName=\"TopSecret\",\n",
    "    description=\"Such material would cause `exceptionally grave damage` to national security if made publicly available\",\n",
    ")\n",
    "\n",
    "s_tag_request=CreateTagRequest(\n",
    "    classification=classification_name,\n",
    "    name=\"Secret\",\n",
    "    displayName=\"Secret\",\n",
    "    description=\"Secret material would cause `serious damage` to national security if it were publicly available\",\n",
    ")\n",
    "\n",
    "\n",
    "conf_tag_request=CreateTagRequest(\n",
    "    classification=classification_name,\n",
    "    name=\"Confidential\",\n",
    "    displayName=\"Confidential\",\n",
    "    description=\"Confidential material would cause `damage` or be prejudicial to national security if publicly available\",\n",
    ")\n",
    "\n",
    "res_tag_request=CreateTagRequest(\n",
    "    classification=classification_name,\n",
    "    name=\"Restricted\",\n",
    "    displayName=\"Restricted\",\n",
    "    description=\"Restricted material would cause `undesirable effects` if publicly available\",\n",
    ")\n",
    "\n",
    "off_tag_request=CreateTagRequest(\n",
    "    classification=classification_name,\n",
    "    name=\"Official\",\n",
    "    displayName=\"Official\",\n",
    "    description=\"Official material forms the generality of government business, public service delivery and commercial activity. This includes a diverse range of information, of varying sensitivities, and with differing consequences resulting from compromise or loss\",\n",
    ")\n",
    "\n",
    "\n",
    "un_tag_request=CreateTagRequest(\n",
    "    classification=classification_name,\n",
    "    name=\"Unclassified\",\n",
    "    displayName=\"Unclassified\",\n",
    "    description=\"Unclassified information is low-impact, and therefore does not require any special protection, such as vetting of personnel.\",\n",
    ")\n",
    "\n",
    "\n",
    "\n",
    "ts_tag_entity=om_conn.create_or_update(ts_tag_request)\n",
    "s_tag_entity=om_conn.create_or_update(s_tag_request)\n",
    "conf_tag_entity=om_conn.create_or_update(conf_tag_request)\n",
    "res_tag_entity=om_conn.create_or_update(res_tag_request)\n",
    "off_tag_entity=om_conn.create_or_update(off_tag_request)\n",
    "un_tag_entity=om_conn.create_or_update(un_tag_request)\n",
    "\n"
   ],
   "id": "ddbc88867947e7a3",
   "outputs": [],
   "execution_count": 9
  },
  {
   "metadata": {},
   "cell_type": "markdown",
   "source": [
    "### 1.3 Tag/Classify data\n",
    "\n",
    "We have created the tags, now we need associate data with dags. We call it dagging.\n",
    "\n",
    "> If you have deleted the metadata of the basic entities of TP2, you need to regenerate them. So we can tag them with the created tags\n"
   ],
   "id": "fc73b39af60e31e5"
  },
  {
   "metadata": {
    "ExecuteTime": {
     "end_time": "2025-09-11T11:43:37.587373Z",
     "start_time": "2025-09-11T11:43:37.577452Z"
    }
   },
   "cell_type": "code",
   "source": [
    "# config of the target database which we want to tag\n",
    "DB_SERVICE_NAME = \"Constances-Geography\"\n",
    "DB_NAME = \"hospitals_in_france\"\n",
    "SCHEMA_NAME = \"Geography\""
   ],
   "id": "c71987b3a219ed90",
   "outputs": [],
   "execution_count": 18
  },
  {
   "metadata": {
    "ExecuteTime": {
     "end_time": "2025-09-11T13:01:54.759433Z",
     "start_time": "2025-09-11T13:01:54.753320Z"
    }
   },
   "cell_type": "code",
   "source": [
    "from metadata.generated.schema.entity.data.table import Table, Column\n",
    "\n",
    "def get_table_entity_by_name(om_con, table_fqn:str):\n",
    "    \"\"\"\n",
    "    This function returns a table entity with the given table fqn, if not exist, return None\n",
    "    :return:\n",
    "    \"\"\"\n",
    "    return om_con.get_by_name(entity=Table, fqn=table_fqn)\n"
   ],
   "id": "dcf26ddbe86d8210",
   "outputs": [],
   "execution_count": 31
  },
  {
   "metadata": {
    "ExecuteTime": {
     "end_time": "2025-09-11T13:01:57.012532Z",
     "start_time": "2025-09-11T13:01:56.882956Z"
    }
   },
   "cell_type": "code",
   "source": [
    "# get the table entity to tag them after\n",
    "hic_table_name = \"hospitals_in_communes\"\n",
    "hospitals_in_communes_fqn = f\"{DB_SERVICE_NAME}.{DB_NAME}.{SCHEMA_NAME}.{hic_table_name}\"\n",
    "hospitals_in_communes_table_entity = get_table_entity_by_name(om_conn, hospitals_in_communes_fqn)\n",
    "print(hospitals_in_communes_table_entity)"
   ],
   "id": "8fbb69342825d602",
   "outputs": [
    {
     "name": "stdout",
     "output_type": "stream",
     "text": [
      "id=Uuid(root=UUID('855c4ae4-20e8-4ce6-96f9-94a36f03e2cf')) name=EntityName(root='hospitals_in_communes') displayName=None fullyQualifiedName=FullyQualifiedEntityName(root='Constances-Geography.hospitals_in_france.Geography.hospitals_in_communes') description=Markdown(root='This table contains the number of hospitals in each communes') version=EntityVersion(root=0.3) updatedAt=Timestamp(root=1757592307286) updatedBy='ingestion-bot' href=Href(root=AnyUrl('http://localhost:8585/v1/tables/855c4ae4-20e8-4ce6-96f9-94a36f03e2cf')) tableType=None columns=[Column(name=ColumnName(root='name'), displayName=None, dataType=<DataType.STRING: 'STRING'>, arrayDataType=None, dataLength=26, precision=None, scale=None, dataTypeDisplay='string(26)', description=Markdown(root='name of the commune and all letters are in lower case'), fullyQualifiedName=FullyQualifiedEntityName(root='Constances-Geography.hospitals_in_france.Geography.hospitals_in_communes.name'), tags=[], constraint=None, ordinalPosition=None, jsonSchema=None, children=[], profile=None, customMetrics=None), Column(name=ColumnName(root='geometry'), displayName=None, dataType=<DataType.GEOMETRY: 'GEOMETRY'>, arrayDataType=None, dataLength=18, precision=None, scale=None, dataTypeDisplay='geometry(18)', description=Markdown(root='geo location of the commune in a polygon form'), fullyQualifiedName=FullyQualifiedEntityName(root='Constances-Geography.hospitals_in_france.Geography.hospitals_in_communes.geometry'), tags=[], constraint=None, ordinalPosition=None, jsonSchema=None, children=[], profile=None, customMetrics=None), Column(name=ColumnName(root='hospital_count'), displayName=None, dataType=<DataType.INT: 'INT'>, arrayDataType=None, dataLength=3, precision=None, scale=None, dataTypeDisplay='int(3)', description=Markdown(root='the number of hospitals inside the commune'), fullyQualifiedName=FullyQualifiedEntityName(root='Constances-Geography.hospitals_in_france.Geography.hospitals_in_communes.hospital_count'), tags=[], constraint=None, ordinalPosition=None, jsonSchema=None, children=[], profile=None, customMetrics=None)] tableConstraints=None tablePartition=None owners=None databaseSchema=EntityReference(id=Uuid(root=UUID('8fc3cb68-57f3-43e2-8ea0-fac897267ea9')), type='databaseSchema', name='Geography', fullyQualifiedName='Constances-Geography.hospitals_in_france.Geography', description=Markdown(root='In this schema, we group all tables which contain geographical information of hospitals in France'), displayName='Geography', deleted=False, inherited=None, href=Href(root=AnyUrl('http://localhost:8585/v1/databaseSchemas/8fc3cb68-57f3-43e2-8ea0-fac897267ea9'))) database=EntityReference(id=Uuid(root=UUID('f3c8ee64-efcc-40f6-a491-db9ae0d5d312')), type='database', name='hospitals_in_france', fullyQualifiedName='Constances-Geography.hospitals_in_france', description=Markdown(root='In this database, we store all tables which contain geographical information in Constances'), displayName='hospitals_in_france', deleted=False, inherited=None, href=Href(root=AnyUrl('http://localhost:8585/v1/databases/f3c8ee64-efcc-40f6-a491-db9ae0d5d312'))) service=EntityReference(id=Uuid(root=UUID('5b909ac1-16bc-4521-a7ef-dccdf1edcb5a')), type='databaseService', name='Constances-Geography', fullyQualifiedName='Constances-Geography', description=Markdown(root='This database service stores all geography databases of INSERM'), displayName='Constances-Geography', deleted=False, inherited=None, href=Href(root=AnyUrl('http://localhost:8585/v1/services/databaseServices/5b909ac1-16bc-4521-a7ef-dccdf1edcb5a'))) serviceType=<DatabaseServiceType.Mysql: 'Mysql'> location=None locationPath=None schemaDefinition=None tags=None usageSummary=None followers=None joins=None sampleData=None tableProfilerConfig=None customMetrics=None profile=None testSuite=None dataModel=None changeDescription=ChangeDescription(fieldsAdded=[FieldChange(name=FieldName(root='tags'), oldValue=None, newValue='[{\"tagFQN\":\"constances_geo_terms.geometry_type\",\"name\":\"geometry_type\",\"displayName\":\"geometry_type\",\"description\":\"<pre><code>The description of possible type values in a geometry column\\\\n | geo_type   | description                                                     |\\\\n|:-----------|:----------------------------------------------------------------|\\\\n| point      | A pair of (latitude, longitude) which represent the geolocation |\\\\n| line       | A list of points which represent a line                         |\\\\n| polygon    | A list of points which represent a polygone                     |</code></pre><p></p>\",\"style\":{},\"source\":\"Glossary\",\"labelType\":\"Manual\",\"state\":\"Confirmed\"},{\"tagFQN\":\"constances_geo_terms.geometry_type\",\"name\":\"geometry_type\",\"displayName\":\"geometry_type\",\"description\":\"<pre><code>The description of possible type values in a geometry column\\\\n | geo_type   | description                                                     |\\\\n|:-----------|:----------------------------------------------------------------|\\\\n| point      | A pair of (latitude, longitude) which represent the geolocation |\\\\n| line       | A list of points which represent a line                         |\\\\n| polygon    | A list of points which represent a polygone                     |</code></pre><p></p>\",\"style\":{},\"source\":\"Glossary\",\"labelType\":\"Manual\",\"state\":\"Confirmed\"}]')], fieldsUpdated=[], fieldsDeleted=[], previousVersion=EntityVersion(root=0.2), changeSummary=ChangeSummaryModel(root={})) incrementalChangeDescription=ChangeDescription(fieldsAdded=[FieldChange(name=FieldName(root='tags'), oldValue=None, newValue='[{\"tagFQN\":\"constances_geo_terms.geometry_type\",\"name\":\"geometry_type\",\"displayName\":\"geometry_type\",\"description\":\"<pre><code>The description of possible type values in a geometry column\\\\n | geo_type   | description                                                     |\\\\n|:-----------|:----------------------------------------------------------------|\\\\n| point      | A pair of (latitude, longitude) which represent the geolocation |\\\\n| line       | A list of points which represent a line                         |\\\\n| polygon    | A list of points which represent a polygone                     |</code></pre><p></p>\",\"style\":{},\"source\":\"Glossary\",\"labelType\":\"Manual\",\"state\":\"Confirmed\"},{\"tagFQN\":\"constances_geo_terms.geometry_type\",\"name\":\"geometry_type\",\"displayName\":\"geometry_type\",\"description\":\"<pre><code>The description of possible type values in a geometry column\\\\n | geo_type   | description                                                     |\\\\n|:-----------|:----------------------------------------------------------------|\\\\n| point      | A pair of (latitude, longitude) which represent the geolocation |\\\\n| line       | A list of points which represent a line                         |\\\\n| polygon    | A list of points which represent a polygone                     |</code></pre><p></p>\",\"style\":{},\"source\":\"Glossary\",\"labelType\":\"Manual\",\"state\":\"Confirmed\"}]')], fieldsUpdated=[], fieldsDeleted=[], previousVersion=EntityVersion(root=0.2), changeSummary=ChangeSummaryModel(root={})) deleted=False retentionPeriod=None extension=None sourceUrl=None domains=None dataProducts=None fileFormat=None votes=None lifeCycle=None certification=None sourceHash=None processedLineage=False queries=None\n"
     ]
    }
   ],
   "execution_count": 32
  },
  {
   "metadata": {
    "ExecuteTime": {
     "end_time": "2025-09-11T11:32:59.417220Z",
     "start_time": "2025-09-11T11:32:59.142328Z"
    }
   },
   "cell_type": "code",
   "source": [
    "from metadata.ingestion.ometa.mixins.patch_mixin_utils import PatchOperation\n",
    "from metadata.generated.schema.type.tagLabel import TagLabel, TagSource, State, LabelType\n",
    "\n",
    "# we need to create tag label first to be able to add tag to other entities\n",
    "# We only need tag_fqn to build the tag label of type str.\n",
    "ts_tag_label=TagLabel(tagFQN=s_tag_entity.fullyQualifiedName,source=TagSource.Classification,  state=State.Suggested, labelType=LabelType.Automated,)\n",
    "s_tag_label=TagLabel(tagFQN=s_tag_entity.fullyQualifiedName,source=TagSource.Classification,  state=State.Suggested, labelType=LabelType.Automated,)\n",
    "conf_tag_label=TagLabel(tagFQN=conf_tag_entity.fullyQualifiedName,source=TagSource.Classification,  state=State.Suggested, labelType=LabelType.Automated,)\n",
    "\n",
    "# if we know the value of the fqn, we can create the tag label from string value directly\n",
    "res_tag_label=TagLabel(tagFQN=\"SecurityLevel.Restricted\",source=TagSource.Classification,  state=State.Suggested, labelType=LabelType.Automated,)\n",
    "off_tag_label=TagLabel(tagFQN=\"SecurityLevel.Official\",source=TagSource.Classification,  state=State.Suggested, labelType=LabelType.Automated,)\n",
    "un_tag_label=TagLabel(tagFQN=\"SecurityLevel.Unclassified\",source=TagSource.Classification,  state=State.Suggested, labelType=LabelType.Automated,)\n",
    "\n",
    "om_conn.patch_tags(\n",
    "    entity=Table,\n",
    "    source=hospitals_in_communes_table_entity,\n",
    "    tag_labels=[s_tag_label],\n",
    "    operation=PatchOperation.ADD\n",
    ")"
   ],
   "id": "fb9d2407fc1cf0c0",
   "outputs": [
    {
     "data": {
      "text/plain": [
       "Table(id=Uuid(root=UUID('855c4ae4-20e8-4ce6-96f9-94a36f03e2cf')), name=EntityName(root='hospitals_in_communes'), displayName=None, fullyQualifiedName=FullyQualifiedEntityName(root='Constances-Geography.hospitals_in_france.Geography.hospitals_in_communes'), description=Markdown(root='This table contains the number of hospitals in each communes'), version=EntityVersion(root=0.2), updatedAt=Timestamp(root=1757590379233), updatedBy='ingestion-bot', href=Href(root=AnyUrl('http://localhost:8585/v1/tables/855c4ae4-20e8-4ce6-96f9-94a36f03e2cf')), tableType=None, columns=[Column(name=ColumnName(root='name'), displayName=None, dataType=<DataType.STRING: 'STRING'>, arrayDataType=None, dataLength=26, precision=None, scale=None, dataTypeDisplay='string(26)', description=Markdown(root='name of the commune and all letters are in lower case'), fullyQualifiedName=FullyQualifiedEntityName(root='Constances-Geography.hospitals_in_france.Geography.hospitals_in_communes.name'), tags=[], constraint=None, ordinalPosition=None, jsonSchema=None, children=[], profile=None, customMetrics=None), Column(name=ColumnName(root='geometry'), displayName=None, dataType=<DataType.GEOMETRY: 'GEOMETRY'>, arrayDataType=None, dataLength=18, precision=None, scale=None, dataTypeDisplay='geometry(18)', description=Markdown(root='geo location of the commune in a polygon form'), fullyQualifiedName=FullyQualifiedEntityName(root='Constances-Geography.hospitals_in_france.Geography.hospitals_in_communes.geometry'), tags=[], constraint=None, ordinalPosition=None, jsonSchema=None, children=[], profile=None, customMetrics=None), Column(name=ColumnName(root='hospital_count'), displayName=None, dataType=<DataType.INT: 'INT'>, arrayDataType=None, dataLength=3, precision=None, scale=None, dataTypeDisplay='int(3)', description=Markdown(root='the number of hospitals inside the commune'), fullyQualifiedName=FullyQualifiedEntityName(root='Constances-Geography.hospitals_in_france.Geography.hospitals_in_communes.hospital_count'), tags=[], constraint=None, ordinalPosition=None, jsonSchema=None, children=[], profile=None, customMetrics=None)], tableConstraints=None, tablePartition=None, owners=EntityReferenceList(root=[]), databaseSchema=EntityReference(id=Uuid(root=UUID('8fc3cb68-57f3-43e2-8ea0-fac897267ea9')), type='databaseSchema', name='Geography', fullyQualifiedName='Constances-Geography.hospitals_in_france.Geography', description=Markdown(root='In this schema, we group all tables which contain geographical information of hospitals in France'), displayName='Geography', deleted=False, inherited=None, href=Href(root=AnyUrl('http://localhost:8585/v1/databaseSchemas/8fc3cb68-57f3-43e2-8ea0-fac897267ea9'))), database=EntityReference(id=Uuid(root=UUID('f3c8ee64-efcc-40f6-a491-db9ae0d5d312')), type='database', name='hospitals_in_france', fullyQualifiedName='Constances-Geography.hospitals_in_france', description=Markdown(root='In this database, we store all tables which contain geographical information in Constances'), displayName='hospitals_in_france', deleted=False, inherited=None, href=Href(root=AnyUrl('http://localhost:8585/v1/databases/f3c8ee64-efcc-40f6-a491-db9ae0d5d312'))), service=EntityReference(id=Uuid(root=UUID('5b909ac1-16bc-4521-a7ef-dccdf1edcb5a')), type='databaseService', name='Constances-Geography', fullyQualifiedName='Constances-Geography', description=Markdown(root='This database service stores all geography databases of INSERM'), displayName='Constances-Geography', deleted=False, inherited=None, href=Href(root=AnyUrl('http://localhost:8585/v1/services/databaseServices/5b909ac1-16bc-4521-a7ef-dccdf1edcb5a'))), serviceType=<DatabaseServiceType.Mysql: 'Mysql'>, location=None, locationPath=None, schemaDefinition=None, tags=[TagLabel(tagFQN=TagFQN(root='SecurityLevel.Secret'), name='Secret', displayName='Secret', description=Markdown(root='Secret material would cause `serious damage` to national security if it were publicly available'), style=None, source=<TagSource.Classification: 'Classification'>, labelType=<LabelType.Automated: 'Automated'>, state=<State.Suggested: 'Suggested'>, href=None)], usageSummary=None, followers=EntityReferenceList(root=[]), joins=None, sampleData=None, tableProfilerConfig=None, customMetrics=None, profile=None, testSuite=None, dataModel=None, changeDescription=ChangeDescription(fieldsAdded=[FieldChange(name=FieldName(root='tags'), oldValue=None, newValue='[{\"tagFQN\":\"SecurityLevel.Secret\",\"name\":\"Secret\",\"displayName\":\"Secret\",\"description\":\"Secret material would cause `serious damage` to national security if it were publicly available\",\"source\":\"Classification\",\"labelType\":\"Automated\",\"state\":\"Suggested\"},{\"tagFQN\":\"SecurityLevel.Secret\",\"name\":\"Secret\",\"displayName\":\"Secret\",\"description\":\"Secret material would cause `serious damage` to national security if it were publicly available\",\"source\":\"Classification\",\"labelType\":\"Automated\",\"state\":\"Suggested\"}]')], fieldsUpdated=[], fieldsDeleted=[], previousVersion=EntityVersion(root=0.1), changeSummary=ChangeSummaryModel(root={})), incrementalChangeDescription=ChangeDescription(fieldsAdded=[FieldChange(name=FieldName(root='tags'), oldValue=None, newValue='[{\"tagFQN\":\"SecurityLevel.Secret\",\"name\":\"Secret\",\"displayName\":\"Secret\",\"description\":\"Secret material would cause `serious damage` to national security if it were publicly available\",\"source\":\"Classification\",\"labelType\":\"Automated\",\"state\":\"Suggested\"},{\"tagFQN\":\"SecurityLevel.Secret\",\"name\":\"Secret\",\"displayName\":\"Secret\",\"description\":\"Secret material would cause `serious damage` to national security if it were publicly available\",\"source\":\"Classification\",\"labelType\":\"Automated\",\"state\":\"Suggested\"}]')], fieldsUpdated=[], fieldsDeleted=[], previousVersion=EntityVersion(root=0.1), changeSummary=ChangeSummaryModel(root={})), deleted=False, retentionPeriod=None, extension=None, sourceUrl=None, domains=EntityReferenceList(root=[]), dataProducts=EntityReferenceList(root=[]), fileFormat=None, votes=Votes(upVotes=0, downVotes=0, upVoters=EntityReferenceList(root=[]), downVoters=EntityReferenceList(root=[])), lifeCycle=None, certification=None, sourceHash=None, processedLineage=False, queries=None)"
      ]
     },
     "execution_count": 17,
     "metadata": {},
     "output_type": "execute_result"
    }
   ],
   "execution_count": 17
  },
  {
   "metadata": {},
   "cell_type": "markdown",
   "source": [
    "## 2. Glossary and terms\n",
    "\n",
    "Glossary(nomenclature)/term helps us to unifier definition of vocabulary across the organization, and make sure `everyone agrees on what a concept means`.\n",
    "\n",
    "Like the tags, we need to two steps:\n",
    "1. Define and insert glossary/term into OM\n",
    "2. Associate term to an entity(e.g. Table, column)\n",
    "\n",
    "\n",
    "### 2.1 Define and insert the glossary\n",
    "\n",
    "Suppose we have two terms\n",
    "- geometry_type: The description of possible type values in a geometry column\n",
    "- code_insee: The administrative code of a French commune issued by INSEE\n",
    "\n",
    "We also want to give all the possible values, such as:\n",
    "\n",
    "| geo_type   | description                                                     |\n",
    "|:-----------|:----------------------------------------------------------------|\n",
    "| point      | A pair of (latitude, longitude) which represent the geolocation |\n",
    "| line       | A list of points which represent a line                         |\n",
    "| polygon    | A list of points which represent a polygone                     |\n",
    "\n",
    "|   insee_code | commune_name   |\n",
    "|-------------:|:---------------|\n",
    "|            1 | toto           |\n",
    "|            2 | titi           |\n",
    "|            3 | tata           |\"\n",
    "\n",
    "\n",
    "\n",
    "For now(09-2025), **the python-sdk does not support nomenclature ingestion**. We have not found api too. The official doc for ingesting glossary and terms is [here](https://docs.open-metadata.org/latest/how-to-guides/data-governance/glossary/import). So we will `load the glossary term via OM GUI`. The goal is:\n",
    "\n",
    "1. Create a glossary called `constances_geo_terms`\n",
    "2. Create the two terms `geometry_type` and `code_insee` in glossary `constances_geo_terms`\n",
    "\n",
    "> As the python sdk does not support this functionality. We need to use the web GUI."
   ],
   "id": "5fa242434e9a4780"
  },
  {
   "metadata": {},
   "cell_type": "code",
   "outputs": [],
   "execution_count": null,
   "source": "",
   "id": "97d6cd7f42b11bf7"
  },
  {
   "metadata": {},
   "cell_type": "markdown",
   "source": [
    "## 3. Link terms to target entity\n",
    "\n",
    "The terms in the glossary have been created, now we need to associate the terms with matched columns.\n",
    "\n",
    "> if you have already deleted the database to the domain constances, you also need to move the glossary to the domain constances. Otherwise, you can not associate the term with the target columns.\n",
    "\n",
    "### 3.1 Link terms to a table\n",
    "\n",
    "In the below example, we will Link the term `geometry_type` to the table `hospitals_in_communes`"
   ],
   "id": "96e444eb37031d3e"
  },
  {
   "metadata": {
    "ExecuteTime": {
     "end_time": "2025-09-11T11:58:30.798702Z",
     "start_time": "2025-09-11T11:58:30.794520Z"
    }
   },
   "cell_type": "code",
   "source": [
    "glossary_name = \"constances_geo_terms\"\n",
    "geo_term_name = \"geometry_type\"\n",
    "insee_term_name = \"code_insee\""
   ],
   "id": "30360bf75e069c88",
   "outputs": [],
   "execution_count": 22
  },
  {
   "metadata": {
    "ExecuteTime": {
     "end_time": "2025-09-11T11:58:31.269001Z",
     "start_time": "2025-09-11T11:58:31.261476Z"
    }
   },
   "cell_type": "code",
   "source": [
    "from metadata.generated.schema.entity.data.glossaryTerm import GlossaryTerm\n",
    "def get_glossary_term_by_fqn(om_conn, term_fqn: str) -> GlossaryTerm:\n",
    "    \"\"\"\n",
    "    This function takes a term fully qualified name and returns a corresponding term entity. If the target term does\n",
    "    not exist or not valid, return None.\n",
    "    :param om_conn:\n",
    "    :type om_conn:\n",
    "    :param term_fqn:\n",
    "    :type term_fqn:\n",
    "    :return:\n",
    "    :rtype:\n",
    "    \"\"\"\n",
    "    try:\n",
    "        term_entity = om_conn.get_by_name(entity=GlossaryTerm, fqn=term_fqn)\n",
    "    except Exception as e:\n",
    "        print(f\"Can not find the target term, or the term is not valid: {e}\")\n",
    "        raise\n",
    "    return term_entity"
   ],
   "id": "7b35d20b1d6004ab",
   "outputs": [],
   "execution_count": 23
  },
  {
   "metadata": {
    "ExecuteTime": {
     "end_time": "2025-09-11T11:58:32.044328Z",
     "start_time": "2025-09-11T11:58:31.994586Z"
    }
   },
   "cell_type": "code",
   "source": [
    "\n",
    "insee_term_entity= get_glossary_term_by_fqn(om_conn,f\"{glossary_name}.{insee_term_name}\")\n",
    "print(insee_term_entity)"
   ],
   "id": "aaf8d16daaf06251",
   "outputs": [
    {
     "name": "stdout",
     "output_type": "stream",
     "text": [
      "id=Uuid(root=UUID('67da81ea-7942-4610-a895-d21ea679f04d')) name=EntityName(root='code_insee') displayName='code_insee' description=Markdown(root='<p>The administrative code of a French commune issued by INSEE</p><p>| insee_code | commune_name |</p><p>|-------------:|:---------------|</p><p>| 1 | toto |</p><p>| 2 | titi |</p><p>| 3 | tata |</p><p></p><p></p>') style=Style(color=None, iconURL=None) fullyQualifiedName=FullyQualifiedEntityName(root='constances_geo_terms.code_insee') synonyms=[] glossary=EntityReference(id=Uuid(root=UUID('354c661a-bf2d-4f19-9fe6-2436f62738ee')), type='glossary', name='constances_geo_terms', fullyQualifiedName='constances_geo_terms', description=Markdown(root='<p>This glossary is for constances geospatial dataset</p>'), displayName='constances_geo_terms', deleted=False, inherited=None, href=Href(root=AnyUrl('http://localhost:8585/v1/glossaries/354c661a-bf2d-4f19-9fe6-2436f62738ee'))) parent=None children=None relatedTerms=None references=[] version=EntityVersion(root=0.2) updatedAt=Timestamp(root=1757430199844) updatedBy='liu.pengfei' href=Href(root=AnyUrl('http://localhost:8585/v1/glossaryTerms/67da81ea-7942-4610-a895-d21ea679f04d')) reviewers=None owners=None usageCount=None tags=[] changeDescription=ChangeDescription(fieldsAdded=[], fieldsUpdated=[FieldChange(name=FieldName(root='description'), oldValue='<pre><code>The administrative code of a french commune issued by INSEE\\n |   insee_code | commune_name   |\\n|-------------:|:---------------|\\n|            1 | toto           |\\n|            2 | titi           |\\n|            3 | tata           |</code></pre><p></p>', newValue='<p>The administrative code of a French commune issued by INSEE</p><p>| insee_code | commune_name |</p><p>|-------------:|:---------------|</p><p>| 1 | toto |</p><p>| 2 | titi |</p><p>| 3 | tata |</p><p></p><p></p>')], fieldsDeleted=[], previousVersion=EntityVersion(root=0.1), changeSummary=ChangeSummaryModel(root={})) incrementalChangeDescription=ChangeDescription(fieldsAdded=[], fieldsUpdated=[FieldChange(name=FieldName(root='description'), oldValue='<p>The administrative code of a French commune issued by INSEE </p><p>| insee_code | commune_name |</p><p>|-------------:|:---------------| </p><p>| 1 | toto |</p><p>| 2 | titi |</p><p>| 3 | tata |</p><p></p>', newValue='<p>The administrative code of a French commune issued by INSEE</p><p>| insee_code | commune_name |</p><p>|-------------:|:---------------|</p><p>| 1 | toto |</p><p>| 2 | titi |</p><p>| 3 | tata |</p><p></p><p></p>')], fieldsDeleted=[], previousVersion=EntityVersion(root=0.2), changeSummary=ChangeSummaryModel(root={})) status=<Status.Approved: 'Approved'> deleted=False provider=<ProviderType.user: 'user'> disabled=None mutuallyExclusive=False extension=None domains=None dataProducts=None votes=None childrenCount=None\n"
     ]
    }
   ],
   "execution_count": 24
  },
  {
   "metadata": {
    "ExecuteTime": {
     "end_time": "2025-09-11T11:59:19.874904Z",
     "start_time": "2025-09-11T11:59:19.833654Z"
    }
   },
   "cell_type": "code",
   "source": [
    "# get the table entity to tag them after\n",
    "hic_table_name = \"hospitals_in_communes\"\n",
    "hospitals_in_communes_fqn = f\"{DB_SERVICE_NAME}.{DB_NAME}.{SCHEMA_NAME}.{hic_table_name}\"\n",
    "hospitals_in_communes_table_entity = get_table_entity_by_name(om_conn, hospitals_in_communes_fqn)\n",
    "print(hospitals_in_communes_table_entity)"
   ],
   "id": "e6219cd28331d395",
   "outputs": [
    {
     "name": "stdout",
     "output_type": "stream",
     "text": [
      "id=Uuid(root=UUID('855c4ae4-20e8-4ce6-96f9-94a36f03e2cf')) name=EntityName(root='hospitals_in_communes') displayName=None fullyQualifiedName=FullyQualifiedEntityName(root='Constances-Geography.hospitals_in_france.Geography.hospitals_in_communes') description=Markdown(root='This table contains the number of hospitals in each communes') version=EntityVersion(root=0.2) updatedAt=Timestamp(root=1757590379233) updatedBy='ingestion-bot' href=Href(root=AnyUrl('http://localhost:8585/v1/tables/855c4ae4-20e8-4ce6-96f9-94a36f03e2cf')) tableType=None columns=[Column(name=ColumnName(root='name'), displayName=None, dataType=<DataType.STRING: 'STRING'>, arrayDataType=None, dataLength=26, precision=None, scale=None, dataTypeDisplay='string(26)', description=Markdown(root='name of the commune and all letters are in lower case'), fullyQualifiedName=FullyQualifiedEntityName(root='Constances-Geography.hospitals_in_france.Geography.hospitals_in_communes.name'), tags=[], constraint=None, ordinalPosition=None, jsonSchema=None, children=[], profile=None, customMetrics=None), Column(name=ColumnName(root='geometry'), displayName=None, dataType=<DataType.GEOMETRY: 'GEOMETRY'>, arrayDataType=None, dataLength=18, precision=None, scale=None, dataTypeDisplay='geometry(18)', description=Markdown(root='geo location of the commune in a polygon form'), fullyQualifiedName=FullyQualifiedEntityName(root='Constances-Geography.hospitals_in_france.Geography.hospitals_in_communes.geometry'), tags=[], constraint=None, ordinalPosition=None, jsonSchema=None, children=[], profile=None, customMetrics=None), Column(name=ColumnName(root='hospital_count'), displayName=None, dataType=<DataType.INT: 'INT'>, arrayDataType=None, dataLength=3, precision=None, scale=None, dataTypeDisplay='int(3)', description=Markdown(root='the number of hospitals inside the commune'), fullyQualifiedName=FullyQualifiedEntityName(root='Constances-Geography.hospitals_in_france.Geography.hospitals_in_communes.hospital_count'), tags=[], constraint=None, ordinalPosition=None, jsonSchema=None, children=[], profile=None, customMetrics=None)] tableConstraints=None tablePartition=None owners=None databaseSchema=EntityReference(id=Uuid(root=UUID('8fc3cb68-57f3-43e2-8ea0-fac897267ea9')), type='databaseSchema', name='Geography', fullyQualifiedName='Constances-Geography.hospitals_in_france.Geography', description=Markdown(root='In this schema, we group all tables which contain geographical information of hospitals in France'), displayName='Geography', deleted=False, inherited=None, href=Href(root=AnyUrl('http://localhost:8585/v1/databaseSchemas/8fc3cb68-57f3-43e2-8ea0-fac897267ea9'))) database=EntityReference(id=Uuid(root=UUID('f3c8ee64-efcc-40f6-a491-db9ae0d5d312')), type='database', name='hospitals_in_france', fullyQualifiedName='Constances-Geography.hospitals_in_france', description=Markdown(root='In this database, we store all tables which contain geographical information in Constances'), displayName='hospitals_in_france', deleted=False, inherited=None, href=Href(root=AnyUrl('http://localhost:8585/v1/databases/f3c8ee64-efcc-40f6-a491-db9ae0d5d312'))) service=EntityReference(id=Uuid(root=UUID('5b909ac1-16bc-4521-a7ef-dccdf1edcb5a')), type='databaseService', name='Constances-Geography', fullyQualifiedName='Constances-Geography', description=Markdown(root='This database service stores all geography databases of INSERM'), displayName='Constances-Geography', deleted=False, inherited=None, href=Href(root=AnyUrl('http://localhost:8585/v1/services/databaseServices/5b909ac1-16bc-4521-a7ef-dccdf1edcb5a'))) serviceType=<DatabaseServiceType.Mysql: 'Mysql'> location=None locationPath=None schemaDefinition=None tags=None usageSummary=None followers=None joins=None sampleData=None tableProfilerConfig=None customMetrics=None profile=None testSuite=None dataModel=None changeDescription=ChangeDescription(fieldsAdded=[FieldChange(name=FieldName(root='tags'), oldValue=None, newValue='[{\"tagFQN\":\"SecurityLevel.Secret\",\"name\":\"Secret\",\"displayName\":\"Secret\",\"description\":\"Secret material would cause `serious damage` to national security if it were publicly available\",\"source\":\"Classification\",\"labelType\":\"Automated\",\"state\":\"Suggested\"},{\"tagFQN\":\"SecurityLevel.Secret\",\"name\":\"Secret\",\"displayName\":\"Secret\",\"description\":\"Secret material would cause `serious damage` to national security if it were publicly available\",\"source\":\"Classification\",\"labelType\":\"Automated\",\"state\":\"Suggested\"}]')], fieldsUpdated=[], fieldsDeleted=[], previousVersion=EntityVersion(root=0.1), changeSummary=ChangeSummaryModel(root={})) incrementalChangeDescription=ChangeDescription(fieldsAdded=[FieldChange(name=FieldName(root='tags'), oldValue=None, newValue='[{\"tagFQN\":\"SecurityLevel.Secret\",\"name\":\"Secret\",\"displayName\":\"Secret\",\"description\":\"Secret material would cause `serious damage` to national security if it were publicly available\",\"source\":\"Classification\",\"labelType\":\"Automated\",\"state\":\"Suggested\"},{\"tagFQN\":\"SecurityLevel.Secret\",\"name\":\"Secret\",\"displayName\":\"Secret\",\"description\":\"Secret material would cause `serious damage` to national security if it were publicly available\",\"source\":\"Classification\",\"labelType\":\"Automated\",\"state\":\"Suggested\"}]')], fieldsUpdated=[], fieldsDeleted=[], previousVersion=EntityVersion(root=0.1), changeSummary=ChangeSummaryModel(root={})) deleted=False retentionPeriod=None extension=None sourceUrl=None domains=None dataProducts=None fileFormat=None votes=None lifeCycle=None certification=None sourceHash=None processedLineage=False queries=None\n"
     ]
    }
   ],
   "execution_count": 25
  },
  {
   "metadata": {
    "ExecuteTime": {
     "end_time": "2025-09-11T12:05:07.336316Z",
     "start_time": "2025-09-11T12:05:07.180322Z"
    }
   },
   "cell_type": "code",
   "source": [
    "geo_term_label=TagLabel(tagFQN=f\"{glossary_name}.{geo_term_name}\",source=TagSource.Glossary,  state=State.Confirmed, labelType=LabelType.Manual,)\n",
    "om_conn.patch_tags(\n",
    "    entity=Table,\n",
    "    source=hospitals_in_communes_table_entity,\n",
    "    tag_labels=[geo_term_label],\n",
    "    operation=PatchOperation.ADD\n",
    ")"
   ],
   "id": "1f387315ea502065",
   "outputs": [
    {
     "data": {
      "text/plain": [
       "Table(id=Uuid(root=UUID('855c4ae4-20e8-4ce6-96f9-94a36f03e2cf')), name=EntityName(root='hospitals_in_communes'), displayName=None, fullyQualifiedName=FullyQualifiedEntityName(root='Constances-Geography.hospitals_in_france.Geography.hospitals_in_communes'), description=Markdown(root='This table contains the number of hospitals in each communes'), version=EntityVersion(root=0.3), updatedAt=Timestamp(root=1757592307286), updatedBy='ingestion-bot', href=Href(root=AnyUrl('http://localhost:8585/v1/tables/855c4ae4-20e8-4ce6-96f9-94a36f03e2cf')), tableType=None, columns=[Column(name=ColumnName(root='name'), displayName=None, dataType=<DataType.STRING: 'STRING'>, arrayDataType=None, dataLength=26, precision=None, scale=None, dataTypeDisplay='string(26)', description=Markdown(root='name of the commune and all letters are in lower case'), fullyQualifiedName=FullyQualifiedEntityName(root='Constances-Geography.hospitals_in_france.Geography.hospitals_in_communes.name'), tags=[], constraint=None, ordinalPosition=None, jsonSchema=None, children=[], profile=None, customMetrics=None), Column(name=ColumnName(root='geometry'), displayName=None, dataType=<DataType.GEOMETRY: 'GEOMETRY'>, arrayDataType=None, dataLength=18, precision=None, scale=None, dataTypeDisplay='geometry(18)', description=Markdown(root='geo location of the commune in a polygon form'), fullyQualifiedName=FullyQualifiedEntityName(root='Constances-Geography.hospitals_in_france.Geography.hospitals_in_communes.geometry'), tags=[], constraint=None, ordinalPosition=None, jsonSchema=None, children=[], profile=None, customMetrics=None), Column(name=ColumnName(root='hospital_count'), displayName=None, dataType=<DataType.INT: 'INT'>, arrayDataType=None, dataLength=3, precision=None, scale=None, dataTypeDisplay='int(3)', description=Markdown(root='the number of hospitals inside the commune'), fullyQualifiedName=FullyQualifiedEntityName(root='Constances-Geography.hospitals_in_france.Geography.hospitals_in_communes.hospital_count'), tags=[], constraint=None, ordinalPosition=None, jsonSchema=None, children=[], profile=None, customMetrics=None)], tableConstraints=None, tablePartition=None, owners=EntityReferenceList(root=[]), databaseSchema=EntityReference(id=Uuid(root=UUID('8fc3cb68-57f3-43e2-8ea0-fac897267ea9')), type='databaseSchema', name='Geography', fullyQualifiedName='Constances-Geography.hospitals_in_france.Geography', description=Markdown(root='In this schema, we group all tables which contain geographical information of hospitals in France'), displayName='Geography', deleted=False, inherited=None, href=Href(root=AnyUrl('http://localhost:8585/v1/databaseSchemas/8fc3cb68-57f3-43e2-8ea0-fac897267ea9'))), database=EntityReference(id=Uuid(root=UUID('f3c8ee64-efcc-40f6-a491-db9ae0d5d312')), type='database', name='hospitals_in_france', fullyQualifiedName='Constances-Geography.hospitals_in_france', description=Markdown(root='In this database, we store all tables which contain geographical information in Constances'), displayName='hospitals_in_france', deleted=False, inherited=None, href=Href(root=AnyUrl('http://localhost:8585/v1/databases/f3c8ee64-efcc-40f6-a491-db9ae0d5d312'))), service=EntityReference(id=Uuid(root=UUID('5b909ac1-16bc-4521-a7ef-dccdf1edcb5a')), type='databaseService', name='Constances-Geography', fullyQualifiedName='Constances-Geography', description=Markdown(root='This database service stores all geography databases of INSERM'), displayName='Constances-Geography', deleted=False, inherited=None, href=Href(root=AnyUrl('http://localhost:8585/v1/services/databaseServices/5b909ac1-16bc-4521-a7ef-dccdf1edcb5a'))), serviceType=<DatabaseServiceType.Mysql: 'Mysql'>, location=None, locationPath=None, schemaDefinition=None, tags=[TagLabel(tagFQN=TagFQN(root='SecurityLevel.Secret'), name='Secret', displayName='Secret', description=Markdown(root='Secret material would cause `serious damage` to national security if it were publicly available'), style=None, source=<TagSource.Classification: 'Classification'>, labelType=<LabelType.Automated: 'Automated'>, state=<State.Suggested: 'Suggested'>, href=None), TagLabel(tagFQN=TagFQN(root='constances_geo_terms.geometry_type'), name='geometry_type', displayName='geometry_type', description=Markdown(root='<pre><code>The description of possible type values in a geometry column\\n | geo_type   | description                                                     |\\n|:-----------|:----------------------------------------------------------------|\\n| point      | A pair of (latitude, longitude) which represent the geolocation |\\n| line       | A list of points which represent a line                         |\\n| polygon    | A list of points which represent a polygone                     |</code></pre><p></p>'), style=Style(color=None, iconURL=None), source=<TagSource.Glossary: 'Glossary'>, labelType=<LabelType.Manual: 'Manual'>, state=<State.Confirmed: 'Confirmed'>, href=None)], usageSummary=None, followers=EntityReferenceList(root=[]), joins=None, sampleData=None, tableProfilerConfig=None, customMetrics=None, profile=None, testSuite=None, dataModel=None, changeDescription=ChangeDescription(fieldsAdded=[FieldChange(name=FieldName(root='tags'), oldValue=None, newValue='[{\"tagFQN\":\"constances_geo_terms.geometry_type\",\"name\":\"geometry_type\",\"displayName\":\"geometry_type\",\"description\":\"<pre><code>The description of possible type values in a geometry column\\\\n | geo_type   | description                                                     |\\\\n|:-----------|:----------------------------------------------------------------|\\\\n| point      | A pair of (latitude, longitude) which represent the geolocation |\\\\n| line       | A list of points which represent a line                         |\\\\n| polygon    | A list of points which represent a polygone                     |</code></pre><p></p>\",\"style\":{},\"source\":\"Glossary\",\"labelType\":\"Manual\",\"state\":\"Confirmed\"},{\"tagFQN\":\"constances_geo_terms.geometry_type\",\"name\":\"geometry_type\",\"displayName\":\"geometry_type\",\"description\":\"<pre><code>The description of possible type values in a geometry column\\\\n | geo_type   | description                                                     |\\\\n|:-----------|:----------------------------------------------------------------|\\\\n| point      | A pair of (latitude, longitude) which represent the geolocation |\\\\n| line       | A list of points which represent a line                         |\\\\n| polygon    | A list of points which represent a polygone                     |</code></pre><p></p>\",\"style\":{},\"source\":\"Glossary\",\"labelType\":\"Manual\",\"state\":\"Confirmed\"}]')], fieldsUpdated=[], fieldsDeleted=[], previousVersion=EntityVersion(root=0.2), changeSummary=ChangeSummaryModel(root={})), incrementalChangeDescription=ChangeDescription(fieldsAdded=[FieldChange(name=FieldName(root='tags'), oldValue=None, newValue='[{\"tagFQN\":\"constances_geo_terms.geometry_type\",\"name\":\"geometry_type\",\"displayName\":\"geometry_type\",\"description\":\"<pre><code>The description of possible type values in a geometry column\\\\n | geo_type   | description                                                     |\\\\n|:-----------|:----------------------------------------------------------------|\\\\n| point      | A pair of (latitude, longitude) which represent the geolocation |\\\\n| line       | A list of points which represent a line                         |\\\\n| polygon    | A list of points which represent a polygone                     |</code></pre><p></p>\",\"style\":{},\"source\":\"Glossary\",\"labelType\":\"Manual\",\"state\":\"Confirmed\"},{\"tagFQN\":\"constances_geo_terms.geometry_type\",\"name\":\"geometry_type\",\"displayName\":\"geometry_type\",\"description\":\"<pre><code>The description of possible type values in a geometry column\\\\n | geo_type   | description                                                     |\\\\n|:-----------|:----------------------------------------------------------------|\\\\n| point      | A pair of (latitude, longitude) which represent the geolocation |\\\\n| line       | A list of points which represent a line                         |\\\\n| polygon    | A list of points which represent a polygone                     |</code></pre><p></p>\",\"style\":{},\"source\":\"Glossary\",\"labelType\":\"Manual\",\"state\":\"Confirmed\"}]')], fieldsUpdated=[], fieldsDeleted=[], previousVersion=EntityVersion(root=0.2), changeSummary=ChangeSummaryModel(root={})), deleted=False, retentionPeriod=None, extension=None, sourceUrl=None, domains=EntityReferenceList(root=[]), dataProducts=EntityReferenceList(root=[]), fileFormat=None, votes=Votes(upVotes=0, downVotes=0, upVoters=EntityReferenceList(root=[]), downVoters=EntityReferenceList(root=[])), lifeCycle=None, certification=None, sourceHash=None, processedLineage=False, queries=None)"
      ]
     },
     "execution_count": 27,
     "metadata": {},
     "output_type": "execute_result"
    }
   ],
   "execution_count": 27
  },
  {
   "metadata": {
    "ExecuteTime": {
     "end_time": "2025-09-09T14:58:11.200012Z",
     "start_time": "2025-09-09T14:58:11.190150Z"
    }
   },
   "cell_type": "markdown",
   "source": [
    "### 3.2 Link tags and terms to a column\n",
    "\n",
    "Now we want to link:\n",
    "- term `geometry_type`\n",
    "- tag `TopSecret`\n",
    "to the column `geometry` of table `hospitals_in_communes`"
   ],
   "id": "5e12c2ea6b8b4cd4"
  },
  {
   "metadata": {
    "ExecuteTime": {
     "end_time": "2025-09-11T13:09:12.075049Z",
     "start_time": "2025-09-11T13:09:11.882480Z"
    }
   },
   "cell_type": "code",
   "source": [
    "geo_column_name = \"geometry\"\n",
    "geo_column_fqn = f\"{hospitals_in_communes_fqn}.{geo_column_name}\"\n",
    "# create a column tag for column geometry and term geometry_type\n",
    "geo_col_geo_term=ColumnTag(column_fqn=geo_column_fqn,tag_label=geo_term_label)\n",
    "# create a column tag for column geometry and tag TopSecret\n",
    "geo_col_ts_tag=ColumnTag(column_fqn=geo_column_fqn,tag_label=ts_tag_label)\n",
    "\n",
    "om_conn.patch_column_tags(table=hospitals_in_communes_table_entity,\n",
    "                          column_tags=[geo_col_geo_term,geo_col_ts_tag],\n",
    "                          operation=PatchOperation.ADD,)"
   ],
   "id": "3c2f9e1cf8f3db73",
   "outputs": [
    {
     "data": {
      "text/plain": [
       "Table(id=Uuid(root=UUID('855c4ae4-20e8-4ce6-96f9-94a36f03e2cf')), name=EntityName(root='hospitals_in_communes'), displayName=None, fullyQualifiedName=FullyQualifiedEntityName(root='Constances-Geography.hospitals_in_france.Geography.hospitals_in_communes'), description=Markdown(root='This table contains the number of hospitals in each communes'), version=EntityVersion(root=0.4), updatedAt=Timestamp(root=1757596151985), updatedBy='ingestion-bot', href=Href(root=AnyUrl('http://localhost:8585/v1/tables/855c4ae4-20e8-4ce6-96f9-94a36f03e2cf')), tableType=None, columns=[Column(name=ColumnName(root='name'), displayName=None, dataType=<DataType.STRING: 'STRING'>, arrayDataType=None, dataLength=26, precision=None, scale=None, dataTypeDisplay='string(26)', description=Markdown(root='name of the commune and all letters are in lower case'), fullyQualifiedName=FullyQualifiedEntityName(root='Constances-Geography.hospitals_in_france.Geography.hospitals_in_communes.name'), tags=[], constraint=None, ordinalPosition=None, jsonSchema=None, children=[], profile=None, customMetrics=None), Column(name=ColumnName(root='geometry'), displayName=None, dataType=<DataType.GEOMETRY: 'GEOMETRY'>, arrayDataType=None, dataLength=18, precision=None, scale=None, dataTypeDisplay='geometry(18)', description=Markdown(root='geo location of the commune in a polygon form'), fullyQualifiedName=FullyQualifiedEntityName(root='Constances-Geography.hospitals_in_france.Geography.hospitals_in_communes.geometry'), tags=[TagLabel(tagFQN=TagFQN(root='SecurityLevel.Secret'), name='Secret', displayName='Secret', description=Markdown(root='Secret material would cause `serious damage` to national security if it were publicly available'), style=None, source=<TagSource.Classification: 'Classification'>, labelType=<LabelType.Automated: 'Automated'>, state=<State.Suggested: 'Suggested'>, href=None), TagLabel(tagFQN=TagFQN(root='constances_geo_terms.geometry_type'), name='geometry_type', displayName='geometry_type', description=Markdown(root='<p>The description of possible type values in a geometry column.</p><p> | geo_type | description | </p><p>|:-----------|:----------------------------------------------------------------| </p><p>| point | A pair of (latitude, longitude) which represent the geolocation | </p><p>| line | A list of points which represent a line | </p><p>| polygon | A list of points which represent a polygone |</p><p></p>'), style=Style(color=None, iconURL=None), source=<TagSource.Glossary: 'Glossary'>, labelType=<LabelType.Manual: 'Manual'>, state=<State.Confirmed: 'Confirmed'>, href=None)], constraint=None, ordinalPosition=None, jsonSchema=None, children=[], profile=None, customMetrics=None), Column(name=ColumnName(root='hospital_count'), displayName=None, dataType=<DataType.INT: 'INT'>, arrayDataType=None, dataLength=3, precision=None, scale=None, dataTypeDisplay='int(3)', description=Markdown(root='the number of hospitals inside the commune'), fullyQualifiedName=FullyQualifiedEntityName(root='Constances-Geography.hospitals_in_france.Geography.hospitals_in_communes.hospital_count'), tags=[], constraint=None, ordinalPosition=None, jsonSchema=None, children=[], profile=None, customMetrics=None)], tableConstraints=None, tablePartition=None, owners=EntityReferenceList(root=[]), databaseSchema=EntityReference(id=Uuid(root=UUID('8fc3cb68-57f3-43e2-8ea0-fac897267ea9')), type='databaseSchema', name='Geography', fullyQualifiedName='Constances-Geography.hospitals_in_france.Geography', description=Markdown(root='In this schema, we group all tables which contain geographical information of hospitals in France'), displayName='Geography', deleted=False, inherited=None, href=Href(root=AnyUrl('http://localhost:8585/v1/databaseSchemas/8fc3cb68-57f3-43e2-8ea0-fac897267ea9'))), database=EntityReference(id=Uuid(root=UUID('f3c8ee64-efcc-40f6-a491-db9ae0d5d312')), type='database', name='hospitals_in_france', fullyQualifiedName='Constances-Geography.hospitals_in_france', description=Markdown(root='In this database, we store all tables which contain geographical information in Constances'), displayName='hospitals_in_france', deleted=False, inherited=None, href=Href(root=AnyUrl('http://localhost:8585/v1/databases/f3c8ee64-efcc-40f6-a491-db9ae0d5d312'))), service=EntityReference(id=Uuid(root=UUID('5b909ac1-16bc-4521-a7ef-dccdf1edcb5a')), type='databaseService', name='Constances-Geography', fullyQualifiedName='Constances-Geography', description=Markdown(root='This database service stores all geography databases of INSERM'), displayName='Constances-Geography', deleted=False, inherited=None, href=Href(root=AnyUrl('http://localhost:8585/v1/services/databaseServices/5b909ac1-16bc-4521-a7ef-dccdf1edcb5a'))), serviceType=<DatabaseServiceType.Mysql: 'Mysql'>, location=None, locationPath=None, schemaDefinition=None, tags=[TagLabel(tagFQN=TagFQN(root='SecurityLevel.Secret'), name='Secret', displayName='Secret', description=Markdown(root='Secret material would cause `serious damage` to national security if it were publicly available'), style=None, source=<TagSource.Classification: 'Classification'>, labelType=<LabelType.Automated: 'Automated'>, state=<State.Suggested: 'Suggested'>, href=None), TagLabel(tagFQN=TagFQN(root='constances_geo_terms.geometry_type'), name='geometry_type', displayName='geometry_type', description=Markdown(root='<p>The description of possible type values in a geometry column.</p><p> | geo_type | description | </p><p>|:-----------|:----------------------------------------------------------------| </p><p>| point | A pair of (latitude, longitude) which represent the geolocation | </p><p>| line | A list of points which represent a line | </p><p>| polygon | A list of points which represent a polygone |</p><p></p>'), style=Style(color=None, iconURL=None), source=<TagSource.Glossary: 'Glossary'>, labelType=<LabelType.Manual: 'Manual'>, state=<State.Confirmed: 'Confirmed'>, href=None)], usageSummary=None, followers=EntityReferenceList(root=[]), joins=None, sampleData=None, tableProfilerConfig=None, customMetrics=None, profile=None, testSuite=None, dataModel=None, changeDescription=ChangeDescription(fieldsAdded=[FieldChange(name=FieldName(root='columns.geometry.tags'), oldValue=None, newValue='[{\"tagFQN\":\"SecurityLevel.Secret\",\"name\":\"Secret\",\"displayName\":\"Secret\",\"description\":\"Secret material would cause `serious damage` to national security if it were publicly available\",\"source\":\"Classification\",\"labelType\":\"Automated\",\"state\":\"Suggested\"},{\"tagFQN\":\"constances_geo_terms.geometry_type\",\"name\":\"geometry_type\",\"displayName\":\"geometry_type\",\"description\":\"<p>The description of possible type values in a geometry column.</p><p> | geo_type | description | </p><p>|:-----------|:----------------------------------------------------------------| </p><p>| point | A pair of (latitude, longitude) which represent the geolocation | </p><p>| line | A list of points which represent a line | </p><p>| polygon | A list of points which represent a polygone |</p><p></p>\",\"style\":{},\"source\":\"Glossary\",\"labelType\":\"Manual\",\"state\":\"Confirmed\"},{\"tagFQN\":\"SecurityLevel.Secret\",\"name\":\"Secret\",\"displayName\":\"Secret\",\"description\":\"Secret material would cause `serious damage` to national security if it were publicly available\",\"source\":\"Classification\",\"labelType\":\"Automated\",\"state\":\"Suggested\"},{\"tagFQN\":\"constances_geo_terms.geometry_type\",\"name\":\"geometry_type\",\"displayName\":\"geometry_type\",\"description\":\"<p>The description of possible type values in a geometry column.</p><p> | geo_type | description | </p><p>|:-----------|:----------------------------------------------------------------| </p><p>| point | A pair of (latitude, longitude) which represent the geolocation | </p><p>| line | A list of points which represent a line | </p><p>| polygon | A list of points which represent a polygone |</p><p></p>\",\"style\":{},\"source\":\"Glossary\",\"labelType\":\"Manual\",\"state\":\"Confirmed\"}]')], fieldsUpdated=[], fieldsDeleted=[], previousVersion=EntityVersion(root=0.3), changeSummary=ChangeSummaryModel(root={})), incrementalChangeDescription=ChangeDescription(fieldsAdded=[FieldChange(name=FieldName(root='columns.geometry.tags'), oldValue=None, newValue='[{\"tagFQN\":\"SecurityLevel.Secret\",\"name\":\"Secret\",\"displayName\":\"Secret\",\"description\":\"Secret material would cause `serious damage` to national security if it were publicly available\",\"source\":\"Classification\",\"labelType\":\"Automated\",\"state\":\"Suggested\"},{\"tagFQN\":\"constances_geo_terms.geometry_type\",\"name\":\"geometry_type\",\"displayName\":\"geometry_type\",\"description\":\"<p>The description of possible type values in a geometry column.</p><p> | geo_type | description | </p><p>|:-----------|:----------------------------------------------------------------| </p><p>| point | A pair of (latitude, longitude) which represent the geolocation | </p><p>| line | A list of points which represent a line | </p><p>| polygon | A list of points which represent a polygone |</p><p></p>\",\"style\":{},\"source\":\"Glossary\",\"labelType\":\"Manual\",\"state\":\"Confirmed\"},{\"tagFQN\":\"SecurityLevel.Secret\",\"name\":\"Secret\",\"displayName\":\"Secret\",\"description\":\"Secret material would cause `serious damage` to national security if it were publicly available\",\"source\":\"Classification\",\"labelType\":\"Automated\",\"state\":\"Suggested\"},{\"tagFQN\":\"constances_geo_terms.geometry_type\",\"name\":\"geometry_type\",\"displayName\":\"geometry_type\",\"description\":\"<p>The description of possible type values in a geometry column.</p><p> | geo_type | description | </p><p>|:-----------|:----------------------------------------------------------------| </p><p>| point | A pair of (latitude, longitude) which represent the geolocation | </p><p>| line | A list of points which represent a line | </p><p>| polygon | A list of points which represent a polygone |</p><p></p>\",\"style\":{},\"source\":\"Glossary\",\"labelType\":\"Manual\",\"state\":\"Confirmed\"}]')], fieldsUpdated=[], fieldsDeleted=[], previousVersion=EntityVersion(root=0.3), changeSummary=ChangeSummaryModel(root={})), deleted=False, retentionPeriod=None, extension=None, sourceUrl=None, domains=EntityReferenceList(root=[]), dataProducts=EntityReferenceList(root=[]), fileFormat=None, votes=Votes(upVotes=0, downVotes=0, upVoters=EntityReferenceList(root=[]), downVoters=EntityReferenceList(root=[])), lifeCycle=None, certification=None, sourceHash=None, processedLineage=False, queries=None)"
      ]
     },
     "execution_count": 33,
     "metadata": {},
     "output_type": "execute_result"
    }
   ],
   "execution_count": 33
  },
  {
   "metadata": {},
   "cell_type": "code",
   "outputs": [],
   "execution_count": null,
   "source": "",
   "id": "41e9acb2dba8bfb9"
  },
  {
   "metadata": {},
   "cell_type": "code",
   "outputs": [],
   "execution_count": null,
   "source": "",
   "id": "a35bc79d3c8518f3"
  }
 ],
 "metadata": {
  "kernelspec": {
   "display_name": "Python 3",
   "language": "python",
   "name": "python3"
  },
  "language_info": {
   "codemirror_mode": {
    "name": "ipython",
    "version": 2
   },
   "file_extension": ".py",
   "mimetype": "text/x-python",
   "name": "python",
   "nbconvert_exporter": "python",
   "pygments_lexer": "ipython2",
   "version": "2.7.6"
  }
 },
 "nbformat": 4,
 "nbformat_minor": 5
}
