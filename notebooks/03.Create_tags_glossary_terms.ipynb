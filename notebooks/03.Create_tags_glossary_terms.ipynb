{
 "cells": [
  {
   "metadata": {
    "collapsed": true,
    "ExecuteTime": {
     "end_time": "2025-09-09T14:21:38.946648Z",
     "start_time": "2025-09-09T14:21:34.886802Z"
    }
   },
   "cell_type": "markdown",
   "source": [
    "# Tags, Glossary and terms\n",
    "\n",
    "In metadata management, we often add two more extra categories of metadata:\n",
    "- Classification/Tags(Labels): Provide flexible classification and annotation of data assets.\n",
    "- Glossary/Terms: Provide a unified vocabulary across the organization."
   ],
   "id": "c7c911e9b6326785"
  },
  {
   "metadata": {},
   "cell_type": "code",
   "outputs": [],
   "execution_count": null,
   "source": [
    "from typing import Dict\n",
    "\n",
    "from metadata.ingestion.ometa.ometa_api import OpenMetadata\n",
    "from metadata.generated.schema.entity.services.connections.metadata.openMetadataConnection import (\n",
    "    OpenMetadataConnection, AuthProvider)\n",
    "from metadata.generated.schema.security.client.openMetadataJWTClientConfig import OpenMetadataJWTClientConfig\n",
    "\n",
    "import chardet\n",
    "import pandas as pd\n",
    "\n",
    "from metadata.generated.schema.entity.data.table import Table\n",
    "from metadata.ingestion.ometa.mixins.patch_mixin_utils import PatchOperation\n",
    "from metadata.ingestion.models.table_metadata import ColumnTag\n",
    "from metadata.generated.schema.type.tagLabel import TagLabel, TagSource, State, LabelType"
   ],
   "id": "eca90e902d766e6c"
  },
  {
   "metadata": {
    "ExecuteTime": {
     "end_time": "2025-09-09T14:22:28.319687Z",
     "start_time": "2025-09-09T14:22:28.308042Z"
    }
   },
   "cell_type": "code",
   "source": [
    "# you need to modify this value to match your target open metadata server url\n",
    "target_om_server = \"http://om-dev.casd.local/api\""
   ],
   "id": "27672d7f3c576054",
   "outputs": [],
   "execution_count": 4
  },
  {
   "metadata": {
    "ExecuteTime": {
     "end_time": "2025-09-09T14:22:28.763733Z",
     "start_time": "2025-09-09T14:22:28.727127Z"
    }
   },
   "cell_type": "code",
   "source": [
    "from conf.creds import om_oidc_token\n",
    "\n",
    "server_config = OpenMetadataConnection(\n",
    "    hostPort=target_om_server,\n",
    "    authProvider=AuthProvider.openmetadata,\n",
    "    securityConfig=OpenMetadataJWTClientConfig(\n",
    "        jwtToken=om_oidc_token,\n",
    "    ),\n",
    ")\n",
    "om_conn = OpenMetadata(server_config)"
   ],
   "id": "192bc36f1c47ca26",
   "outputs": [],
   "execution_count": 5
  },
  {
   "metadata": {
    "ExecuteTime": {
     "end_time": "2025-09-09T14:22:29.430640Z",
     "start_time": "2025-09-09T14:22:29.413398Z"
    }
   },
   "cell_type": "code",
   "source": [
    "# if it returns true, it means the connection is success \n",
    "om_conn.health_check()"
   ],
   "id": "2fc5eb43e733ab55",
   "outputs": [
    {
     "data": {
      "text/plain": [
       "True"
      ]
     },
     "execution_count": 6,
     "metadata": {},
     "output_type": "execute_result"
    }
   ],
   "execution_count": 6
  },
  {
   "metadata": {
    "ExecuteTime": {
     "end_time": "2025-09-09T14:22:30.964533Z",
     "start_time": "2025-09-09T14:22:30.960522Z"
    }
   },
   "cell_type": "code",
   "source": [
    "import pathlib\n",
    "\n",
    "project_root = pathlib.Path.cwd().parent\n",
    "metadata_path = project_root / \"data\"\n",
    "\n",
    "print(metadata_path)"
   ],
   "id": "5f5f371ea159f126",
   "outputs": [
    {
     "name": "stdout",
     "output_type": "stream",
     "text": [
      "C:\\Users\\PLIU\\Documents\\git\\Seminare_data_catalog\\data\n"
     ]
    }
   ],
   "execution_count": 7
  },
  {
   "metadata": {},
   "cell_type": "markdown",
   "source": [
    "## 1. Classification and tags\n",
    "\n",
    "In Open Metadata, a `Classification entity` contains `hierarchical terms` called **tags** used for categorizing and classifying data assets and other entities.\n",
    "\n",
    "For example, in CASD, we value data security, so want to classify data with the below security level:\n",
    "- **TopSecret**: Such material would cause \"exceptionally grave damage\" to national security if made publicly available\n",
    "- **Secret**: Secret material would cause \"serious damage\" to national security if it were publicly available\n",
    "- **Confidential**: Confidential material would cause \"damage\" or be prejudicial to national security if publicly available\n",
    "- **Restricted**: Restricted material would cause \"undesirable effects\" if publicly available.\n",
    "- **Official**: Official material forms the generality of government business, public service delivery and commercial activity. This includes a diverse range of information, of varying sensitivities, and with differing consequences resulting from compromise or loss.\n",
    "- **Unclassified**: Unclassified information is low-impact, and therefore does not require any special protection, such as vetting of personnel.\n",
    "\n",
    "To be able to classify data with the above tags, we need to the below steps:\n",
    "1. Create a classification called **SecurityLevel**\n",
    "2. Create tags in the classification **SecurityLevel**\n",
    "\n",
    "### 1.1 Create classification entity\n",
    "\n",
    "To create a new classification entity, we must call the `CreateClassificationRequest`."
   ],
   "id": "5ba3d63ea7e34ecc"
  },
  {
   "metadata": {},
   "cell_type": "code",
   "outputs": [],
   "execution_count": null,
   "source": [
    "from metadata.generated.schema.api.classification.createClassification import CreateClassificationRequest\n",
    "from metadata.generated.schema.api.classification.createTag import CreateTagRequest\n",
    "\n",
    "#### Config #######\n",
    "classification_name = \"SecurityLevel\"\n",
    "classification_desc = \"CASD data confidentiality classification\"\n",
    "\n",
    "# build the creation request\n",
    "classification_request=CreateClassificationRequest(\n",
    "    name=classification_name,\n",
    "    description=classification_desc,\n",
    ")\n",
    "\n",
    "# submit the request\n",
    "classification_entity=om_conn.create_or_update(classification_request)"
   ],
   "id": "87872a446e8dbb87"
  },
  {
   "metadata": {},
   "cell_type": "markdown",
   "source": "### 1.2 Create tags in the classification entity\n",
   "id": "e226fd3e65ea3c32"
  },
  {
   "metadata": {},
   "cell_type": "code",
   "outputs": [],
   "execution_count": null,
   "source": [
    "ts_tag_request=CreateTagRequest(\n",
    "    classification=classification_request.name,\n",
    "    name=\"TopSecret\",\n",
    "    displayName=\"TopSecret\",\n",
    "    description=\"Such material would cause `exceptionally grave damage` to national security if made publicly available\",\n",
    ")\n",
    "\n",
    "s_tag_request=CreateTagRequest(\n",
    "    classification=classification_request.name,\n",
    "    name=\"Secret\",\n",
    "    displayName=\"Secret\",\n",
    "    description=\"Secret material would cause `serious damage` to national security if it were publicly available\",\n",
    ")\n",
    "\n",
    "\n",
    "conf_tag_request=CreateTagRequest(\n",
    "    classification=classification_request.name,\n",
    "    name=\"Confidential\",\n",
    "    displayName=\"Confidential\",\n",
    "    description=\"Confidential material would cause `damage` or be prejudicial to national security if publicly available\",\n",
    ")\n",
    "\n",
    "res_tag_request=CreateTagRequest(\n",
    "    classification=classification_request.name,\n",
    "    name=\"Restricted\",\n",
    "    displayName=\"Restricted\",\n",
    "    description=\"Restricted material would cause `undesirable effects` if publicly available\",\n",
    ")\n",
    "\n",
    "off_tag_request=CreateTagRequest(\n",
    "    classification=classification_request.name,\n",
    "    name=\"Official\",\n",
    "    displayName=\"Official\",\n",
    "    description=\"Official material forms the generality of government business, public service delivery and commercial activity. This includes a diverse range of information, of varying sensitivities, and with differing consequences resulting from compromise or loss\",\n",
    ")\n",
    "\n",
    "\n",
    "un_tag_request=CreateTagRequest(\n",
    "    classification=classification_request.name,\n",
    "    name=\"Unclassified\",\n",
    "    displayName=\"Unclassified\",\n",
    "    description=\"Unclassified information is low-impact, and therefore does not require any special protection, such as vetting of personnel.\",\n",
    ")\n",
    "\n",
    "\n",
    "\n",
    "ts_tag_entity=om_conn.create_or_update(ts_tag_request)\n",
    "s_tag_entity=om_conn.create_or_update(s_tag_request)\n",
    "conf_tag_entity=om_conn.create_or_update(conf_tag_request)\n",
    "res_tag_entity=om_conn.create_or_update(res_tag_request)\n",
    "off_tag_entity=om_conn.create_or_update(off_tag_request)\n",
    "un_tag_entity=om_conn.create_or_update(un_tag_request)\n",
    "\n"
   ],
   "id": "ddbc88867947e7a3"
  },
  {
   "metadata": {},
   "cell_type": "markdown",
   "source": [
    "## Tag/Classify data\n",
    "\n",
    "We have created the tags, now we need associate data with dags. We call it dagging.\n",
    "\n"
   ],
   "id": "fc73b39af60e31e5"
  },
  {
   "metadata": {
    "ExecuteTime": {
     "end_time": "2025-09-11T09:58:53.222901Z",
     "start_time": "2025-09-11T09:58:53.216071Z"
    }
   },
   "cell_type": "code",
   "source": [
    "def get_table_entity_by_name(om_con, table_fqn:str):\n",
    "    \"\"\"\n",
    "    This function returns a table entity with the given name, if not exist, return None\n",
    "    :return:\n",
    "    \"\"\"\n",
    "    om_con.get_by_name(\n",
    "            entity=Table, fqn=table_fqn\n",
    "        )"
   ],
   "id": "dcf26ddbe86d8210",
   "outputs": [],
   "execution_count": 1
  },
  {
   "metadata": {},
   "cell_type": "code",
   "outputs": [],
   "execution_count": null,
   "source": [
    "from metadata.generated.schema.entity.data.table import Table\n",
    "from metadata.ingestion.ometa.mixins.patch_mixin_utils import PatchOperation\n",
    "from metadata.generated.schema.type.tagLabel import TagLabel, TagSource, State, LabelType\n",
    "\n",
    "# we need to create tag label first to be able to add tag to other entities\n",
    "# We only need tag_fqn to build the tag label of type str.\n",
    "ts_tag_label=TagLabel(tagFQN=s_tag_entity.fullyQualifiedName,source=TagSource.Classification,  state=State.Suggested, labelType=LabelType.Automated,)\n",
    "s_tag_label=TagLabel(tagFQN=s_tag_entity.fullyQualifiedName,source=TagSource.Classification,  state=State.Suggested, labelType=LabelType.Automated,)\n",
    "conf_tag_label=TagLabel(tagFQN=conf_tag_entity.fullyQualifiedName,source=TagSource.Classification,  state=State.Suggested, labelType=LabelType.Automated,)\n",
    "\n",
    "# if we know the value of the fqn, we can create the tag label from string value directly\n",
    "res_tag_label=TagLabel(tagFQN=\"SecurityLevel.Restricted\",source=TagSource.Classification,  state=State.Suggested, labelType=LabelType.Automated,)\n",
    "off_tag_label=TagLabel(tagFQN=\"SecurityLevel.Official\",source=TagSource.Classification,  state=State.Suggested, labelType=LabelType.Automated,)\n",
    "un_tag_label=TagLabel(tagFQN=\"SecurityLevel.Unclassified\",source=TagSource.Classification,  state=State.Suggested, labelType=LabelType.Automated,)\n",
    "\n",
    "metadata.patch_tags(\n",
    "    entity=Table,\n",
    "    source=table_a_entity,\n",
    "    tag_labels=[s_tag_label],\n",
    "    operation=PatchOperation.ADD\n",
    ")"
   ],
   "id": "fb9d2407fc1cf0c0"
  },
  {
   "metadata": {
    "ExecuteTime": {
     "end_time": "2025-09-09T14:22:36.356814Z",
     "start_time": "2025-09-09T14:22:36.349433Z"
    }
   },
   "cell_type": "code",
   "source": [
    "nomen_spec_path = f\"{metadata_path}/constances_nomenclatures.csv\"\n",
    "column_spec_path = f\"{metadata_path}/constances_vars.csv\"\n",
    "desc_dir_path = f\"{metadata_path}/nomenclature_values\"\n",
    "nomen_om_term_out_path = f\"{metadata_path}/om_nomenclatures.csv\""
   ],
   "id": "14eea3c367a1460d",
   "outputs": [],
   "execution_count": 8
  },
  {
   "metadata": {
    "ExecuteTime": {
     "end_time": "2025-09-09T14:22:37.031232Z",
     "start_time": "2025-09-09T14:22:37.015799Z"
    }
   },
   "cell_type": "code",
   "source": [
    "def create_term_row(name: str, display_name: str, description: str, parent: str = \"\", synonyms: str = None,\n",
    "                    related_terms: str = \"\", references: str = \"\", tags: str = \"\", reviewers: str = \"\",\n",
    "                    owner: str = \"user;admin\", status: str = \"Approved\") -> Dict[str, str]:\n",
    "    \"\"\"\n",
    "    This function build a row of the glossary term dataframe which can be imported into the om server via web ui\n",
    "    :param name: glossary term name\n",
    "    :type name: str\n",
    "    :param display_name: The display name of the glossary term\n",
    "    :type display_name: str\n",
    "    :param description: The description of the glossary term, it can take mark down format\n",
    "    :type description: str\n",
    "    :param parent: specify the parent term of the current term, it takes the fqn of the term\n",
    "    :type parent: str\n",
    "    :param synonyms: specify a list of synonyms of the current term, use ; as separator.\n",
    "    :type synonyms: str\n",
    "    :param related_terms: specify a list of related terms of the current term, use ; as separator. It takes the fqn of the term\n",
    "    :type related_terms: str\n",
    "    :param references: Add links from the internet from where you inherited the term. The references must be in the format (name;url;name;url)\n",
    "    :type references: str\n",
    "    :param tags: Add the tags which are already existing in OpenMetadata. The tags must be in the format (PII.Sensitive;PersonalData.Personal)\n",
    "    :type tags: str\n",
    "    :param reviewers: Add an existing user to review the term. It must be in format (user;uid)\n",
    "    :type reviewers: str\n",
    "    :param owner: Add an existing user as the owner of the term. It must be in format (user;uid)\n",
    "    :type owner: str\n",
    "    :param status: The status of the term, it's a enum type\n",
    "    :type status: str\n",
    "    :return:\n",
    "    :rtype:\n",
    "    \"\"\"\n",
    "    # don't know why, the synonyms can't be empty. otherwise the term is not valid\n",
    "    if synonyms is None:\n",
    "        synonyms = display_name.lower()\n",
    "    return {\n",
    "        \"parent\": parent,\n",
    "        \"name*\": name.strip(),\n",
    "        \"displayName\": display_name.strip(),\n",
    "        \"description\": description,\n",
    "        \"synonyms\": synonyms,\n",
    "        \"relatedTerms\": related_terms,\n",
    "        \"references\": references,\n",
    "        \"tags\": tags,\n",
    "        \"reviewers\": reviewers,\n",
    "        \"owner\": owner,\n",
    "        \"status\": status}"
   ],
   "id": "88856182d07d9d97",
   "outputs": [],
   "execution_count": 9
  },
  {
   "metadata": {
    "ExecuteTime": {
     "end_time": "2025-09-09T14:22:38.678728Z",
     "start_time": "2025-09-09T14:22:38.671321Z"
    }
   },
   "cell_type": "code",
   "source": [
    "def detect_file_encoding(file_path: str) -> str:\n",
    "    # Detect the encoding of the CSV file\n",
    "    with open(file_path, 'rb') as f:\n",
    "        result = chardet.detect(f.read())\n",
    "        return result['encoding']\n",
    "\n",
    "\n",
    "def parse_linked_col_str(cols_str: str):\n",
    "    \"\"\"\n",
    "    This function parse the linked col raw string value.\n",
    "    :param cols_str:\n",
    "    :type cols_str:\n",
    "    :return:\n",
    "    :rtype:\n",
    "    \"\"\"\n",
    "    if cols_str.strip() == \"Aucune variable liée\":\n",
    "        linked_cols = []\n",
    "    else:\n",
    "        # if the value contains \", remove it\n",
    "        clean_str = cols_str.replace(\"\\\"\", \"\")\n",
    "        linked_cols = [item.strip() for item in clean_str.split(\",\")]\n",
    "    return linked_cols\n",
    "\n",
    "\n",
    "def parse_nomenclature_row(row: dict, desc_dir_path: str):\n",
    "    \"\"\"\n",
    "    This function takes one row of the nomenclature data frame, parse it and return\n",
    "    the name of the nomenclature, description with value table. and linked table name list\n",
    "    :param desc_dir_path: The root dir which contains the description file of each nomenclature\n",
    "    :type desc_dir_path: str\n",
    "    :param row: A dict which represent a row of the snds_nomenclature table\n",
    "    :type row: Dict\n",
    "    :return:\n",
    "    :rtype:\n",
    "    \"\"\"\n",
    "    # 1.get the name of the term\n",
    "    term_name = row[\"nomenclature\"]\n",
    "\n",
    "    # 2. get the description of the term\n",
    "    desc = row[\"titre\"]\n",
    "    # get the value table path,\n",
    "\n",
    "    desc_file_path = f\"{desc_dir_path}/{term_name}.csv\"\n",
    "    file_encoding = detect_file_encoding(desc_file_path)\n",
    "    # get the value table content\n",
    "    desc_detail = pd.read_csv(desc_file_path, sep=\";\", encoding=file_encoding).to_markdown(index=False)\n",
    "    # build the description in Markdown format\n",
    "    full_desc = f\"{desc} \\n {desc_detail}\"\n",
    "\n",
    "    # 3. get the linked columns\n",
    "    linked_cols_str = row[\"variables_liees\"]\n",
    "    linked_cols = parse_linked_col_str(linked_cols_str)\n",
    "\n",
    "    return term_name, full_desc, linked_cols"
   ],
   "id": "56377ecd4c0467f2",
   "outputs": [],
   "execution_count": 10
  },
  {
   "metadata": {
    "ExecuteTime": {
     "end_time": "2025-09-09T14:22:40.211689Z",
     "start_time": "2025-09-09T14:22:40.187744Z"
    }
   },
   "cell_type": "code",
   "source": [
    "# 2. Read the nomenclature file\n",
    "nom_df = pd.read_csv(nomen_spec_path).drop_duplicates(subset=[\"nomenclature\"])\n",
    "\n",
    "print(nom_df.head(5))\n"
   ],
   "id": "6464fae7a70e1a04",
   "outputs": [
    {
     "name": "stdout",
     "output_type": "stream",
     "text": [
      "    nomenclature                                              titre  \\\n",
      "0  geometry_type  The description of possible type values in a g...   \n",
      "1     code_insee  The administrative code of a french commune is...   \n",
      "\n",
      "  variables_liees  nombre_lignes  \n",
      "0        geometry            NaN  \n",
      "1           insee            NaN  \n"
     ]
    }
   ],
   "execution_count": 11
  },
  {
   "metadata": {
    "ExecuteTime": {
     "end_time": "2025-09-09T14:22:41.090917Z",
     "start_time": "2025-09-09T14:22:41.080725Z"
    }
   },
   "cell_type": "code",
   "source": [
    "generated_term_rows = []\n",
    "# 3. For each row in the nomenclature file, generate a new row for OM term\n",
    "for index, row in nom_df.iterrows():\n",
    "    row_dict = row.to_dict()\n",
    "    print(row_dict)\n",
    "    term_name, full_desc, linked_cols = parse_nomenclature_row(row_dict, desc_dir_path)\n",
    "    print(f\"treating term: {term_name}\")\n",
    "    generated_term_rows.append(create_term_row(term_name, term_name, full_desc))\n",
    "\n",
    "print(generated_term_rows)"
   ],
   "id": "64e07718deb474e2",
   "outputs": [
    {
     "name": "stdout",
     "output_type": "stream",
     "text": [
      "{'nomenclature': 'geometry_type', 'titre': 'The description of possible type values in a geometry column', 'variables_liees': 'geometry', 'nombre_lignes': nan}\n",
      "treating term: geometry_type\n",
      "{'nomenclature': 'code_insee', 'titre': 'The administrative code of a french commune issued by INSEE ', 'variables_liees': 'insee', 'nombre_lignes': nan}\n",
      "treating term: code_insee\n",
      "[{'parent': '', 'name*': 'geometry_type', 'displayName': 'geometry_type', 'description': 'The description of possible type values in a geometry column \\n | geo_type   | description                                                     |\\n|:-----------|:----------------------------------------------------------------|\\n| point      | A pair of (latitude, longitude) which represent the geolocation |\\n| line       | A list of points which represent a line                         |\\n| polygon    | A list of points which represent a polygone                     |', 'synonyms': 'geometry_type', 'relatedTerms': '', 'references': '', 'tags': '', 'reviewers': '', 'owner': 'user;admin', 'status': 'Approved'}, {'parent': '', 'name*': 'code_insee', 'displayName': 'code_insee', 'description': 'The administrative code of a french commune issued by INSEE  \\n |   insee_code | commune_name   |\\n|-------------:|:---------------|\\n|            1 | toto           |\\n|            2 | titi           |\\n|            3 | tata           |', 'synonyms': 'code_insee', 'relatedTerms': '', 'references': '', 'tags': '', 'reviewers': '', 'owner': 'user;admin', 'status': 'Approved'}]\n"
     ]
    }
   ],
   "execution_count": 12
  },
  {
   "metadata": {
    "ExecuteTime": {
     "end_time": "2025-09-09T14:22:46.833116Z",
     "start_time": "2025-09-09T14:22:46.815292Z"
    }
   },
   "cell_type": "code",
   "source": [
    "# 4. build a dataframe and export to csv\n",
    "nomen_om_term_df = pd.DataFrame(generated_term_rows)\n",
    "nomen_om_term_df.to_csv(nomen_om_term_out_path, index=False, sep=\",\", encoding=\"utf-8\")"
   ],
   "id": "a20982cc4ee08acc",
   "outputs": [],
   "execution_count": 13
  },
  {
   "metadata": {},
   "cell_type": "markdown",
   "source": [
    "## 2. Ingest the nomenclature\n",
    "\n",
    "\n",
    "For now(09-2025), **the python-sdk does not support nomenclature ingestion**. We have not found api too. The official doc for ingesting glossary and terms is [here](https://docs.open-metadata.org/latest/how-to-guides/data-governance/glossary/import). So we will `load the glossary term via OM GUI`. The goal is:\n",
    "\n",
    "1. Create a glossary called \"constances_geo_terms\"\n",
    "2. Insert the generated om_nomenclatures.csv \n",
    "\n"
   ],
   "id": "5fa242434e9a4780"
  },
  {
   "metadata": {},
   "cell_type": "code",
   "outputs": [],
   "execution_count": null,
   "source": "",
   "id": "97d6cd7f42b11bf7"
  },
  {
   "metadata": {},
   "cell_type": "markdown",
   "source": [
    "## 3. Link terms with target columns\n",
    "\n",
    "The terms in glossary has been created, now we need to associate the terms with matched columns.\n",
    "\n",
    "> if you already move the database to the domain constances, you also need to move the glossary to the domain constances. Othwise, you can not associate the term with the target columns"
   ],
   "id": "96e444eb37031d3e"
  },
  {
   "metadata": {
    "ExecuteTime": {
     "end_time": "2025-09-09T14:45:33.036103Z",
     "start_time": "2025-09-09T14:45:33.031076Z"
    }
   },
   "cell_type": "code",
   "source": [
    "DB_SERVICE_NAME = \"Constances-Geography\"\n",
    "DB_NAME = \"hospitals_in_france\"\n",
    "SCHEMA_NAME = \"Geography\"\n",
    "glossary_name = \"constances_geo_terms\""
   ],
   "id": "30360bf75e069c88",
   "outputs": [],
   "execution_count": 14
  },
  {
   "metadata": {
    "ExecuteTime": {
     "end_time": "2025-09-09T15:04:48.831107Z",
     "start_time": "2025-09-09T15:04:48.820370Z"
    }
   },
   "cell_type": "code",
   "source": [
    "from metadata.generated.schema.entity.data.glossaryTerm import GlossaryTerm\n",
    "def get_glossary_term_by_fqn(om_conn, term_fqn: str) -> GlossaryTerm:\n",
    "    \"\"\"\n",
    "    This function takes a term fully qualified name and returns a corresponding term entity. If the target term does\n",
    "    not exist or not valid, return None.\n",
    "    :param om_conn:\n",
    "    :type om_conn:\n",
    "    :param term_fqn:\n",
    "    :type term_fqn:\n",
    "    :return:\n",
    "    :rtype:\n",
    "    \"\"\"\n",
    "    try:\n",
    "        term_entity = om_conn.get_by_name(entity=GlossaryTerm, fqn=term_fqn)\n",
    "    except Exception as e:\n",
    "        print(f\"Can not find the target term, or the term is not valid: {e}\")\n",
    "        raise\n",
    "    return term_entity"
   ],
   "id": "7b35d20b1d6004ab",
   "outputs": [],
   "execution_count": 25
  },
  {
   "metadata": {
    "ExecuteTime": {
     "end_time": "2025-09-09T15:06:27.869476Z",
     "start_time": "2025-09-09T15:06:27.823473Z"
    }
   },
   "cell_type": "code",
   "source": [
    "term_name = \"code_insee\"\n",
    "t1_entity= get_glossary_term_by_fqn(om_conn,f\"{glossary_name}.{term_name}\")\n",
    "print(t1_entity)"
   ],
   "id": "aaf8d16daaf06251",
   "outputs": [
    {
     "name": "stdout",
     "output_type": "stream",
     "text": [
      "id=Uuid(root=UUID('67da81ea-7942-4610-a895-d21ea679f04d')) name=EntityName(root='code_insee') displayName='code_insee' description=Markdown(root='<p>The administrative code of a French commune issued by INSEE</p><p>| insee_code | commune_name |</p><p>|-------------:|:---------------|</p><p>| 1 | toto |</p><p>| 2 | titi |</p><p>| 3 | tata |</p><p></p><p></p>') style=Style(color=None, iconURL=None) fullyQualifiedName=FullyQualifiedEntityName(root='constances_geo_terms.code_insee') synonyms=[] glossary=EntityReference(id=Uuid(root=UUID('354c661a-bf2d-4f19-9fe6-2436f62738ee')), type='glossary', name='constances_geo_terms', fullyQualifiedName='constances_geo_terms', description=Markdown(root='<p>This glossary is for constances geospatial dataset</p>'), displayName='constances_geo_terms', deleted=False, inherited=None, href=Href(root=AnyUrl('http://localhost:8585/v1/glossaries/354c661a-bf2d-4f19-9fe6-2436f62738ee'))) parent=None children=None relatedTerms=None references=[] version=EntityVersion(root=0.2) updatedAt=Timestamp(root=1757430199844) updatedBy='liu.pengfei' href=Href(root=AnyUrl('http://localhost:8585/v1/glossaryTerms/67da81ea-7942-4610-a895-d21ea679f04d')) reviewers=None owners=None usageCount=None tags=[] changeDescription=ChangeDescription(fieldsAdded=[], fieldsUpdated=[FieldChange(name=FieldName(root='description'), oldValue='<pre><code>The administrative code of a french commune issued by INSEE\\n |   insee_code | commune_name   |\\n|-------------:|:---------------|\\n|            1 | toto           |\\n|            2 | titi           |\\n|            3 | tata           |</code></pre><p></p>', newValue='<p>The administrative code of a French commune issued by INSEE</p><p>| insee_code | commune_name |</p><p>|-------------:|:---------------|</p><p>| 1 | toto |</p><p>| 2 | titi |</p><p>| 3 | tata |</p><p></p><p></p>')], fieldsDeleted=[], previousVersion=EntityVersion(root=0.1), changeSummary=ChangeSummaryModel(root={})) incrementalChangeDescription=ChangeDescription(fieldsAdded=[], fieldsUpdated=[FieldChange(name=FieldName(root='description'), oldValue='<p>The administrative code of a French commune issued by INSEE </p><p>| insee_code | commune_name |</p><p>|-------------:|:---------------| </p><p>| 1 | toto |</p><p>| 2 | titi |</p><p>| 3 | tata |</p><p></p>', newValue='<p>The administrative code of a French commune issued by INSEE</p><p>| insee_code | commune_name |</p><p>|-------------:|:---------------|</p><p>| 1 | toto |</p><p>| 2 | titi |</p><p>| 3 | tata |</p><p></p><p></p>')], fieldsDeleted=[], previousVersion=EntityVersion(root=0.2), changeSummary=ChangeSummaryModel(root={})) status=<Status.Approved: 'Approved'> deleted=False provider=<ProviderType.user: 'user'> disabled=None mutuallyExclusive=False extension=None domains=None dataProducts=None votes=None childrenCount=None\n"
     ]
    }
   ],
   "execution_count": 26
  },
  {
   "metadata": {
    "ExecuteTime": {
     "end_time": "2025-09-09T15:15:00.298274Z",
     "start_time": "2025-09-09T15:15:00.255194Z"
    }
   },
   "cell_type": "code",
   "source": [
    "table_fqn = f\"Constances-Geography.hospitals_in_france.Geography\"\n",
    "table_entity = om_conn.get_by_name(entity=Table, fqn=table_fqn)\n",
    "print(table_entity)"
   ],
   "id": "e6219cd28331d395",
   "outputs": [
    {
     "name": "stdout",
     "output_type": "stream",
     "text": [
      "None\n"
     ]
    }
   ],
   "execution_count": 27
  },
  {
   "metadata": {
    "ExecuteTime": {
     "end_time": "2025-09-09T14:58:11.200012Z",
     "start_time": "2025-09-09T14:58:11.190150Z"
    }
   },
   "cell_type": "code",
   "source": [
    "\n",
    "\n",
    "\n",
    "def search_constance_column_name(tab_col_path: str, target_col_name: str) -> list:\n",
    "    \"\"\"\n",
    "    This function read the constances_vars, find all rows that contains the\n",
    "    target column name. return a list of all match table column pair\n",
    "    :param tab_col_path:\n",
    "    :type tab_col_path:\n",
    "    :param target_col_name:\n",
    "    :type target_col_name:\n",
    "    :return:\n",
    "    :rtype:\n",
    "    \"\"\"\n",
    "    res_tab_col = []\n",
    "    col_df = pd.read_csv(tab_col_path, header=0)\n",
    "    target_tab_col = col_df[col_df[\"var\"] == target_col_name]\n",
    "    if len(target_tab_col) > 0:\n",
    "        for index, row in target_tab_col.iterrows():\n",
    "            row_dict = row.to_dict()\n",
    "            res_tab_col.append({\n",
    "                \"table\": row_dict[\"table\"],\n",
    "                \"column\": row_dict[\"var\"],\n",
    "            })\n",
    "\n",
    "    return res_tab_col\n",
    "\n",
    "\n",
    "\n",
    "\n",
    "\n",
    "def patch_term_to_column(om_conn, term_fqn: str, db_fqn: str, tab_name: str, column_name: str):\n",
    "    # get the target table entity which contains the target column\n",
    "    table_fqn = f\"{db_fqn}.{tab_name}\"\n",
    "    table_entity = om_conn.get_by_name(entity=Table, fqn=table_fqn)\n",
    "\n",
    "    # get the term entity\n",
    "    term_entity = get_glossary_term_by_fqn(om_conn, term_fqn)\n",
    "    if not table_entity:\n",
    "        print(f\"Can't find the table entity: {table_fqn} \")\n",
    "        return\n",
    "    if not term_entity:\n",
    "        print(f\"Can't find the term entity: {term_fqn} \")\n",
    "        return\n",
    "        # build a tag label with the given term entity\n",
    "    tag_label = TagLabel(tagFQN=str(term_entity.fullyQualifiedName), source=TagSource.Glossary, state=State.Suggested,\n",
    "                         labelType=LabelType.Automated)\n",
    "    col_tag = ColumnTag(column_fqn=f\"{db_fqn}.{tab_name}.{column_name}\", tag_label=tag_label)\n",
    "\n",
    "    if col_tag:\n",
    "        om_conn.patch_column_tags(table=table_entity,\n",
    "                                  column_tags=[col_tag],\n",
    "                                  operation=PatchOperation.ADD, )"
   ],
   "id": "7cac5028c00d241c",
   "outputs": [],
   "execution_count": 20
  },
  {
   "metadata": {
    "ExecuteTime": {
     "end_time": "2025-09-09T14:58:20.415938Z",
     "start_time": "2025-09-09T14:58:20.407566Z"
    }
   },
   "cell_type": "code",
   "source": [
    "resu_list = search_constance_column_name(column_spec_path, \"geometry\")\n",
    "print(resu_list)"
   ],
   "id": "c4b7c3dbab8583f4",
   "outputs": [
    {
     "name": "stdout",
     "output_type": "stream",
     "text": [
      "[{'table': 'fr_communes_raw', 'column': 'geometry'}, {'table': 'fr_communes_clean', 'column': 'geometry'}, {'table': 'hospitals_in_communes', 'column': 'geometry'}]\n"
     ]
    }
   ],
   "execution_count": 21
  },
  {
   "metadata": {
    "ExecuteTime": {
     "end_time": "2025-09-09T14:58:21.255473Z",
     "start_time": "2025-09-09T14:58:21.238597Z"
    }
   },
   "cell_type": "code",
   "source": [
    "# define the target database fqn\n",
    "db_fqn = f\"{DB_SERVICE_NAME}.{DB_NAME}.{SCHEMA_NAME}\"\n",
    "\n",
    "# get nomenclature df\n",
    "nom_df = pd.read_csv(nomen_spec_path, header=0).drop_duplicates(subset=[\"nomenclature\"])\n",
    "print(nom_df.head(5))"
   ],
   "id": "a47857d893d147e8",
   "outputs": [
    {
     "name": "stdout",
     "output_type": "stream",
     "text": [
      "    nomenclature                                              titre  \\\n",
      "0  geometry_type  The description of possible type values in a g...   \n",
      "1     code_insee  The administrative code of a french commune is...   \n",
      "\n",
      "  variables_liees  nombre_lignes  \n",
      "0        geometry            NaN  \n",
      "1           insee            NaN  \n"
     ]
    }
   ],
   "execution_count": 22
  },
  {
   "metadata": {
    "ExecuteTime": {
     "end_time": "2025-09-09T14:58:23.554694Z",
     "start_time": "2025-09-09T14:58:22.766305Z"
    }
   },
   "cell_type": "code",
   "source": [
    "for index, row in nom_df.iterrows():\n",
    "    row_dict = row.to_dict()\n",
    "    print(row_dict)\n",
    "\n",
    "    term_name, _, linked_cols = parse_nomenclature_row(row_dict, desc_dir_path)\n",
    "    print(f\"treating term: {term_name}\")\n",
    "\n",
    "    # --- via term name ---\n",
    "    term_linked_tab_cols = search_constance_column_name(column_spec_path, term_name) or []\n",
    "    for term_linked_tab_col in term_linked_tab_cols:\n",
    "        print(f\"target column: {term_linked_tab_col}\")\n",
    "        patch_term_to_column(\n",
    "            om_conn,\n",
    "            f\"{glossary_name}.{term_name}\",\n",
    "            db_fqn,\n",
    "            term_linked_tab_col[\"table\"],\n",
    "            term_linked_tab_col[\"column\"],\n",
    "        )\n",
    "\n",
    "    # --- via linked columns ---\n",
    "    if linked_cols:\n",
    "        for linked_col in linked_cols:\n",
    "            print(f\"linked col: {linked_col}\")\n",
    "            col_linked_tab_cols = search_constance_column_name(column_spec_path, linked_col) or []\n",
    "            for col_linked_tab_col in col_linked_tab_cols:\n",
    "                patch_term_to_column(\n",
    "                    om_conn,\n",
    "                    f\"{glossary_name}.{term_name}\",\n",
    "                    db_fqn,\n",
    "                    col_linked_tab_col[\"table\"],\n",
    "                    col_linked_tab_col[\"column\"],\n",
    "                )"
   ],
   "id": "60b935679879d597",
   "outputs": [
    {
     "name": "stderr",
     "output_type": "stream",
     "text": [
      "[2025-09-09 16:58:22] WARNING  {metadata.OMetaAPI:patch_mixin:168} - Failed to update Table [fr_communes_raw]. The patch operation was skipped. Reason: glossaryTerm instance for root='constances_geo_terms.geometry_type' not found\n"
     ]
    },
    {
     "name": "stdout",
     "output_type": "stream",
     "text": [
      "{'nomenclature': 'geometry_type', 'titre': 'The description of possible type values in a geometry column', 'variables_liees': 'geometry', 'nombre_lignes': nan}\n",
      "treating term: geometry_type\n",
      "linked col: geometry\n"
     ]
    },
    {
     "name": "stderr",
     "output_type": "stream",
     "text": [
      "[2025-09-09 16:58:23] WARNING  {metadata.OMetaAPI:patch_mixin:168} - Failed to update Table [fr_communes_clean]. The patch operation was skipped. Reason: glossaryTerm instance for root='constances_geo_terms.geometry_type' not found\n",
      "[2025-09-09 16:58:23] WARNING  {metadata.OMetaAPI:patch_mixin:168} - Failed to update Table [hospitals_in_communes]. The patch operation was skipped. Reason: glossaryTerm instance for root='constances_geo_terms.geometry_type' not found\n",
      "[2025-09-09 16:58:23] WARNING  {metadata.OMetaAPI:patch_mixin:168} - Failed to update Table [fr_communes_raw]. The patch operation was skipped. Reason: glossaryTerm instance for root='constances_geo_terms.code_insee' not found\n"
     ]
    },
    {
     "name": "stdout",
     "output_type": "stream",
     "text": [
      "{'nomenclature': 'code_insee', 'titre': 'The administrative code of a french commune issued by INSEE ', 'variables_liees': 'insee', 'nombre_lignes': nan}\n",
      "treating term: code_insee\n",
      "linked col: insee\n"
     ]
    },
    {
     "name": "stderr",
     "output_type": "stream",
     "text": [
      "[2025-09-09 16:58:23] WARNING  {metadata.OMetaAPI:patch_mixin:168} - Failed to update Table [fr_communes_clean]. The patch operation was skipped. Reason: glossaryTerm instance for root='constances_geo_terms.code_insee' not found\n"
     ]
    }
   ],
   "execution_count": 23
  },
  {
   "metadata": {
    "ExecuteTime": {
     "end_time": "2025-09-09T14:59:25.524939Z",
     "start_time": "2025-09-09T14:59:24.787257Z"
    }
   },
   "cell_type": "code",
   "source": [
    "for index, row in nom_df.iterrows():\n",
    "    row_dict = row.to_dict()\n",
    "    print(row_dict)\n",
    "    term_name, _, linked_cols = parse_nomenclature_row(row_dict, desc_dir_path)\n",
    "    print(f\"treating term: {term_name}\")\n",
    "    # find linked table column via term name\n",
    "    term_linked_tab_cols = search_constance_column_name(column_spec_path, term_name)\n",
    "    print(term_linked_tab_cols)\n",
    "    # for each linked col, add term to the column\n",
    "    for term_linked_tab_col in term_linked_tab_cols:\n",
    "        print(f\"target column: {term_linked_tab_col}\")\n",
    "        patch_term_to_column(om_conn, f\"{glossary_name}.{term_name}\", db_fqn, term_linked_tab_col[\"table\"],\n",
    "                             term_linked_tab_col[\"column\"])\n",
    "    # find linked table column via linked_cols\n",
    "    print(linked_cols)\n",
    "    if len(linked_cols) > 0:\n",
    "        for linked_col in linked_cols:\n",
    "            print(linked_col)\n",
    "            col_linked_tab_cols = search_constance_column_name(column_spec_path, linked_col)\n",
    "            # for each find table column, add tag\n",
    "            for col_linked_tab_col in col_linked_tab_cols:\n",
    "                patch_term_to_column(om_conn, f\"{glossary_name}.{term_name}\", db_fqn, col_linked_tab_col[\"table\"],\n",
    "                                     col_linked_tab_col[\"column\"])"
   ],
   "id": "3c0004a5e0d0ed81",
   "outputs": [
    {
     "name": "stderr",
     "output_type": "stream",
     "text": [
      "[2025-09-09 16:59:24] WARNING  {metadata.OMetaAPI:patch_mixin:168} - Failed to update Table [fr_communes_raw]. The patch operation was skipped. Reason: glossaryTerm instance for root='constances_geo_terms.geometry_type' not found\n"
     ]
    },
    {
     "name": "stdout",
     "output_type": "stream",
     "text": [
      "{'nomenclature': 'geometry_type', 'titre': 'The description of possible type values in a geometry column', 'variables_liees': 'geometry', 'nombre_lignes': nan}\n",
      "treating term: geometry_type\n",
      "[]\n",
      "['geometry']\n",
      "geometry\n"
     ]
    },
    {
     "name": "stderr",
     "output_type": "stream",
     "text": [
      "[2025-09-09 16:59:25] WARNING  {metadata.OMetaAPI:patch_mixin:168} - Failed to update Table [fr_communes_clean]. The patch operation was skipped. Reason: glossaryTerm instance for root='constances_geo_terms.geometry_type' not found\n",
      "[2025-09-09 16:59:25] WARNING  {metadata.OMetaAPI:patch_mixin:168} - Failed to update Table [hospitals_in_communes]. The patch operation was skipped. Reason: glossaryTerm instance for root='constances_geo_terms.geometry_type' not found\n",
      "[2025-09-09 16:59:25] WARNING  {metadata.OMetaAPI:patch_mixin:168} - Failed to update Table [fr_communes_raw]. The patch operation was skipped. Reason: glossaryTerm instance for root='constances_geo_terms.code_insee' not found\n"
     ]
    },
    {
     "name": "stdout",
     "output_type": "stream",
     "text": [
      "{'nomenclature': 'code_insee', 'titre': 'The administrative code of a french commune issued by INSEE ', 'variables_liees': 'insee', 'nombre_lignes': nan}\n",
      "treating term: code_insee\n",
      "[]\n",
      "['insee']\n",
      "insee\n"
     ]
    },
    {
     "name": "stderr",
     "output_type": "stream",
     "text": [
      "[2025-09-09 16:59:25] WARNING  {metadata.OMetaAPI:patch_mixin:168} - Failed to update Table [fr_communes_clean]. The patch operation was skipped. Reason: glossaryTerm instance for root='constances_geo_terms.code_insee' not found\n"
     ]
    }
   ],
   "execution_count": 24
  },
  {
   "metadata": {},
   "cell_type": "code",
   "outputs": [],
   "execution_count": null,
   "source": "",
   "id": "3c2f9e1cf8f3db73"
  }
 ],
 "metadata": {
  "kernelspec": {
   "display_name": "Python 3",
   "language": "python",
   "name": "python3"
  },
  "language_info": {
   "codemirror_mode": {
    "name": "ipython",
    "version": 2
   },
   "file_extension": ".py",
   "mimetype": "text/x-python",
   "name": "python",
   "nbconvert_exporter": "python",
   "pygments_lexer": "ipython2",
   "version": "2.7.6"
  }
 },
 "nbformat": 4,
 "nbformat_minor": 5
}
