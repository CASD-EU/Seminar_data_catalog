{
 "cells": [
  {
   "cell_type": "code",
   "id": "initial_id",
   "metadata": {
    "collapsed": true,
    "ExecuteTime": {
     "end_time": "2025-09-03T13:22:24.469788Z",
     "start_time": "2025-09-03T13:22:20.426323Z"
    }
   },
   "source": [
    "from typing import List, Optional, Dict\n",
    "\n",
    "import pandas as pd\n",
    "import pathlib\n",
    "\n",
    "from metadata.generated.schema.entity.services.connections.metadata.openMetadataConnection import (OpenMetadataConnection, AuthProvider)\n",
    "from metadata.generated.schema.security.client.openMetadataJWTClientConfig import OpenMetadataJWTClientConfig\n",
    "from metadata.generated.schema.api.data.createPipeline import CreatePipelineRequest\n",
    "from metadata.generated.schema.api.lineage.addLineage import AddLineageRequest\n",
    "from metadata.generated.schema.entity.data.pipeline import Pipeline\n",
    "from metadata.generated.schema.entity.data.table import Table\n",
    "from metadata.generated.schema.entity.services.pipelineService import PipelineService\n",
    "from metadata.generated.schema.type.entityLineage import ColumnLineage, EntitiesEdge, LineageDetails\n",
    "from metadata.generated.schema.type.entityReference import EntityReference\n",
    "from metadata.ingestion.ometa.ometa_api import OpenMetadata"
   ],
   "outputs": [],
   "execution_count": 1
  },
  {
   "metadata": {
    "ExecuteTime": {
     "end_time": "2025-09-03T13:22:25.728736Z",
     "start_time": "2025-09-03T13:22:25.724460Z"
    }
   },
   "cell_type": "code",
   "source": [
    "# you need to modify this value to match your target open metadata server url\n",
    "target_om_server = \"http://om-dev.casd.local/api\""
   ],
   "id": "d740bf47c9a2579",
   "outputs": [],
   "execution_count": 2
  },
  {
   "metadata": {
    "ExecuteTime": {
     "end_time": "2025-09-03T13:22:26.474543Z",
     "start_time": "2025-09-03T13:22:26.421129Z"
    }
   },
   "cell_type": "code",
   "source": [
    "from conf.creds import om_oidc_token\n",
    "server_config = OpenMetadataConnection(\n",
    "    hostPort=target_om_server,\n",
    "    authProvider=AuthProvider.openmetadata,\n",
    "    securityConfig=OpenMetadataJWTClientConfig(\n",
    "        jwtToken=om_oidc_token,\n",
    "    ),\n",
    ")\n",
    "metadata = OpenMetadata(server_config)"
   ],
   "id": "312d3163d5cf4ba5",
   "outputs": [],
   "execution_count": 3
  },
  {
   "metadata": {
    "ExecuteTime": {
     "end_time": "2025-09-03T13:22:27.322912Z",
     "start_time": "2025-09-03T13:22:27.305165Z"
    }
   },
   "cell_type": "code",
   "source": [
    "# if it returns true, it means the connection is success\n",
    "metadata.health_check()"
   ],
   "id": "200de299a8b95268",
   "outputs": [
    {
     "data": {
      "text/plain": [
       "True"
      ]
     },
     "execution_count": 4,
     "metadata": {},
     "output_type": "execute_result"
    }
   ],
   "execution_count": 4
  },
  {
   "metadata": {
    "ExecuteTime": {
     "end_time": "2025-09-03T13:22:28.619343Z",
     "start_time": "2025-09-03T13:22:28.612108Z"
    }
   },
   "cell_type": "code",
   "source": [
    "# conf for the table entity\n",
    "DB_SERVICE_NAME = \"Constances-Geography\"\n",
    "DB_NAME = \"hospitals_in_france\"\n",
    "SCHEMA_NAME = \"Geography\"\n",
    "\n",
    "# conf for lineage file\n",
    "project_root = pathlib.Path.cwd().parent\n",
    "metadata_path = project_root / \"data\""
   ],
   "id": "cc52316e85b2c511",
   "outputs": [],
   "execution_count": 5
  },
  {
   "metadata": {
    "ExecuteTime": {
     "end_time": "2025-09-03T13:22:48.636024Z",
     "start_time": "2025-09-03T13:22:48.625592Z"
    }
   },
   "cell_type": "code",
   "source": "print(metadata_path)",
   "id": "e9dece9ae83f4f1a",
   "outputs": [
    {
     "name": "stdout",
     "output_type": "stream",
     "text": [
      "C:\\Users\\PLIU\\Documents\\git\\Seminare_data_catalog\\data\n"
     ]
    }
   ],
   "execution_count": 6
  },
  {
   "metadata": {
    "ExecuteTime": {
     "end_time": "2025-09-03T13:22:55.378509Z",
     "start_time": "2025-09-03T13:22:55.374025Z"
    }
   },
   "cell_type": "code",
   "source": [
    "# config\n",
    "lineage_path = f\"{metadata_path}/constances_hospital_lineage.csv\"\n",
    "schema_fqn = f\"{DB_SERVICE_NAME}.{DB_NAME}.{SCHEMA_NAME}\"\n",
    "\n",
    "# conf for pipeline service\n",
    "pipeline_service_name=\"test-service-pipeline\"\n",
    "pipe_fqn_col_name=\"pipeline_fqn\"\n",
    "\n",
    "code_ref_col_name=\"ref_code\""
   ],
   "id": "7765cb45ce092219",
   "outputs": [],
   "execution_count": 7
  },
  {
   "metadata": {},
   "cell_type": "markdown",
   "source": [
    "## 1. Create a simple lineage\n",
    "\n",
    "The most simple lineage is just make a link between two tables(from source table to destination table)."
   ],
   "id": "a493648f70a79cc2"
  },
  {
   "metadata": {
    "ExecuteTime": {
     "end_time": "2025-09-03T13:23:01.139385Z",
     "start_time": "2025-09-03T13:23:01.128600Z"
    }
   },
   "cell_type": "code",
   "source": [
    "def get_table_by_name(om_conn: OpenMetadata, table_fqn: str) -> Table:\n",
    "    \"\"\"\n",
    "    This function takes a table fqn, then returns a table entity\n",
    "    :param om_conn: openmetadata connection\n",
    "    :type om_conn: OpenMetadata\n",
    "    :param table_fqn: table fully qualified name\n",
    "    :type table_fqn: str\n",
    "    :return:\n",
    "    :rtype:\n",
    "    \"\"\"\n",
    "    return om_conn.get_by_name(entity=Table, fqn=table_fqn)"
   ],
   "id": "983e6d1640859db9",
   "outputs": [],
   "execution_count": 8
  },
  {
   "metadata": {
    "ExecuteTime": {
     "end_time": "2025-09-03T13:23:02.024864Z",
     "start_time": "2025-09-03T13:23:01.915220Z"
    }
   },
   "cell_type": "code",
   "source": [
    "fr_communes_raw_fqn = f\"{schema_fqn}.fr_communes_raw\"\n",
    "fr_communes_raw_om_entity = get_table_by_name(metadata,fr_communes_raw_fqn)\n",
    "fr_communes_clean_fqn = f\"{schema_fqn}.fr_communes_clean\"\n",
    "fr_communes_clean_om_entity = get_table_by_name(metadata,fr_communes_clean_fqn)\n"
   ],
   "id": "f09a932fcb27d8e1",
   "outputs": [],
   "execution_count": 9
  },
  {
   "metadata": {
    "ExecuteTime": {
     "end_time": "2025-09-03T13:23:02.787625Z",
     "start_time": "2025-09-03T13:23:02.779192Z"
    }
   },
   "cell_type": "code",
   "source": [
    "print(fr_communes_raw_om_entity.id)\n",
    "print(fr_communes_clean_om_entity.id)"
   ],
   "id": "f53f7253564bc3d0",
   "outputs": [
    {
     "name": "stdout",
     "output_type": "stream",
     "text": [
      "root=UUID('46985e51-8a9f-4a85-a85b-5449b902053c')\n",
      "root=UUID('2429bf42-dbaf-43a3-97e0-6f33ab5875d6')\n"
     ]
    }
   ],
   "execution_count": 10
  },
  {
   "metadata": {
    "ExecuteTime": {
     "end_time": "2025-09-03T13:23:04.357196Z",
     "start_time": "2025-09-03T13:23:04.074641Z"
    }
   },
   "cell_type": "code",
   "source": [
    "add_lineage_req1 = AddLineageRequest(\n",
    "    edge=EntitiesEdge(\n",
    "        description=\"## clean france communes dataset\",\n",
    "        fromEntity=EntityReference(id=fr_communes_raw_om_entity.id, type=\"table\"),\n",
    "        toEntity=EntityReference(id=fr_communes_clean_om_entity.id, type=\"table\"),\n",
    "    ),\n",
    ")\n",
    "metadata.add_lineage(data=add_lineage_req1)"
   ],
   "id": "6165702539293e8a",
   "outputs": [
    {
     "data": {
      "text/plain": [
       "{'entity': {'id': '46985e51-8a9f-4a85-a85b-5449b902053c',\n",
       "  'type': 'table',\n",
       "  'name': 'fr_communes_raw',\n",
       "  'fullyQualifiedName': 'Constances-Geography.hospitals_in_france.Geography.fr_communes_raw',\n",
       "  'description': 'This table contains all geographical information of french communes',\n",
       "  'displayName': 'fr_communes_raw',\n",
       "  'deleted': False,\n",
       "  'href': 'http://localhost:8585/v1/tables/46985e51-8a9f-4a85-a85b-5449b902053c'},\n",
       " 'nodes': [{'id': '2429bf42-dbaf-43a3-97e0-6f33ab5875d6',\n",
       "   'type': 'table',\n",
       "   'name': 'fr_communes_clean',\n",
       "   'fullyQualifiedName': 'Constances-Geography.hospitals_in_france.Geography.fr_communes_clean',\n",
       "   'description': 'This table is built based on fr_communes_raw which is suitable for Contances related analysis',\n",
       "   'displayName': 'fr_communes_clean',\n",
       "   'deleted': False,\n",
       "   'href': 'http://localhost:8585/v1/tables/2429bf42-dbaf-43a3-97e0-6f33ab5875d6'}],\n",
       " 'upstreamEdges': [],\n",
       " 'downstreamEdges': [{'fromEntity': '46985e51-8a9f-4a85-a85b-5449b902053c',\n",
       "   'toEntity': '2429bf42-dbaf-43a3-97e0-6f33ab5875d6',\n",
       "   'lineageDetails': {'columnsLineage': [],\n",
       "    'source': 'Manual',\n",
       "    'createdAt': 1756905784140,\n",
       "    'createdBy': 'ingestion-bot',\n",
       "    'updatedAt': 1756905784140,\n",
       "    'updatedBy': 'ingestion-bot'}}]}"
      ]
     },
     "execution_count": 11,
     "metadata": {},
     "output_type": "execute_result"
    }
   ],
   "execution_count": 11
  },
  {
   "metadata": {},
   "cell_type": "markdown",
   "source": [
    "## 2. Create lineage with column details\n",
    "\n",
    "We have the table level lineage, if we need more information such as the column lineage and code, we need to add more details in the lineage"
   ],
   "id": "b8d5070947fdab57"
  },
  {
   "metadata": {
    "ExecuteTime": {
     "end_time": "2025-09-03T13:23:08.361108Z",
     "start_time": "2025-09-03T13:23:08.100172Z"
    }
   },
   "cell_type": "code",
   "source": [
    "column_lineage1 = ColumnLineage(\n",
    "    fromColumns=[f\"{fr_communes_raw_fqn}.geometry\",\n",
    "                 ],\n",
    "    toColumn=f\"{fr_communes_clean_fqn}.geometry\",\n",
    ")\n",
    "\n",
    "column_lineage2 = ColumnLineage(\n",
    "    fromColumns=[f\"{fr_communes_raw_fqn}.nom\",\n",
    "                 ],\n",
    "    toColumn=f\"{fr_communes_clean_fqn}.name\",\n",
    ")\n",
    "\n",
    "column_lineage3 = ColumnLineage(\n",
    "    fromColumns=[f\"{fr_communes_raw_fqn}.insee\",\n",
    "                 ],\n",
    "    toColumn=f\"{fr_communes_clean_fqn}.insee\",\n",
    ")\n",
    "\n",
    "query_detail=\"\"\"\n",
    "Create TABLE fr_communes_clean AS\n",
    "    SELECT fr_communes_raw.nom AS name,\n",
    "           fr_communes_raw.geometry AS geometry,\n",
    "           fr_communes_raw.insee AS insee,\n",
    "    FROM fr_communes_raw;\n",
    "\"\"\"\n",
    "\n",
    "lineage_details = LineageDetails(\n",
    "    sqlQuery=query_detail,\n",
    "    columnsLineage=[column_lineage1,column_lineage2,column_lineage3],\n",
    ")\n",
    "\n",
    "add_lineage_req2 = AddLineageRequest(\n",
    "    edge=EntitiesEdge(\n",
    "        description=\"clean france communes dataset\",\n",
    "        fromEntity=EntityReference(id=fr_communes_raw_om_entity.id, type=\"table\"),\n",
    "        toEntity=EntityReference(id=fr_communes_clean_om_entity.id, type=\"table\"),\n",
    "        lineageDetails=lineage_details,\n",
    "    ),\n",
    ")\n",
    "metadata.add_lineage(data=add_lineage_req2)\n"
   ],
   "id": "fe824eba5aa6bda2",
   "outputs": [
    {
     "data": {
      "text/plain": [
       "{'entity': {'id': '46985e51-8a9f-4a85-a85b-5449b902053c',\n",
       "  'type': 'table',\n",
       "  'name': 'fr_communes_raw',\n",
       "  'fullyQualifiedName': 'Constances-Geography.hospitals_in_france.Geography.fr_communes_raw',\n",
       "  'description': 'This table contains all geographical information of french communes',\n",
       "  'displayName': 'fr_communes_raw',\n",
       "  'deleted': False,\n",
       "  'href': 'http://localhost:8585/v1/tables/46985e51-8a9f-4a85-a85b-5449b902053c'},\n",
       " 'nodes': [{'id': '2429bf42-dbaf-43a3-97e0-6f33ab5875d6',\n",
       "   'type': 'table',\n",
       "   'name': 'fr_communes_clean',\n",
       "   'fullyQualifiedName': 'Constances-Geography.hospitals_in_france.Geography.fr_communes_clean',\n",
       "   'description': 'This table is built based on fr_communes_raw which is suitable for Contances related analysis',\n",
       "   'displayName': 'fr_communes_clean',\n",
       "   'deleted': False,\n",
       "   'href': 'http://localhost:8585/v1/tables/2429bf42-dbaf-43a3-97e0-6f33ab5875d6'}],\n",
       " 'upstreamEdges': [],\n",
       " 'downstreamEdges': [{'fromEntity': '46985e51-8a9f-4a85-a85b-5449b902053c',\n",
       "   'toEntity': '2429bf42-dbaf-43a3-97e0-6f33ab5875d6',\n",
       "   'lineageDetails': {'sqlQuery': '\\nCreate TABLE fr_communes_clean AS\\n    SELECT fr_communes_raw.nom AS name,\\n           fr_communes_raw.geometry AS geometry,\\n           fr_communes_raw.insee AS insee,\\n    FROM fr_communes_raw;\\n',\n",
       "    'columnsLineage': [{'fromColumns': ['Constances-Geography.hospitals_in_france.Geography.fr_communes_raw.geometry'],\n",
       "      'toColumn': 'Constances-Geography.hospitals_in_france.Geography.fr_communes_clean.geometry'},\n",
       "     {'fromColumns': ['Constances-Geography.hospitals_in_france.Geography.fr_communes_raw.nom'],\n",
       "      'toColumn': 'Constances-Geography.hospitals_in_france.Geography.fr_communes_clean.name'},\n",
       "     {'fromColumns': ['Constances-Geography.hospitals_in_france.Geography.fr_communes_raw.insee'],\n",
       "      'toColumn': 'Constances-Geography.hospitals_in_france.Geography.fr_communes_clean.insee'}],\n",
       "    'source': 'Manual',\n",
       "    'createdAt': 1756905788160,\n",
       "    'createdBy': 'ingestion-bot',\n",
       "    'updatedAt': 1756905788160,\n",
       "    'updatedBy': 'ingestion-bot'}}]}"
      ]
     },
     "execution_count": 12,
     "metadata": {},
     "output_type": "execute_result"
    }
   ],
   "execution_count": 12
  },
  {
   "metadata": {},
   "cell_type": "markdown",
   "source": [
    "## 3. Add a workflow reference\n",
    "\n",
    "If the data transformation is done via a `workflow automation tool`(e.g. airflow, etc.). We can as well ingest the `reference of the data pipeline` used to create the data lineage (e.g., the ETL feeding the tables) into OM.\n",
    "\n",
    "To prepare this example, we need to start by creating the Pipeline Entity. As usual, we have the entity hierarchy, a pipeline must be inside a pipeline service. So we'll need to prepare the Pipeline Service first."
   ],
   "id": "72fb7d8b55d22599"
  },
  {
   "metadata": {
    "ExecuteTime": {
     "end_time": "2025-01-09T10:55:51.143679Z",
     "start_time": "2025-01-09T10:55:51.044366Z"
    }
   },
   "cell_type": "code",
   "source": [
    "from metadata.generated.schema.api.data.createPipeline import CreatePipelineRequest\n",
    "from metadata.generated.schema.api.services.createPipelineService import (\n",
    "    CreatePipelineServiceRequest,\n",
    ")\n",
    "from metadata.generated.schema.entity.services.pipelineService import (\n",
    "    PipelineConnection,\n",
    "    PipelineService,\n",
    "    PipelineServiceType,\n",
    "    airflowConnection\n",
    ")\n",
    "\n",
    "from metadata.generated.schema.entity.services.connections.pipeline.backendConnection import (\n",
    "    BackendConnection,\n",
    ")\n",
    "\n",
    "pipeline_service = CreatePipelineServiceRequest(\n",
    "    name=\"constances_workflow_manager\",\n",
    "    serviceType=PipelineServiceType.Airflow,\n",
    "    connection=PipelineConnection(\n",
    "        config=airflowConnection.AirflowConnection(\n",
    "            hostPort=\"http://airflow.casd.local:8080\",\n",
    "            connection=BackendConnection(),\n",
    "        ),\n",
    "    ),\n",
    ")\n",
    "\n",
    "pipeline_service_entity = metadata.create_or_update(data=pipeline_service)\n"
   ],
   "id": "17dbae66cce5114d",
   "outputs": [],
   "execution_count": 16
  },
  {
   "metadata": {
    "ExecuteTime": {
     "end_time": "2025-01-09T10:55:51.933343Z",
     "start_time": "2025-01-09T10:55:51.924719Z"
    }
   },
   "cell_type": "code",
   "source": "print(pipeline_service_entity.fullyQualifiedName.__root__)",
   "id": "d93e7fa200064fc8",
   "outputs": [
    {
     "name": "stdout",
     "output_type": "stream",
     "text": [
      "constances_workflow_manager\n"
     ]
    }
   ],
   "execution_count": 17
  },
  {
   "metadata": {
    "ExecuteTime": {
     "end_time": "2025-01-09T10:55:52.882188Z",
     "start_time": "2025-01-09T10:55:52.780562Z"
    }
   },
   "cell_type": "code",
   "source": [
    "create_pipeline = CreatePipelineRequest(\n",
    "    name=\"count_hospital_per_commune\",\n",
    "    description=\"This data pipeline clean raw data and count hospitals of each commune in France\",\n",
    "    sourceUrl=f\"http://airflow.casd.local:8080/dags/hospital_count_dag/grid\",\n",
    "    concurrency=5,\n",
    "    pipelineLocation=\"https://github.com/CASD-EU/ConstanceDataPlatform/blob/main/Seminar3_workflow_automation/airflow/dags/02.hopital_count_dags.py\",\n",
    "    service=pipeline_service_entity.fullyQualifiedName.__root__,\n",
    ")\n",
    "\n",
    "pipeline_entity = metadata.create_or_update(data=create_pipeline)"
   ],
   "id": "e96293cf49ebe7e2",
   "outputs": [],
   "execution_count": 18
  },
  {
   "metadata": {
    "ExecuteTime": {
     "end_time": "2025-01-09T10:55:54.066041Z",
     "start_time": "2025-01-09T10:55:53.719203Z"
    }
   },
   "cell_type": "code",
   "source": [
    "# now we need to add the data pipeline in the\n",
    "lineage_details_with_pipeline = LineageDetails(\n",
    "    sqlQuery=query_detail,\n",
    "    columnsLineage=[column_lineage1,column_lineage2,column_lineage3],\n",
    "    pipeline=EntityReference(id=pipeline_entity.id, type=\"pipeline\"),\n",
    ")\n",
    "\n",
    "add_lineage_req3 = AddLineageRequest(\n",
    "    edge=EntitiesEdge(\n",
    "        description=\"## clean france communes dataset\",\n",
    "        fromEntity=EntityReference(id=fr_communes_raw_om_entity.id, type=\"table\"),\n",
    "        toEntity=EntityReference(id=fr_communes_clean_om_entity.id, type=\"table\"),\n",
    "        lineageDetails=lineage_details_with_pipeline,\n",
    "    ),\n",
    ")\n",
    "metadata.add_lineage(data=add_lineage_req3)"
   ],
   "id": "434f28d592fa8e7a",
   "outputs": [
    {
     "data": {
      "text/plain": [
       "{'entity': {'id': 'f233a2ef-9022-4860-a43f-acedcae808dc',\n",
       "  'type': 'table',\n",
       "  'name': 'fr_communes_raw',\n",
       "  'fullyQualifiedName': 'Constances-Geography.hospitals_in_france.Geography.fr_communes_raw',\n",
       "  'description': 'This table contains all geographical information of french communes',\n",
       "  'displayName': 'fr_communes_raw',\n",
       "  'deleted': False,\n",
       "  'href': 'http://datacatalog.casd.local/api/v1/tables/f233a2ef-9022-4860-a43f-acedcae808dc'},\n",
       " 'nodes': [{'id': 'aa41b05c-993d-4379-8e08-cc1b6b67332a',\n",
       "   'type': 'table',\n",
       "   'name': 'fr_communes_clean',\n",
       "   'fullyQualifiedName': 'Constances-Geography.hospitals_in_france.Geography.fr_communes_clean',\n",
       "   'description': 'This table is built based on fr_communes_raw which is suitable for Contances related analysis',\n",
       "   'displayName': 'fr_communes_clean',\n",
       "   'deleted': False,\n",
       "   'href': 'http://datacatalog.casd.local/api/v1/tables/aa41b05c-993d-4379-8e08-cc1b6b67332a'}],\n",
       " 'upstreamEdges': [],\n",
       " 'downstreamEdges': [{'fromEntity': 'f233a2ef-9022-4860-a43f-acedcae808dc',\n",
       "   'toEntity': 'aa41b05c-993d-4379-8e08-cc1b6b67332a',\n",
       "   'lineageDetails': {'sqlQuery': '\\nCreate TABLE fr_communes_clean AS\\n    SELECT fr_communes_raw.nom AS name,\\n           fr_communes_raw.geometry AS geometry,\\n           fr_communes_raw.insee AS insee,\\n    FROM fr_communes_raw;\\n',\n",
       "    'columnsLineage': [{'fromColumns': ['Constances-Geography.hospitals_in_france.Geography.fr_communes_raw.geometry'],\n",
       "      'toColumn': 'Constances-Geography.hospitals_in_france.Geography.fr_communes_clean.geometry'},\n",
       "     {'fromColumns': ['Constances-Geography.hospitals_in_france.Geography.fr_communes_raw.nom'],\n",
       "      'toColumn': 'Constances-Geography.hospitals_in_france.Geography.fr_communes_clean.name'},\n",
       "     {'fromColumns': ['Constances-Geography.hospitals_in_france.Geography.fr_communes_raw.insee'],\n",
       "      'toColumn': 'Constances-Geography.hospitals_in_france.Geography.fr_communes_clean.insee'}],\n",
       "    'pipeline': {'id': '25a5348c-cc8c-446f-bb5e-270e5a49778b',\n",
       "     'type': 'pipeline',\n",
       "     'name': 'count_hospital_per_commune',\n",
       "     'fullyQualifiedName': 'constances_workflow_manager.count_hospital_per_commune',\n",
       "     'description': 'This data pipeline clean raw data and count hospitals of each commune in France',\n",
       "     'displayName': 'count_hospital_per_commune',\n",
       "     'deleted': False},\n",
       "    'source': 'Manual'}}]}"
      ]
     },
     "execution_count": 19,
     "metadata": {},
     "output_type": "execute_result"
    }
   ],
   "execution_count": 19
  },
  {
   "metadata": {},
   "cell_type": "code",
   "outputs": [],
   "execution_count": null,
   "source": "## 3.1 Link a workflow reference",
   "id": "f2fa690348d9747"
  },
  {
   "metadata": {},
   "cell_type": "markdown",
   "source": [
    "# 4 Automate the lineage ingestion\n",
    "\n",
    "To avoid write duplicate code, we can put all the lineage metadata in a configuration file which has the following schema:\n",
    "|src_tab_name|src_col_name|dest_tab_name|dest_col_name|ref_code|\n",
    "|---------------|---------------|-------------|-------------|--------|\n",
    "|the name of the source table|The name of the source column|The name of the destination table|The name of the destination column|reference code of the data transformation|\n",
    "\n",
    "Below code illustrate the automation of the lineage ingestion by using a configuration file called `constances_hospital_lineage.csv`\n"
   ],
   "id": "ae3cd1ae309d4419"
  },
  {
   "metadata": {
    "ExecuteTime": {
     "end_time": "2025-01-07T10:27:30.551944Z",
     "start_time": "2025-01-07T10:27:30.535972Z"
    }
   },
   "cell_type": "code",
   "source": [
    "# 2. read lineage file as dataframe\n",
    "lineage_df = pd.read_csv(lineage_path)\n",
    "lineage_df.head()"
   ],
   "id": "c827e77f8b5d7072",
   "outputs": [
    {
     "data": {
      "text/plain": [
       "      src_tab_name src_col_name        dest_tab_name dest_col_name  \\\n",
       "0  fr_communes_raw     geometry    fr_communes_clean      geometry   \n",
       "1  fr_communes_raw          nom    fr_communes_clean          name   \n",
       "2  fr_communes_raw        insee    fr_communes_clean         insee   \n",
       "3   osm_france_raw           id  osm_hospitals_clean            id   \n",
       "4   osm_france_raw         tags  osm_hospitals_clean          tags   \n",
       "\n",
       "                                            ref_code  \n",
       "0  Seminar3_workflow_automation/airflow/dags/02.h...  \n",
       "1  Seminar3_workflow_automation/airflow/dags/02.h...  \n",
       "2  Seminar3_workflow_automation/airflow/dags/02.h...  \n",
       "3  Seminar3_workflow_automation/airflow/dags/02.h...  \n",
       "4  Seminar3_workflow_automation/airflow/dags/02.h...  "
      ],
      "text/html": [
       "<div>\n",
       "<style scoped>\n",
       "    .dataframe tbody tr th:only-of-type {\n",
       "        vertical-align: middle;\n",
       "    }\n",
       "\n",
       "    .dataframe tbody tr th {\n",
       "        vertical-align: top;\n",
       "    }\n",
       "\n",
       "    .dataframe thead th {\n",
       "        text-align: right;\n",
       "    }\n",
       "</style>\n",
       "<table border=\"1\" class=\"dataframe\">\n",
       "  <thead>\n",
       "    <tr style=\"text-align: right;\">\n",
       "      <th></th>\n",
       "      <th>src_tab_name</th>\n",
       "      <th>src_col_name</th>\n",
       "      <th>dest_tab_name</th>\n",
       "      <th>dest_col_name</th>\n",
       "      <th>ref_code</th>\n",
       "    </tr>\n",
       "  </thead>\n",
       "  <tbody>\n",
       "    <tr>\n",
       "      <th>0</th>\n",
       "      <td>fr_communes_raw</td>\n",
       "      <td>geometry</td>\n",
       "      <td>fr_communes_clean</td>\n",
       "      <td>geometry</td>\n",
       "      <td>Seminar3_workflow_automation/airflow/dags/02.h...</td>\n",
       "    </tr>\n",
       "    <tr>\n",
       "      <th>1</th>\n",
       "      <td>fr_communes_raw</td>\n",
       "      <td>nom</td>\n",
       "      <td>fr_communes_clean</td>\n",
       "      <td>name</td>\n",
       "      <td>Seminar3_workflow_automation/airflow/dags/02.h...</td>\n",
       "    </tr>\n",
       "    <tr>\n",
       "      <th>2</th>\n",
       "      <td>fr_communes_raw</td>\n",
       "      <td>insee</td>\n",
       "      <td>fr_communes_clean</td>\n",
       "      <td>insee</td>\n",
       "      <td>Seminar3_workflow_automation/airflow/dags/02.h...</td>\n",
       "    </tr>\n",
       "    <tr>\n",
       "      <th>3</th>\n",
       "      <td>osm_france_raw</td>\n",
       "      <td>id</td>\n",
       "      <td>osm_hospitals_clean</td>\n",
       "      <td>id</td>\n",
       "      <td>Seminar3_workflow_automation/airflow/dags/02.h...</td>\n",
       "    </tr>\n",
       "    <tr>\n",
       "      <th>4</th>\n",
       "      <td>osm_france_raw</td>\n",
       "      <td>tags</td>\n",
       "      <td>osm_hospitals_clean</td>\n",
       "      <td>tags</td>\n",
       "      <td>Seminar3_workflow_automation/airflow/dags/02.h...</td>\n",
       "    </tr>\n",
       "  </tbody>\n",
       "</table>\n",
       "</div>"
      ]
     },
     "execution_count": 13,
     "metadata": {},
     "output_type": "execute_result"
    }
   ],
   "execution_count": 13
  },
  {
   "metadata": {
    "ExecuteTime": {
     "end_time": "2025-01-07T10:27:31.445330Z",
     "start_time": "2025-01-07T10:27:31.437027Z"
    }
   },
   "cell_type": "code",
   "source": [
    "# config for the lineage data frame colum name\n",
    "SRC_TAB_COL = \"src_tab_name\"\n",
    "SRC_COL_NAME = \"src_col_name\"\n",
    "DEST_TAB_COL = \"dest_tab_name\"\n",
    "DEST_COL_NAME = \"dest_col_name\"\n"
   ],
   "id": "c95fbb28dfe51afe",
   "outputs": [],
   "execution_count": 14
  },
  {
   "metadata": {
    "ExecuteTime": {
     "end_time": "2025-01-07T10:27:32.308018Z",
     "start_time": "2025-01-07T10:27:32.301013Z"
    }
   },
   "cell_type": "code",
   "source": [
    "import re\n",
    "\n",
    "\n",
    "# utils functions\n",
    "def build_column_lineage(lineage_df: pd.DataFrame, source_tab_fqn: str, dest_tab_fqn: str) -> List[ColumnLineage]:\n",
    "    \"\"\"\n",
    "    This function takes a filtered lineage dataframe which only contains one pair of source and dest table, it builds\n",
    "    all corresponding column lineage of the given pair. If no column lineage provided, return an empty list\n",
    "    :param lineage_df: A filtered table/column lineage dataframe\n",
    "    :type lineage_df: pd.Dataframe\n",
    "    :param source_tab_fqn:\n",
    "    :type source_tab_fqn:\n",
    "    :param dest_tab_fqn:\n",
    "    :type dest_tab_fqn:\n",
    "    :return:\n",
    "    :rtype:\n",
    "    \"\"\"\n",
    "    col_lineage_list = []\n",
    "    # group by the dest col name, and collect all linked source col in a list\n",
    "    dest_source_map = lineage_df.groupby(DEST_COL_NAME)[SRC_COL_NAME].agg(lambda x: list(x.unique())).reset_index()\n",
    "    # convert the dataframe to a list of dict\n",
    "    dest_source_map_list = dest_source_map.to_dict(orient=\"records\")\n",
    "    if dest_source_map_list:\n",
    "        # loop the list, for each row build a column lineage\n",
    "        for row in dest_source_map_list:\n",
    "            # complete the column fqn with the table fqn\n",
    "            target_col = f\"{dest_tab_fqn}.{row[DEST_COL_NAME]}\"\n",
    "            source_cols = [f\"{source_tab_fqn}.{col_name}\" for col_name in row[SRC_COL_NAME]]\n",
    "            column_lineage = ColumnLineage(\n",
    "                fromColumns=source_cols,\n",
    "                toColumn=target_col)\n",
    "            col_lineage_list.append(column_lineage)\n",
    "    return col_lineage_list\n",
    "\n",
    "def get_pipeline_entity_by_fqn(om_conn: OpenMetadata, pipeline_fqn: str):\n",
    "    \"\"\"\n",
    "    This function takes a open metadata connexion and a data pipeline fqn, it returns the data pipeline entity\n",
    "    :param om_conn:\n",
    "    :param pipeline_fqn:\n",
    "    :return:\n",
    "    \"\"\"\n",
    "    return om_conn.get_by_name(entity=Pipeline, fqn=pipeline_fqn)\n",
    "\n",
    "def get_query_summary(code_ref_file_path: str) -> Optional[str]:\n",
    "    \"\"\"\n",
    "    This function takes the code ref(e.g. a file path, or an url), get the summary of the script which transforms the table\n",
    "    :param code_ref_file_path:\n",
    "    :type code_ref_file_path: str\n",
    "    :return:\n",
    "    :rtype:\n",
    "    \"\"\"\n",
    "    # Regular expression to find variables like query1, query2, query3, etc.\n",
    "    query_pattern = re.compile(r'query\\d+\\s*=\\s*[\\'\"](.+?)[\\'\"]', re.DOTALL)\n",
    "    query_summary = \"\"\n",
    "    if code_ref_file_path:\n",
    "        with open(code_ref_file_path, \"r\") as file:\n",
    "            file_content = file.read()\n",
    "\n",
    "        queries = query_pattern.findall(file_content)\n",
    "        for query in queries:\n",
    "            query_summary = f\"{query_summary}; \\n {query}\"\n",
    "    return query_summary"
   ],
   "id": "a97aa3dad97c1bf1",
   "outputs": [],
   "execution_count": 15
  },
  {
   "metadata": {
    "ExecuteTime": {
     "end_time": "2025-01-07T10:27:33.576906Z",
     "start_time": "2025-01-07T10:27:33.569464Z"
    }
   },
   "cell_type": "code",
   "source": [
    "# 3. get all source, dest table pair\n",
    "source_dest_tabs = lineage_df[[SRC_TAB_COL, DEST_TAB_COL]].drop_duplicates().to_dict(orient=\"records\")"
   ],
   "id": "b74d8ccc165498e1",
   "outputs": [],
   "execution_count": 16
  },
  {
   "metadata": {},
   "cell_type": "code",
   "source": [
    "# 4. for each table lineage, we create a lineage entity\n",
    "    # a lineage entity contains three parts:\n",
    "    #    - source table entity\n",
    "    #    - dest table entity\n",
    "    #    - lineage details\n",
    "for index, row in enumerate(source_dest_tabs):\n",
    "    # 4.1 get source and dest table entity\n",
    "    source_tab_name = row[SRC_TAB_COL]\n",
    "    dest_tab_name = row[DEST_TAB_COL]\n",
    "    source_tab_fqn = f\"{schema_fqn}.{source_tab_name}\"\n",
    "    dest_tab_fqn = f\"{schema_fqn}.{dest_tab_name}\"\n",
    "    source_tab_entity = get_table_by_name(metadata, source_tab_fqn)\n",
    "    dest_tab_entity = get_table_by_name(metadata, dest_tab_fqn)\n",
    "    # 4.2 test if table exist or not, if not exist, log error and continue to the next table lineage pair\n",
    "    if source_tab_entity:\n",
    "        print(f\"find the source table {source_tab_fqn} in OM server\")\n",
    "    else:\n",
    "        print(f\"can't find table {source_tab_name} in schema {SCHEMA_NAME}\")\n",
    "        continue\n",
    "    if dest_tab_entity:\n",
    "        print(f\"find the dest table {dest_tab_fqn} in OM server\")\n",
    "    else:\n",
    "        print(f\"can't find table {dest_tab_name} in schema {SCHEMA_NAME}\")\n",
    "        continue\n",
    "    # 4.3 if two tables exist, for each pair create a new add lineage request\n",
    "    print(f\"build table lineage from {source_tab_fqn} to {dest_tab_fqn}. current index: {index}\")\n",
    "\n",
    "    # 4.4 Add simple lineage without column details\n",
    "    lineage_details = None\n",
    "add_pipeline_lineage_request = AddLineageRequest(\n",
    "    edge=EntitiesEdge(\n",
    "        fromEntity=EntityReference(id=source_tab_entity.id, type=\"table\"),\n",
    "        toEntity=EntityReference(id=dest_tab_entity.id, type=\"table\"),\n",
    "        lineageDetails=lineage_details,\n",
    "    ), )\n",
    "\n",
    "lineage_entity = metadata.add_lineage(data=add_pipeline_lineage_request)\n",
    "if lineage_entity:\n",
    "    print(f\"table lineage {lineage_entity} is created or updated successfully\")\n",
    "else:\n",
    "    print(f\"can't create table lineage from {source_tab_fqn} to {dest_tab_fqn}\")\n"
   ],
   "id": "59b965e16972d59f",
   "outputs": [],
   "execution_count": null
  },
  {
   "metadata": {},
   "cell_type": "code",
   "outputs": [],
   "execution_count": null,
   "source": "",
   "id": "2fa96daf94ef84a9"
  },
  {
   "metadata": {},
   "cell_type": "code",
   "outputs": [],
   "execution_count": null,
   "source": "",
   "id": "c22b058073b4377a"
  },
  {
   "metadata": {},
   "cell_type": "code",
   "outputs": [],
   "execution_count": null,
   "source": "",
   "id": "7fc558560f96e504"
  }
 ],
 "metadata": {
  "kernelspec": {
   "display_name": "Python 3",
   "language": "python",
   "name": "python3"
  },
  "language_info": {
   "codemirror_mode": {
    "name": "ipython",
    "version": 2
   },
   "file_extension": ".py",
   "mimetype": "text/x-python",
   "name": "python",
   "nbconvert_exporter": "python",
   "pygments_lexer": "ipython2",
   "version": "2.7.6"
  }
 },
 "nbformat": 4,
 "nbformat_minor": 5
}
