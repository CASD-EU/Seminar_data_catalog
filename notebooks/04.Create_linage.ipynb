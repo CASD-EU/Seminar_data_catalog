{
 "cells": [
  {
   "metadata": {
    "collapsed": true,
    "ExecuteTime": {
     "end_time": "2025-09-03T13:22:24.469788Z",
     "start_time": "2025-09-03T13:22:20.426323Z"
    }
   },
   "cell_type": "markdown",
   "source": [
    "# Create metadat of data lineage\n",
    "\n",
    "Lineage is one of the `cornerstones of metadata management` because it answers the `where did this data come from and where is it going?` question.\n",
    "\n",
    "- It helps users to build confidence that the dataset is trustworthy. Users can see how a dataset was produced (its `upstream sources and transformations`).\n",
    "- It helps users to analyze the impact when a source changes (column renamed, schema updated, pipeline fails), lineage reveals which downstream tables, reports, or ML models are affected.\n",
    "- It helps users to be compliant with the regulations (GDPR, HIPAA, CCPA). Users can see where personal data originates, how it flows, and who uses it\n"
   ],
   "id": "49ceb8588e75cacf"
  },
  {
   "metadata": {
    "ExecuteTime": {
     "end_time": "2025-09-11T13:31:22.626033Z",
     "start_time": "2025-09-11T13:31:18.211412Z"
    }
   },
   "cell_type": "code",
   "source": [
    "from typing import List, Optional, Dict\n",
    "\n",
    "import pandas as pd\n",
    "import pathlib\n",
    "\n",
    "from metadata.generated.schema.entity.services.connections.metadata.openMetadataConnection import (OpenMetadataConnection, AuthProvider)\n",
    "from metadata.generated.schema.security.client.openMetadataJWTClientConfig import OpenMetadataJWTClientConfig\n",
    "from metadata.generated.schema.api.data.createPipeline import CreatePipelineRequest\n",
    "from metadata.generated.schema.api.lineage.addLineage import AddLineageRequest\n",
    "from metadata.generated.schema.entity.data.pipeline import Pipeline\n",
    "from metadata.generated.schema.entity.data.table import Table\n",
    "from metadata.generated.schema.entity.services.pipelineService import PipelineService\n",
    "from metadata.generated.schema.type.entityLineage import ColumnLineage, EntitiesEdge, LineageDetails\n",
    "from metadata.generated.schema.type.entityReference import EntityReference\n",
    "from metadata.ingestion.ometa.ometa_api import OpenMetadata"
   ],
   "id": "9e53f2fe31900d4b",
   "outputs": [],
   "execution_count": 2
  },
  {
   "metadata": {
    "ExecuteTime": {
     "end_time": "2025-09-11T13:31:15.777813Z",
     "start_time": "2025-09-11T13:31:15.770497Z"
    }
   },
   "cell_type": "code",
   "source": [
    "# you need to modify this value to match your target open metadata server url\n",
    "target_om_server = \"http://om-dev.casd.local/api\""
   ],
   "id": "d740bf47c9a2579",
   "outputs": [],
   "execution_count": 1
  },
  {
   "metadata": {
    "ExecuteTime": {
     "end_time": "2025-09-11T13:31:24.735266Z",
     "start_time": "2025-09-11T13:31:24.697894Z"
    }
   },
   "cell_type": "code",
   "source": [
    "from conf.creds import om_oidc_token\n",
    "server_config = OpenMetadataConnection(\n",
    "    hostPort=target_om_server,\n",
    "    authProvider=AuthProvider.openmetadata,\n",
    "    securityConfig=OpenMetadataJWTClientConfig(\n",
    "        jwtToken=om_oidc_token,\n",
    "    ),\n",
    ")\n",
    "om_conn = OpenMetadata(server_config)"
   ],
   "id": "312d3163d5cf4ba5",
   "outputs": [],
   "execution_count": 3
  },
  {
   "metadata": {
    "ExecuteTime": {
     "end_time": "2025-09-11T13:31:25.745829Z",
     "start_time": "2025-09-11T13:31:25.727889Z"
    }
   },
   "cell_type": "code",
   "source": [
    "# if it returns true, it means the connection is success\n",
    "om_conn.health_check()"
   ],
   "id": "200de299a8b95268",
   "outputs": [
    {
     "data": {
      "text/plain": [
       "True"
      ]
     },
     "execution_count": 4,
     "metadata": {},
     "output_type": "execute_result"
    }
   ],
   "execution_count": 4
  },
  {
   "metadata": {
    "ExecuteTime": {
     "end_time": "2025-09-11T13:31:32.848303Z",
     "start_time": "2025-09-11T13:31:32.840870Z"
    }
   },
   "cell_type": "code",
   "source": [
    "# conf for the table entity\n",
    "DB_SERVICE_NAME = \"Constances-Geography\"\n",
    "DB_NAME = \"hospitals_in_france\"\n",
    "SCHEMA_NAME = \"Geography\"\n",
    "\n",
    "# conf for lineage file\n",
    "project_root = pathlib.Path.cwd().parent\n",
    "metadata_path = project_root / \"data\""
   ],
   "id": "cc52316e85b2c511",
   "outputs": [],
   "execution_count": 5
  },
  {
   "metadata": {
    "ExecuteTime": {
     "end_time": "2025-09-11T13:31:33.524649Z",
     "start_time": "2025-09-11T13:31:33.520788Z"
    }
   },
   "cell_type": "code",
   "source": "print(metadata_path)",
   "id": "e9dece9ae83f4f1a",
   "outputs": [
    {
     "name": "stdout",
     "output_type": "stream",
     "text": [
      "C:\\Users\\PLIU\\Documents\\git\\Seminare_data_catalog\\data\n"
     ]
    }
   ],
   "execution_count": 6
  },
  {
   "metadata": {
    "ExecuteTime": {
     "end_time": "2025-09-11T13:31:35.801691Z",
     "start_time": "2025-09-11T13:31:35.795309Z"
    }
   },
   "cell_type": "code",
   "source": [
    "# config\n",
    "lineage_path = f\"{metadata_path}/constances_hospital_lineage.csv\"\n",
    "schema_fqn = f\"{DB_SERVICE_NAME}.{DB_NAME}.{SCHEMA_NAME}\"\n",
    "\n",
    "# conf for pipeline service\n",
    "pipeline_service_name=\"test-service-pipeline\"\n",
    "pipe_fqn_col_name=\"pipeline_fqn\"\n",
    "\n",
    "code_ref_col_name=\"ref_code\""
   ],
   "id": "7765cb45ce092219",
   "outputs": [],
   "execution_count": 7
  },
  {
   "metadata": {},
   "cell_type": "markdown",
   "source": [
    "## 1. Create a simple lineage\n",
    "\n",
    "The most simple lineage is just make a link between two tables(from source table to destination table).\n",
    "\n",
    "In the below section, we create a simple lineage between table `fr_communes_raw` and `fr_communes_clean`. It represents a typical data cleaning operation during an ETL data pipeline."
   ],
   "id": "a493648f70a79cc2"
  },
  {
   "metadata": {
    "ExecuteTime": {
     "end_time": "2025-09-11T13:31:39.382547Z",
     "start_time": "2025-09-11T13:31:39.376611Z"
    }
   },
   "cell_type": "code",
   "source": [
    "def get_table_by_name(om_conn: OpenMetadata, table_fqn: str) -> Table:\n",
    "    \"\"\"\n",
    "    This function takes a table fqn, then returns a table entity\n",
    "    :param om_conn: openmetadata connection\n",
    "    :type om_conn: OpenMetadata\n",
    "    :param table_fqn: table fully qualified name\n",
    "    :type table_fqn: str\n",
    "    :return:\n",
    "    :rtype:\n",
    "    \"\"\"\n",
    "    return om_conn.get_by_name(entity=Table, fqn=table_fqn)"
   ],
   "id": "983e6d1640859db9",
   "outputs": [],
   "execution_count": 8
  },
  {
   "metadata": {
    "ExecuteTime": {
     "end_time": "2025-09-11T13:31:40.282258Z",
     "start_time": "2025-09-11T13:31:40.193732Z"
    }
   },
   "cell_type": "code",
   "source": [
    "fr_communes_raw_fqn = f\"{schema_fqn}.fr_communes_raw\"\n",
    "fr_communes_raw_om_entity = get_table_by_name(om_conn,fr_communes_raw_fqn)\n",
    "fr_communes_clean_fqn = f\"{schema_fqn}.fr_communes_clean\"\n",
    "fr_communes_clean_om_entity = get_table_by_name(om_conn,fr_communes_clean_fqn)\n"
   ],
   "id": "f09a932fcb27d8e1",
   "outputs": [],
   "execution_count": 9
  },
  {
   "metadata": {
    "ExecuteTime": {
     "end_time": "2025-09-11T13:31:40.965797Z",
     "start_time": "2025-09-11T13:31:40.957836Z"
    }
   },
   "cell_type": "code",
   "source": [
    "print(fr_communes_raw_om_entity.id)\n",
    "print(fr_communes_clean_om_entity.id)"
   ],
   "id": "f53f7253564bc3d0",
   "outputs": [
    {
     "name": "stdout",
     "output_type": "stream",
     "text": [
      "root=UUID('03b81580-8d76-420a-816b-44d1ef413b30')\n",
      "root=UUID('739db181-1a80-43e6-8a62-c5c363438082')\n"
     ]
    }
   ],
   "execution_count": 10
  },
  {
   "metadata": {
    "ExecuteTime": {
     "end_time": "2025-09-11T13:31:42.919275Z",
     "start_time": "2025-09-11T13:31:42.745726Z"
    }
   },
   "cell_type": "code",
   "source": [
    "add_lineage_req1 = AddLineageRequest(\n",
    "    edge=EntitiesEdge(\n",
    "        description=\"## clean france communes dataset\",\n",
    "        fromEntity=EntityReference(id=fr_communes_raw_om_entity.id, type=\"table\"),\n",
    "        toEntity=EntityReference(id=fr_communes_clean_om_entity.id, type=\"table\"),\n",
    "    ),\n",
    ")\n",
    "om_conn.add_lineage(data=add_lineage_req1)"
   ],
   "id": "6165702539293e8a",
   "outputs": [
    {
     "data": {
      "text/plain": [
       "{'entity': {'id': '03b81580-8d76-420a-816b-44d1ef413b30',\n",
       "  'type': 'table',\n",
       "  'name': 'fr_communes_raw',\n",
       "  'fullyQualifiedName': 'Constances-Geography.hospitals_in_france.Geography.fr_communes_raw',\n",
       "  'description': 'This table contains all geographical information of french communes',\n",
       "  'displayName': 'fr_communes_raw',\n",
       "  'deleted': False,\n",
       "  'href': 'http://localhost:8585/v1/tables/03b81580-8d76-420a-816b-44d1ef413b30'},\n",
       " 'nodes': [{'id': '739db181-1a80-43e6-8a62-c5c363438082',\n",
       "   'type': 'table',\n",
       "   'name': 'fr_communes_clean',\n",
       "   'fullyQualifiedName': 'Constances-Geography.hospitals_in_france.Geography.fr_communes_clean',\n",
       "   'description': 'This table is built based on fr_communes_raw which is suitable for Contances related analysis',\n",
       "   'displayName': 'fr_communes_clean',\n",
       "   'deleted': False,\n",
       "   'href': 'http://localhost:8585/v1/tables/739db181-1a80-43e6-8a62-c5c363438082'}],\n",
       " 'upstreamEdges': [],\n",
       " 'downstreamEdges': [{'fromEntity': '03b81580-8d76-420a-816b-44d1ef413b30',\n",
       "   'toEntity': '739db181-1a80-43e6-8a62-c5c363438082',\n",
       "   'lineageDetails': {'columnsLineage': [],\n",
       "    'source': 'Manual',\n",
       "    'createdAt': 1757597502791,\n",
       "    'createdBy': 'ingestion-bot',\n",
       "    'updatedAt': 1757597502791,\n",
       "    'updatedBy': 'ingestion-bot'}}]}"
      ]
     },
     "execution_count": 11,
     "metadata": {},
     "output_type": "execute_result"
    }
   ],
   "execution_count": 11
  },
  {
   "metadata": {},
   "cell_type": "markdown",
   "source": "> You can notice in the web GUI, we only know the `fr_communes_raw` is the source table for producing table `fr_communes_clean`.",
   "id": "2a9ffb40b137667e"
  },
  {
   "metadata": {},
   "cell_type": "markdown",
   "source": [
    "## 2. Create lineage with column details\n",
    "\n",
    "We have the table level lineage, if we need more information such as the column lineage and code, we need to add more details in the lineage.\n",
    "The below code will create links between columns of the two tables."
   ],
   "id": "b8d5070947fdab57"
  },
  {
   "metadata": {
    "ExecuteTime": {
     "end_time": "2025-09-11T14:22:12.450768Z",
     "start_time": "2025-09-11T14:22:12.243147Z"
    }
   },
   "cell_type": "code",
   "source": [
    "from metadata.generated.schema.type.basic import Markdown\n",
    "\n",
    "column_lineage1 = ColumnLineage(\n",
    "    fromColumns=[f\"{fr_communes_raw_fqn}.geometry\",\n",
    "                 ],\n",
    "    toColumn=f\"{fr_communes_clean_fqn}.geometry\",\n",
    ")\n",
    "\n",
    "column_lineage2 = ColumnLineage(\n",
    "    fromColumns=[f\"{fr_communes_raw_fqn}.nom\",\n",
    "                 ],\n",
    "    toColumn=f\"{fr_communes_clean_fqn}.name\",\n",
    ")\n",
    "\n",
    "column_lineage3 = ColumnLineage(\n",
    "    fromColumns=[f\"{fr_communes_raw_fqn}.insee\",\n",
    "                 ],\n",
    "    toColumn=f\"{fr_communes_clean_fqn}.insee\",\n",
    ")\n",
    "\n",
    "query_detail=\"\"\"\n",
    "Create TABLE fr_communes_clean AS\n",
    "    SELECT fr_communes_raw.nom AS name,\n",
    "           fr_communes_raw.geometry AS geometry,\n",
    "           fr_communes_raw.insee AS insee,\n",
    "    FROM fr_communes_raw;\n",
    "\"\"\"\n",
    "\n",
    "lineage_details = LineageDetails(\n",
    "    sqlQuery=query_detail,\n",
    "    columnsLineage=[column_lineage1,column_lineage2,column_lineage3],\n",
    ")\n",
    "\n",
    "add_lineage_req2 = AddLineageRequest(\n",
    "    edge=EntitiesEdge(\n",
    "        description=Markdown(\"clean france communes dataset\"),\n",
    "        fromEntity=EntityReference(id=fr_communes_raw_om_entity.id, type=\"table\"),\n",
    "        toEntity=EntityReference(id=fr_communes_clean_om_entity.id, type=\"table\"),\n",
    "        lineageDetails=lineage_details,\n",
    "    ),\n",
    ")\n",
    "om_conn.add_lineage(data=add_lineage_req2)\n"
   ],
   "id": "fe824eba5aa6bda2",
   "outputs": [
    {
     "data": {
      "text/plain": [
       "{'entity': {'id': '03b81580-8d76-420a-816b-44d1ef413b30',\n",
       "  'type': 'table',\n",
       "  'name': 'fr_communes_raw',\n",
       "  'fullyQualifiedName': 'Constances-Geography.hospitals_in_france.Geography.fr_communes_raw',\n",
       "  'description': 'This table contains all geographical information of french communes',\n",
       "  'displayName': 'fr_communes_raw',\n",
       "  'deleted': False,\n",
       "  'href': 'http://localhost:8585/v1/tables/03b81580-8d76-420a-816b-44d1ef413b30'},\n",
       " 'nodes': [{'id': '739db181-1a80-43e6-8a62-c5c363438082',\n",
       "   'type': 'table',\n",
       "   'name': 'fr_communes_clean',\n",
       "   'fullyQualifiedName': 'Constances-Geography.hospitals_in_france.Geography.fr_communes_clean',\n",
       "   'description': 'This table is built based on fr_communes_raw which is suitable for Contances related analysis',\n",
       "   'displayName': 'fr_communes_clean',\n",
       "   'deleted': False,\n",
       "   'href': 'http://localhost:8585/v1/tables/739db181-1a80-43e6-8a62-c5c363438082'}],\n",
       " 'upstreamEdges': [],\n",
       " 'downstreamEdges': [{'fromEntity': '03b81580-8d76-420a-816b-44d1ef413b30',\n",
       "   'toEntity': '739db181-1a80-43e6-8a62-c5c363438082',\n",
       "   'lineageDetails': {'sqlQuery': '\\nCreate TABLE fr_communes_clean AS\\n    SELECT fr_communes_raw.nom AS name,\\n           fr_communes_raw.geometry AS geometry,\\n           fr_communes_raw.insee AS insee,\\n    FROM fr_communes_raw;\\n',\n",
       "    'columnsLineage': [{'fromColumns': ['Constances-Geography.hospitals_in_france.Geography.fr_communes_raw.geometry'],\n",
       "      'toColumn': 'Constances-Geography.hospitals_in_france.Geography.fr_communes_clean.geometry'},\n",
       "     {'fromColumns': ['Constances-Geography.hospitals_in_france.Geography.fr_communes_raw.nom'],\n",
       "      'toColumn': 'Constances-Geography.hospitals_in_france.Geography.fr_communes_clean.name'},\n",
       "     {'fromColumns': ['Constances-Geography.hospitals_in_france.Geography.fr_communes_raw.insee'],\n",
       "      'toColumn': 'Constances-Geography.hospitals_in_france.Geography.fr_communes_clean.insee'}],\n",
       "    'source': 'Manual',\n",
       "    'createdAt': 1757600532340,\n",
       "    'createdBy': 'ingestion-bot',\n",
       "    'updatedAt': 1757600532340,\n",
       "    'updatedBy': 'ingestion-bot'}}]}"
      ]
     },
     "execution_count": 12,
     "metadata": {},
     "output_type": "execute_result"
    }
   ],
   "execution_count": 12
  },
  {
   "metadata": {},
   "cell_type": "markdown",
   "source": [
    "## 3. Add a workflow reference\n",
    "\n",
    "If the data transformation is done via a `workflow automation tool`(e.g. airflow, etc.). We can as well ingest the `reference of the data pipeline` used to create the data lineage (e.g., the ETL feeding the tables) into OM.\n",
    "\n",
    "To prepare this example, we need to start by creating the Pipeline Entity. As usual, we have the entity hierarchy, a pipeline must be inside a pipeline service. So we'll need to prepare the Pipeline Service first."
   ],
   "id": "72fb7d8b55d22599"
  },
  {
   "metadata": {
    "ExecuteTime": {
     "end_time": "2025-09-11T15:04:20.250116Z",
     "start_time": "2025-09-11T15:04:20.174990Z"
    }
   },
   "cell_type": "code",
   "source": [
    "from metadata.generated.schema.api.data.createPipeline import CreatePipelineRequest\n",
    "from metadata.generated.schema.api.services.createPipelineService import (\n",
    "    CreatePipelineServiceRequest,\n",
    ")\n",
    "from metadata.generated.schema.entity.services.pipelineService import (\n",
    "    PipelineConnection,\n",
    "    PipelineService,\n",
    "    PipelineServiceType,\n",
    "    airflowConnection\n",
    ")\n",
    "\n",
    "from metadata.generated.schema.entity.services.connections.pipeline.backendConnection import (\n",
    "    BackendConnection,\n",
    ")\n",
    "\n",
    "pipeline_srv_name = \"constance_workflow_manager\"\n",
    "pipeline_srv_url = \"https://om-dev-airflow.casd.local\"\n",
    "\n",
    "pipeline_service = CreatePipelineServiceRequest(\n",
    "    name=pipeline_srv_name,\n",
    "    serviceType=PipelineServiceType.Airflow,\n",
    "    connection=PipelineConnection(\n",
    "        config=airflowConnection.AirflowConnection(\n",
    "            hostPort=pipeline_srv_url,\n",
    "            connection=BackendConnection(),\n",
    "        ),\n",
    "    ),\n",
    ")\n",
    "\n",
    "pipeline_service_entity = om_conn.create_or_update(data=pipeline_service)\n"
   ],
   "id": "17dbae66cce5114d",
   "outputs": [],
   "execution_count": 30
  },
  {
   "metadata": {},
   "cell_type": "markdown",
   "source": "> don't forget to remove \"spark_submit_example\" pipeline service",
   "id": "eb40d8834904b7f1"
  },
  {
   "metadata": {
    "ExecuteTime": {
     "end_time": "2025-09-11T14:49:00.049181Z",
     "start_time": "2025-09-11T14:49:00.042291Z"
    }
   },
   "cell_type": "code",
   "source": "print(pipeline_service_entity.fullyQualifiedName)",
   "id": "d93e7fa200064fc8",
   "outputs": [
    {
     "name": "stdout",
     "output_type": "stream",
     "text": [
      "root='constance_workflow_manager'\n"
     ]
    }
   ],
   "execution_count": 19
  },
  {
   "metadata": {
    "ExecuteTime": {
     "end_time": "2025-09-11T15:04:24.003830Z",
     "start_time": "2025-09-11T15:04:23.943033Z"
    }
   },
   "cell_type": "code",
   "source": [
    "pipeline_name = \"spark_submit_example\"\n",
    "pipeline_url = f\"{pipeline_srv_name}/dags/{pipeline_name}\"\n",
    "pipeline_desc = \"This data pipeline clean raw data and count hospitals of each commune in France\"\n",
    "pipeline_code_src = \"https://github.com/CASD-EU/ConstanceDataPlatform/blob/main/Seminar3_workflow_automation/airflow/dags/02.hopital_count_dags.py\"\n",
    "create_pipeline = CreatePipelineRequest(\n",
    "    name=pipeline_name,\n",
    "    description=pipeline_desc,\n",
    "    sourceUrl=pipeline_url,\n",
    "    concurrency=5,\n",
    "    pipelineLocation=pipeline_code_src,\n",
    "    service=pipeline_service_entity.fullyQualifiedName,\n",
    ")\n",
    "\n",
    "pipeline_entity = om_conn.create_or_update(data=create_pipeline)"
   ],
   "id": "e96293cf49ebe7e2",
   "outputs": [],
   "execution_count": 31
  },
  {
   "metadata": {
    "ExecuteTime": {
     "end_time": "2025-09-11T15:04:25.303076Z",
     "start_time": "2025-09-11T15:04:25.174871Z"
    }
   },
   "cell_type": "code",
   "source": [
    "# now we need to add the data pipeline in the\n",
    "lineage_details_with_pipeline = LineageDetails(\n",
    "    sqlQuery=query_detail,\n",
    "    columnsLineage=[column_lineage1,column_lineage2,column_lineage3],\n",
    "    pipeline=EntityReference(id=pipeline_entity.id, type=\"pipeline\"),\n",
    ")\n",
    "\n",
    "add_lineage_req3 = AddLineageRequest(\n",
    "    edge=EntitiesEdge(\n",
    "        description=\"## clean france communes dataset\",\n",
    "        fromEntity=EntityReference(id=fr_communes_raw_om_entity.id, type=\"table\"),\n",
    "        toEntity=EntityReference(id=fr_communes_clean_om_entity.id, type=\"table\"),\n",
    "        lineageDetails=lineage_details_with_pipeline,\n",
    "    ),\n",
    ")\n",
    "om_conn.add_lineage(data=add_lineage_req3)"
   ],
   "id": "434f28d592fa8e7a",
   "outputs": [
    {
     "data": {
      "text/plain": [
       "{'entity': {'id': '03b81580-8d76-420a-816b-44d1ef413b30',\n",
       "  'type': 'table',\n",
       "  'name': 'fr_communes_raw',\n",
       "  'fullyQualifiedName': 'Constances-Geography.hospitals_in_france.Geography.fr_communes_raw',\n",
       "  'description': 'This table contains all geographical information of french communes',\n",
       "  'displayName': 'fr_communes_raw',\n",
       "  'deleted': False,\n",
       "  'href': 'http://localhost:8585/v1/tables/03b81580-8d76-420a-816b-44d1ef413b30'},\n",
       " 'nodes': [{'id': '739db181-1a80-43e6-8a62-c5c363438082',\n",
       "   'type': 'table',\n",
       "   'name': 'fr_communes_clean',\n",
       "   'fullyQualifiedName': 'Constances-Geography.hospitals_in_france.Geography.fr_communes_clean',\n",
       "   'description': 'This table is built based on fr_communes_raw which is suitable for Contances related analysis',\n",
       "   'displayName': 'fr_communes_clean',\n",
       "   'deleted': False,\n",
       "   'href': 'http://localhost:8585/v1/tables/739db181-1a80-43e6-8a62-c5c363438082'}],\n",
       " 'upstreamEdges': [],\n",
       " 'downstreamEdges': [{'fromEntity': '03b81580-8d76-420a-816b-44d1ef413b30',\n",
       "   'toEntity': '739db181-1a80-43e6-8a62-c5c363438082',\n",
       "   'lineageDetails': {'sqlQuery': '\\nCreate TABLE fr_communes_clean AS\\n    SELECT fr_communes_raw.nom AS name,\\n           fr_communes_raw.geometry AS geometry,\\n           fr_communes_raw.insee AS insee,\\n    FROM fr_communes_raw;\\n',\n",
       "    'columnsLineage': [{'fromColumns': ['Constances-Geography.hospitals_in_france.Geography.fr_communes_raw.geometry'],\n",
       "      'toColumn': 'Constances-Geography.hospitals_in_france.Geography.fr_communes_clean.geometry'},\n",
       "     {'fromColumns': ['Constances-Geography.hospitals_in_france.Geography.fr_communes_raw.nom'],\n",
       "      'toColumn': 'Constances-Geography.hospitals_in_france.Geography.fr_communes_clean.name'},\n",
       "     {'fromColumns': ['Constances-Geography.hospitals_in_france.Geography.fr_communes_raw.insee'],\n",
       "      'toColumn': 'Constances-Geography.hospitals_in_france.Geography.fr_communes_clean.insee'}],\n",
       "    'pipeline': {'id': '056c8e32-a20b-4c16-aa3e-7aecdbca1934',\n",
       "     'type': 'pipeline',\n",
       "     'name': 'spark_submit_example',\n",
       "     'fullyQualifiedName': 'constance_workflow_manager.spark_submit_example',\n",
       "     'description': 'This data pipeline clean raw data and count hospitals of each commune in France',\n",
       "     'displayName': 'spark_submit_example',\n",
       "     'deleted': False},\n",
       "    'source': 'Manual',\n",
       "    'createdAt': 1757603065217,\n",
       "    'createdBy': 'ingestion-bot',\n",
       "    'updatedAt': 1757603065217,\n",
       "    'updatedBy': 'ingestion-bot'}}]}"
      ]
     },
     "execution_count": 32,
     "metadata": {},
     "output_type": "execute_result"
    }
   ],
   "execution_count": 32
  },
  {
   "metadata": {},
   "cell_type": "code",
   "outputs": [],
   "execution_count": null,
   "source": "## 3.1 Link a workflow reference",
   "id": "f2fa690348d9747"
  },
  {
   "metadata": {},
   "cell_type": "code",
   "outputs": [],
   "execution_count": null,
   "source": "",
   "id": "e4ca11c8ef30a54e"
  },
  {
   "metadata": {},
   "cell_type": "markdown",
   "source": [
    "# 4 Automate the lineage ingestion\n",
    "\n",
    "To avoid write duplicate code, we can put all the lineage metadata in a configuration file which has the following schema:\n",
    "|src_tab_name|src_col_name|dest_tab_name|dest_col_name|ref_code|\n",
    "|---------------|---------------|-------------|-------------|--------|\n",
    "|the name of the source table|The name of the source column|The name of the destination table|The name of the destination column|reference code of the data transformation|\n",
    "\n",
    "Below code illustrate the automation of the lineage ingestion by using a configuration file called `constances_hospital_lineage.csv`\n"
   ],
   "id": "ae3cd1ae309d4419"
  },
  {
   "metadata": {
    "ExecuteTime": {
     "end_time": "2025-09-11T14:57:00.852433Z",
     "start_time": "2025-09-11T14:57:00.780329Z"
    }
   },
   "cell_type": "code",
   "source": [
    "# 2. read lineage file as dataframe\n",
    "lineage_df = pd.read_csv(lineage_path)\n",
    "lineage_df.head()"
   ],
   "id": "c827e77f8b5d7072",
   "outputs": [
    {
     "data": {
      "text/plain": [
       "      src_tab_name src_col_name        dest_tab_name dest_col_name  \\\n",
       "0  fr_communes_raw     geometry    fr_communes_clean      geometry   \n",
       "1  fr_communes_raw          nom    fr_communes_clean          name   \n",
       "2  fr_communes_raw        insee    fr_communes_clean         insee   \n",
       "3   osm_france_raw           id  osm_hospitals_clean            id   \n",
       "4   osm_france_raw         tags  osm_hospitals_clean          tags   \n",
       "\n",
       "                                            ref_code  \n",
       "0  Seminar3_workflow_automation/airflow/dags/02.h...  \n",
       "1  Seminar3_workflow_automation/airflow/dags/02.h...  \n",
       "2  Seminar3_workflow_automation/airflow/dags/02.h...  \n",
       "3  Seminar3_workflow_automation/airflow/dags/02.h...  \n",
       "4  Seminar3_workflow_automation/airflow/dags/02.h...  "
      ],
      "text/html": [
       "<div>\n",
       "<style scoped>\n",
       "    .dataframe tbody tr th:only-of-type {\n",
       "        vertical-align: middle;\n",
       "    }\n",
       "\n",
       "    .dataframe tbody tr th {\n",
       "        vertical-align: top;\n",
       "    }\n",
       "\n",
       "    .dataframe thead th {\n",
       "        text-align: right;\n",
       "    }\n",
       "</style>\n",
       "<table border=\"1\" class=\"dataframe\">\n",
       "  <thead>\n",
       "    <tr style=\"text-align: right;\">\n",
       "      <th></th>\n",
       "      <th>src_tab_name</th>\n",
       "      <th>src_col_name</th>\n",
       "      <th>dest_tab_name</th>\n",
       "      <th>dest_col_name</th>\n",
       "      <th>ref_code</th>\n",
       "    </tr>\n",
       "  </thead>\n",
       "  <tbody>\n",
       "    <tr>\n",
       "      <th>0</th>\n",
       "      <td>fr_communes_raw</td>\n",
       "      <td>geometry</td>\n",
       "      <td>fr_communes_clean</td>\n",
       "      <td>geometry</td>\n",
       "      <td>Seminar3_workflow_automation/airflow/dags/02.h...</td>\n",
       "    </tr>\n",
       "    <tr>\n",
       "      <th>1</th>\n",
       "      <td>fr_communes_raw</td>\n",
       "      <td>nom</td>\n",
       "      <td>fr_communes_clean</td>\n",
       "      <td>name</td>\n",
       "      <td>Seminar3_workflow_automation/airflow/dags/02.h...</td>\n",
       "    </tr>\n",
       "    <tr>\n",
       "      <th>2</th>\n",
       "      <td>fr_communes_raw</td>\n",
       "      <td>insee</td>\n",
       "      <td>fr_communes_clean</td>\n",
       "      <td>insee</td>\n",
       "      <td>Seminar3_workflow_automation/airflow/dags/02.h...</td>\n",
       "    </tr>\n",
       "    <tr>\n",
       "      <th>3</th>\n",
       "      <td>osm_france_raw</td>\n",
       "      <td>id</td>\n",
       "      <td>osm_hospitals_clean</td>\n",
       "      <td>id</td>\n",
       "      <td>Seminar3_workflow_automation/airflow/dags/02.h...</td>\n",
       "    </tr>\n",
       "    <tr>\n",
       "      <th>4</th>\n",
       "      <td>osm_france_raw</td>\n",
       "      <td>tags</td>\n",
       "      <td>osm_hospitals_clean</td>\n",
       "      <td>tags</td>\n",
       "      <td>Seminar3_workflow_automation/airflow/dags/02.h...</td>\n",
       "    </tr>\n",
       "  </tbody>\n",
       "</table>\n",
       "</div>"
      ]
     },
     "execution_count": 25,
     "metadata": {},
     "output_type": "execute_result"
    }
   ],
   "execution_count": 25
  },
  {
   "metadata": {
    "ExecuteTime": {
     "end_time": "2025-09-11T14:57:01.781775Z",
     "start_time": "2025-09-11T14:57:01.774686Z"
    }
   },
   "cell_type": "code",
   "source": [
    "# config for the lineage data frame colum name\n",
    "SRC_TAB_COL = \"src_tab_name\"\n",
    "SRC_COL_NAME = \"src_col_name\"\n",
    "DEST_TAB_COL = \"dest_tab_name\"\n",
    "DEST_COL_NAME = \"dest_col_name\"\n"
   ],
   "id": "c95fbb28dfe51afe",
   "outputs": [],
   "execution_count": 26
  },
  {
   "metadata": {
    "ExecuteTime": {
     "end_time": "2025-09-11T14:57:02.503085Z",
     "start_time": "2025-09-11T14:57:02.485978Z"
    }
   },
   "cell_type": "code",
   "source": [
    "import re\n",
    "\n",
    "\n",
    "# utils functions\n",
    "def build_column_lineage(lineage_df: pd.DataFrame, source_tab_fqn: str, dest_tab_fqn: str) -> List[ColumnLineage]:\n",
    "    \"\"\"\n",
    "    This function takes a filtered lineage dataframe which only contains one pair of source and dest table, it builds\n",
    "    all corresponding column lineage of the given pair. If no column lineage is provided, return an empty list\n",
    "    :param lineage_df: A filtered table/column lineage dataframe\n",
    "    :type lineage_df: pd.Dataframe\n",
    "    :param source_tab_fqn:\n",
    "    :type source_tab_fqn:\n",
    "    :param dest_tab_fqn:\n",
    "    :type dest_tab_fqn:\n",
    "    :return:\n",
    "    :rtype:\n",
    "    \"\"\"\n",
    "    col_lineage_list = []\n",
    "    # group by the dest col name, and collect all linked source col in a list\n",
    "    dest_source_map = lineage_df.groupby(DEST_COL_NAME)[SRC_COL_NAME].agg(lambda x: list(x.unique())).reset_index()\n",
    "    # convert the dataframe to a list of dict\n",
    "    dest_source_map_list = dest_source_map.to_dict(orient=\"records\")\n",
    "    if dest_source_map_list:\n",
    "        # loop the list, for each row build a column lineage\n",
    "        for row in dest_source_map_list:\n",
    "            # complete the column fqn with the table fqn\n",
    "            target_col = f\"{dest_tab_fqn}.{row[DEST_COL_NAME]}\"\n",
    "            source_cols = [f\"{source_tab_fqn}.{col_name}\" for col_name in row[SRC_COL_NAME]]\n",
    "            column_lineage = ColumnLineage(\n",
    "                fromColumns=source_cols,\n",
    "                toColumn=target_col)\n",
    "            col_lineage_list.append(column_lineage)\n",
    "    return col_lineage_list\n",
    "\n",
    "def get_pipeline_entity_by_fqn(om_conn: OpenMetadata, pipeline_fqn: str):\n",
    "    \"\"\"\n",
    "    This function takes a open metadata connexion and a data pipeline fqn, it returns the data pipeline entity\n",
    "    :param om_conn:\n",
    "    :param pipeline_fqn:\n",
    "    :return:\n",
    "    \"\"\"\n",
    "    return om_conn.get_by_name(entity=Pipeline, fqn=pipeline_fqn)\n",
    "\n",
    "def get_query_summary(code_ref_file_path: str) -> Optional[str]:\n",
    "    \"\"\"\n",
    "    This function takes the code ref(e.g. a file path, or an url), get the summary of the script which transforms the table\n",
    "    :param code_ref_file_path:\n",
    "    :type code_ref_file_path: str\n",
    "    :return:\n",
    "    :rtype:\n",
    "    \"\"\"\n",
    "    # Regular expression to find variables like query1, query2, query3, etc.\n",
    "    query_pattern = re.compile(r'query\\d+\\s*=\\s*[\\'\"](.+?)[\\'\"]', re.DOTALL)\n",
    "    query_summary = \"\"\n",
    "    if code_ref_file_path:\n",
    "        with open(code_ref_file_path, \"r\") as file:\n",
    "            file_content = file.read()\n",
    "\n",
    "        queries = query_pattern.findall(file_content)\n",
    "        for query in queries:\n",
    "            query_summary = f\"{query_summary}; \\n {query}\"\n",
    "    return query_summary"
   ],
   "id": "a97aa3dad97c1bf1",
   "outputs": [],
   "execution_count": 27
  },
  {
   "metadata": {
    "ExecuteTime": {
     "end_time": "2025-09-11T14:57:03.114438Z",
     "start_time": "2025-09-11T14:57:03.060136Z"
    }
   },
   "cell_type": "code",
   "source": [
    "# 3. get all source, dest table pair\n",
    "source_dest_tabs = lineage_df[[SRC_TAB_COL, DEST_TAB_COL]].drop_duplicates().to_dict(orient=\"records\")"
   ],
   "id": "b74d8ccc165498e1",
   "outputs": [],
   "execution_count": 28
  },
  {
   "metadata": {
    "ExecuteTime": {
     "end_time": "2025-09-11T14:57:04.085343Z",
     "start_time": "2025-09-11T14:57:03.647926Z"
    }
   },
   "cell_type": "code",
   "source": [
    "# 4. for each table lineage, we create a lineage entity\n",
    "    # a lineage entity contains three parts:\n",
    "    #    - source table entity\n",
    "    #    - dest table entity\n",
    "    #    - lineage details\n",
    "for index, row in enumerate(source_dest_tabs):\n",
    "    # 4.1 get source and dest table entity\n",
    "    source_tab_name = row[SRC_TAB_COL]\n",
    "    dest_tab_name = row[DEST_TAB_COL]\n",
    "    source_tab_fqn = f\"{schema_fqn}.{source_tab_name}\"\n",
    "    dest_tab_fqn = f\"{schema_fqn}.{dest_tab_name}\"\n",
    "    source_tab_entity = get_table_by_name(om_conn, source_tab_fqn)\n",
    "    dest_tab_entity = get_table_by_name(om_conn, dest_tab_fqn)\n",
    "    # 4.2 test if table exist or not, if not exist, log error and continue to the next table lineage pair\n",
    "    if source_tab_entity:\n",
    "        print(f\"find the source table {source_tab_fqn} in OM server\")\n",
    "    else:\n",
    "        print(f\"can't find table {source_tab_name} in schema {SCHEMA_NAME}\")\n",
    "        continue\n",
    "    if dest_tab_entity:\n",
    "        print(f\"find the dest table {dest_tab_fqn} in OM server\")\n",
    "    else:\n",
    "        print(f\"can't find table {dest_tab_name} in schema {SCHEMA_NAME}\")\n",
    "        continue\n",
    "    # 4.3 if two tables exist, for each pair create a new add lineage request\n",
    "    print(f\"build table lineage from {source_tab_fqn} to {dest_tab_fqn}. current index: {index}\")\n",
    "\n",
    "    # 4.4 Add simple lineage without column details\n",
    "    lineage_details = None\n",
    "add_pipeline_lineage_request = AddLineageRequest(\n",
    "    edge=EntitiesEdge(\n",
    "        fromEntity=EntityReference(id=source_tab_entity.id, type=\"table\"),\n",
    "        toEntity=EntityReference(id=dest_tab_entity.id, type=\"table\"),\n",
    "        lineageDetails=lineage_details,\n",
    "    ), )\n",
    "\n",
    "lineage_entity = om_conn.add_lineage(data=add_pipeline_lineage_request)\n",
    "if lineage_entity:\n",
    "    print(f\"table lineage {lineage_entity} is created or updated successfully\")\n",
    "else:\n",
    "    print(f\"can't create table lineage from {source_tab_fqn} to {dest_tab_fqn}\")\n"
   ],
   "id": "59b965e16972d59f",
   "outputs": [
    {
     "name": "stdout",
     "output_type": "stream",
     "text": [
      "find the source table Constances-Geography.hospitals_in_france.Geography.fr_communes_raw in OM server\n",
      "find the dest table Constances-Geography.hospitals_in_france.Geography.fr_communes_clean in OM server\n",
      "build table lineage from Constances-Geography.hospitals_in_france.Geography.fr_communes_raw to Constances-Geography.hospitals_in_france.Geography.fr_communes_clean. current index: 0\n",
      "find the source table Constances-Geography.hospitals_in_france.Geography.osm_france_raw in OM server\n",
      "find the dest table Constances-Geography.hospitals_in_france.Geography.osm_hospitals_clean in OM server\n",
      "build table lineage from Constances-Geography.hospitals_in_france.Geography.osm_france_raw to Constances-Geography.hospitals_in_france.Geography.osm_hospitals_clean. current index: 1\n",
      "find the source table Constances-Geography.hospitals_in_france.Geography.fr_communes_clean in OM server\n",
      "find the dest table Constances-Geography.hospitals_in_france.Geography.hospitals_in_communes in OM server\n",
      "build table lineage from Constances-Geography.hospitals_in_france.Geography.fr_communes_clean to Constances-Geography.hospitals_in_france.Geography.hospitals_in_communes. current index: 2\n",
      "find the source table Constances-Geography.hospitals_in_france.Geography.osm_hospitals_clean in OM server\n",
      "find the dest table Constances-Geography.hospitals_in_france.Geography.hospitals_in_communes in OM server\n",
      "build table lineage from Constances-Geography.hospitals_in_france.Geography.osm_hospitals_clean to Constances-Geography.hospitals_in_france.Geography.hospitals_in_communes. current index: 3\n",
      "table lineage {'entity': {'id': '52b3cee8-13e4-4f91-b514-2dd1dd2362d4', 'type': 'table', 'name': 'osm_hospitals_clean', 'fullyQualifiedName': 'Constances-Geography.hospitals_in_france.Geography.osm_hospitals_clean', 'description': 'This table is build based on osm_france_raw. It only contains geographical information of hospitals in france', 'displayName': 'osm_hospitals_clean', 'deleted': False, 'href': 'http://localhost:8585/v1/tables/52b3cee8-13e4-4f91-b514-2dd1dd2362d4'}, 'nodes': [{'id': '855c4ae4-20e8-4ce6-96f9-94a36f03e2cf', 'type': 'table', 'name': 'hospitals_in_communes', 'fullyQualifiedName': 'Constances-Geography.hospitals_in_france.Geography.hospitals_in_communes', 'description': 'This table contains the number of hospitals in each communes', 'displayName': 'hospitals_in_communes', 'deleted': False, 'href': 'http://localhost:8585/v1/tables/855c4ae4-20e8-4ce6-96f9-94a36f03e2cf'}], 'upstreamEdges': [], 'downstreamEdges': [{'fromEntity': '52b3cee8-13e4-4f91-b514-2dd1dd2362d4', 'toEntity': '855c4ae4-20e8-4ce6-96f9-94a36f03e2cf', 'lineageDetails': {'columnsLineage': [], 'source': 'Manual', 'createdAt': 1757602623983, 'createdBy': 'ingestion-bot', 'updatedAt': 1757602623983, 'updatedBy': 'ingestion-bot'}}]} is created or updated successfully\n"
     ]
    }
   ],
   "execution_count": 29
  },
  {
   "metadata": {},
   "cell_type": "code",
   "outputs": [],
   "execution_count": null,
   "source": "",
   "id": "2fa96daf94ef84a9"
  },
  {
   "metadata": {},
   "cell_type": "code",
   "outputs": [],
   "execution_count": null,
   "source": "",
   "id": "c22b058073b4377a"
  },
  {
   "metadata": {},
   "cell_type": "code",
   "outputs": [],
   "execution_count": null,
   "source": "",
   "id": "7fc558560f96e504"
  }
 ],
 "metadata": {
  "kernelspec": {
   "display_name": "Python 3",
   "language": "python",
   "name": "python3"
  },
  "language_info": {
   "codemirror_mode": {
    "name": "ipython",
    "version": 2
   },
   "file_extension": ".py",
   "mimetype": "text/x-python",
   "name": "python",
   "nbconvert_exporter": "python",
   "pygments_lexer": "ipython2",
   "version": "2.7.6"
  }
 },
 "nbformat": 4,
 "nbformat_minor": 5
}
