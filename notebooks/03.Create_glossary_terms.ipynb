{
 "cells": [
  {
   "cell_type": "code",
   "id": "initial_id",
   "metadata": {
    "collapsed": true,
    "ExecuteTime": {
     "end_time": "2025-09-03T11:41:30.140192Z",
     "start_time": "2025-09-03T11:41:26.032702Z"
    }
   },
   "source": [
    "from typing import Dict\n",
    "\n",
    "from metadata.ingestion.ometa.ometa_api import OpenMetadata\n",
    "from metadata.generated.schema.entity.services.connections.metadata.openMetadataConnection import (\n",
    "    OpenMetadataConnection, AuthProvider)\n",
    "from metadata.generated.schema.security.client.openMetadataJWTClientConfig import OpenMetadataJWTClientConfig\n",
    "\n",
    "import chardet\n",
    "import pandas as pd\n",
    "\n",
    "from metadata.generated.schema.entity.data.table import Table\n",
    "from metadata.ingestion.ometa.mixins.patch_mixin_utils import PatchOperation\n",
    "from metadata.ingestion.models.table_metadata import ColumnTag\n",
    "from metadata.generated.schema.type.tagLabel import TagLabel, TagSource, State, LabelType"
   ],
   "outputs": [],
   "execution_count": 1
  },
  {
   "metadata": {
    "ExecuteTime": {
     "end_time": "2025-09-03T11:43:44.964252Z",
     "start_time": "2025-09-03T11:43:44.959076Z"
    }
   },
   "cell_type": "code",
   "source": [
    "# you need to modify this value to match your target open metadata server url\n",
    "target_om_server = \"http://om-dev.casd.local/api\""
   ],
   "id": "27672d7f3c576054",
   "outputs": [],
   "execution_count": 3
  },
  {
   "metadata": {
    "ExecuteTime": {
     "end_time": "2025-09-03T11:43:45.565083Z",
     "start_time": "2025-09-03T11:43:45.531059Z"
    }
   },
   "cell_type": "code",
   "source": [
    "from conf.creds import om_oidc_token\n",
    "\n",
    "server_config = OpenMetadataConnection(\n",
    "    hostPort=target_om_server,\n",
    "    authProvider=AuthProvider.openmetadata,\n",
    "    securityConfig=OpenMetadataJWTClientConfig(\n",
    "        jwtToken=om_oidc_token,\n",
    "    ),\n",
    ")\n",
    "metadata = OpenMetadata(server_config)"
   ],
   "id": "192bc36f1c47ca26",
   "outputs": [],
   "execution_count": 4
  },
  {
   "metadata": {
    "ExecuteTime": {
     "end_time": "2025-09-03T11:43:47.037860Z",
     "start_time": "2025-09-03T11:43:47.018638Z"
    }
   },
   "cell_type": "code",
   "source": [
    "# if it returns true, it means the connection is success \n",
    "metadata.health_check()"
   ],
   "id": "2fc5eb43e733ab55",
   "outputs": [
    {
     "data": {
      "text/plain": [
       "True"
      ]
     },
     "execution_count": 5,
     "metadata": {},
     "output_type": "execute_result"
    }
   ],
   "execution_count": 5
  },
  {
   "metadata": {
    "ExecuteTime": {
     "end_time": "2025-09-03T11:43:59.458917Z",
     "start_time": "2025-09-03T11:43:59.451444Z"
    }
   },
   "cell_type": "code",
   "source": [
    "import pathlib\n",
    "\n",
    "project_root = pathlib.Path.cwd().parent\n",
    "metadata_path = project_root / \"data\"\n",
    "\n",
    "print(metadata_path)"
   ],
   "id": "5f5f371ea159f126",
   "outputs": [
    {
     "name": "stdout",
     "output_type": "stream",
     "text": [
      "C:\\Users\\PLIU\\Documents\\git\\Seminare_data_catalog\\data\n"
     ]
    }
   ],
   "execution_count": 7
  },
  {
   "metadata": {},
   "cell_type": "markdown",
   "source": [
    "## 1. Preprocessing of the nomenclature\n",
    "\n",
    "We need to gather the information of nomenclature, and build terms which is compatible with open metadata."
   ],
   "id": "5ba3d63ea7e34ecc"
  },
  {
   "metadata": {
    "ExecuteTime": {
     "end_time": "2025-09-03T11:44:04.531984Z",
     "start_time": "2025-09-03T11:44:04.523373Z"
    }
   },
   "cell_type": "code",
   "source": [
    "nomen_spec_path = f\"{metadata_path}/constances_nomenclatures.csv\"\n",
    "column_spec_path = f\"{metadata_path}/constances_vars.csv\"\n",
    "desc_dir_path = f\"{metadata_path}/nomenclature_values\"\n",
    "nomen_om_term_out_path = f\"{metadata_path}/om_nomenclatures.csv\""
   ],
   "id": "14eea3c367a1460d",
   "outputs": [],
   "execution_count": 8
  },
  {
   "metadata": {
    "ExecuteTime": {
     "end_time": "2025-09-03T11:44:05.246662Z",
     "start_time": "2025-09-03T11:44:05.239543Z"
    }
   },
   "cell_type": "code",
   "source": [
    "def create_term_row(name: str, display_name: str, description: str, parent: str = \"\", synonyms: str = None,\n",
    "                    related_terms: str = \"\", references: str = \"\", tags: str = \"\", reviewers: str = \"\",\n",
    "                    owner: str = \"user;admin\", status: str = \"Approved\") -> Dict[str, str]:\n",
    "    \"\"\"\n",
    "    This function build a row of the glossary term dataframe which can be imported into the om server via web ui\n",
    "    :param name: glossary term name\n",
    "    :type name: str\n",
    "    :param display_name: The display name of the glossary term\n",
    "    :type display_name: str\n",
    "    :param description: The description of the glossary term, it can take mark down format\n",
    "    :type description: str\n",
    "    :param parent: specify the parent term of the current term, it takes the fqn of the term\n",
    "    :type parent: str\n",
    "    :param synonyms: specify a list of synonyms of the current term, use ; as separator.\n",
    "    :type synonyms: str\n",
    "    :param related_terms: specify a list of related terms of the current term, use ; as separator. It takes the fqn of the term\n",
    "    :type related_terms: str\n",
    "    :param references: Add links from the internet from where you inherited the term. The references must be in the format (name;url;name;url)\n",
    "    :type references: str\n",
    "    :param tags: Add the tags which are already existing in OpenMetadata. The tags must be in the format (PII.Sensitive;PersonalData.Personal)\n",
    "    :type tags: str\n",
    "    :param reviewers: Add an existing user to review the term. It must be in format (user;uid)\n",
    "    :type reviewers: str\n",
    "    :param owner: Add an existing user as the owner of the term. It must be in format (user;uid)\n",
    "    :type owner: str\n",
    "    :param status: The status of the term, it's a enum type\n",
    "    :type status: str\n",
    "    :return:\n",
    "    :rtype:\n",
    "    \"\"\"\n",
    "    # don't know why, the synonyms can't be empty. otherwise the term is not valid\n",
    "    if synonyms is None:\n",
    "        synonyms = display_name.lower()\n",
    "    return {\n",
    "        \"parent\": parent,\n",
    "        \"name*\": name.strip(),\n",
    "        \"displayName\": display_name.strip(),\n",
    "        \"description\": description,\n",
    "        \"synonyms\": synonyms,\n",
    "        \"relatedTerms\": related_terms,\n",
    "        \"references\": references,\n",
    "        \"tags\": tags,\n",
    "        \"reviewers\": reviewers,\n",
    "        \"owner\": owner,\n",
    "        \"status\": status}"
   ],
   "id": "88856182d07d9d97",
   "outputs": [],
   "execution_count": 9
  },
  {
   "metadata": {
    "ExecuteTime": {
     "end_time": "2025-09-03T11:44:05.913632Z",
     "start_time": "2025-09-03T11:44:05.906429Z"
    }
   },
   "cell_type": "code",
   "source": [
    "def detect_file_encoding(file_path: str) -> str:\n",
    "    # Detect the encoding of the CSV file\n",
    "    with open(file_path, 'rb') as f:\n",
    "        result = chardet.detect(f.read())\n",
    "        return result['encoding']\n",
    "\n",
    "\n",
    "def parse_linked_col_str(cols_str: str):\n",
    "    \"\"\"\n",
    "    This function parse the linked col raw string value.\n",
    "    :param cols_str:\n",
    "    :type cols_str:\n",
    "    :return:\n",
    "    :rtype:\n",
    "    \"\"\"\n",
    "    if cols_str.strip() == \"Aucune variable liée\":\n",
    "        linked_cols = []\n",
    "    else:\n",
    "        # if the value contains \", remove it\n",
    "        clean_str = cols_str.replace(\"\\\"\", \"\")\n",
    "        linked_cols = [item.strip() for item in clean_str.split(\",\")]\n",
    "    return linked_cols\n",
    "\n",
    "\n",
    "def parse_nomenclature_row(row: dict, desc_dir_path: str):\n",
    "    \"\"\"\n",
    "    This function takes one row of the nomenclature data frame, parse it and return\n",
    "    the name of the nomenclature, description with value table. and linked table name list\n",
    "    :param desc_dir_path: The root dir which contains the description file of each nomenclature\n",
    "    :type desc_dir_path: str\n",
    "    :param row: A dict which represent a row of the snds_nomenclature table\n",
    "    :type row: Dict\n",
    "    :return:\n",
    "    :rtype:\n",
    "    \"\"\"\n",
    "    # 1.get the name of the term\n",
    "    term_name = row[\"nomenclature\"]\n",
    "\n",
    "    # 2. get the description of the term\n",
    "    desc = row[\"titre\"]\n",
    "    # get the value table path,\n",
    "\n",
    "    desc_file_path = f\"{desc_dir_path}/{term_name}.csv\"\n",
    "    file_encoding = detect_file_encoding(desc_file_path)\n",
    "    # get the value table content\n",
    "    desc_detail = pd.read_csv(desc_file_path, sep=\";\", encoding=file_encoding).to_markdown(index=False)\n",
    "    # build the description in Markdown format\n",
    "    full_desc = f\"{desc} \\n {desc_detail}\"\n",
    "\n",
    "    # 3. get the linked columns\n",
    "    linked_cols_str = row[\"variables_liees\"]\n",
    "    linked_cols = parse_linked_col_str(linked_cols_str)\n",
    "\n",
    "    return term_name, full_desc, linked_cols"
   ],
   "id": "56377ecd4c0467f2",
   "outputs": [],
   "execution_count": 10
  },
  {
   "metadata": {
    "ExecuteTime": {
     "end_time": "2025-09-03T11:44:06.584510Z",
     "start_time": "2025-09-03T11:44:06.561416Z"
    }
   },
   "cell_type": "code",
   "source": [
    "# 2. Read the nomenclature file\n",
    "nom_df = pd.read_csv(nomen_spec_path).drop_duplicates(subset=[\"nomenclature\"])\n",
    "\n",
    "print(nom_df.head(5))\n"
   ],
   "id": "6464fae7a70e1a04",
   "outputs": [
    {
     "name": "stdout",
     "output_type": "stream",
     "text": [
      "    nomenclature                                              titre  \\\n",
      "0  geometry_type  The description of possible type values in a g...   \n",
      "1     code_insee  The administrative code of a french commune is...   \n",
      "\n",
      "  variables_liees  nombre_lignes  \n",
      "0        geometry            NaN  \n",
      "1           insee            NaN  \n"
     ]
    }
   ],
   "execution_count": 11
  },
  {
   "metadata": {
    "ExecuteTime": {
     "end_time": "2025-09-03T11:44:07.621499Z",
     "start_time": "2025-09-03T11:44:07.610380Z"
    }
   },
   "cell_type": "code",
   "source": [
    "generated_term_rows = []\n",
    "# 3. For each row in the nomenclature file, generate a new row for OM term\n",
    "for index, row in nom_df.iterrows():\n",
    "    row_dict = row.to_dict()\n",
    "    print(row_dict)\n",
    "    term_name, full_desc, linked_cols = parse_nomenclature_row(row_dict, desc_dir_path)\n",
    "    print(f\"treating term: {term_name}\")\n",
    "    generated_term_rows.append(create_term_row(term_name, term_name, full_desc))\n",
    "\n",
    "print(generated_term_rows)"
   ],
   "id": "64e07718deb474e2",
   "outputs": [
    {
     "name": "stdout",
     "output_type": "stream",
     "text": [
      "{'nomenclature': 'geometry_type', 'titre': 'The description of possible type values in a geometry column', 'variables_liees': 'geometry', 'nombre_lignes': nan}\n",
      "treating term: geometry_type\n",
      "{'nomenclature': 'code_insee', 'titre': 'The administrative code of a french commune issued by INSEE ', 'variables_liees': 'insee', 'nombre_lignes': nan}\n",
      "treating term: code_insee\n",
      "[{'parent': '', 'name*': 'geometry_type', 'displayName': 'geometry_type', 'description': 'The description of possible type values in a geometry column \\n | geo_type   | description                                                     |\\n|:-----------|:----------------------------------------------------------------|\\n| point      | A pair of (latitude, longitude) which represent the geolocation |\\n| line       | A list of points which represent a line                         |\\n| polygon    | A list of points which represent a polygone                     |', 'synonyms': 'geometry_type', 'relatedTerms': '', 'references': '', 'tags': '', 'reviewers': '', 'owner': 'user;admin', 'status': 'Approved'}, {'parent': '', 'name*': 'code_insee', 'displayName': 'code_insee', 'description': 'The administrative code of a french commune issued by INSEE  \\n |   insee_code | commune_name   |\\n|-------------:|:---------------|\\n|            1 | toto           |\\n|            2 | titi           |\\n|            3 | tata           |', 'synonyms': 'code_insee', 'relatedTerms': '', 'references': '', 'tags': '', 'reviewers': '', 'owner': 'user;admin', 'status': 'Approved'}]\n"
     ]
    }
   ],
   "execution_count": 12
  },
  {
   "metadata": {
    "ExecuteTime": {
     "end_time": "2025-09-03T11:44:08.915484Z",
     "start_time": "2025-09-03T11:44:08.904155Z"
    }
   },
   "cell_type": "code",
   "source": [
    "# 4. build a dataframe and export to csv\n",
    "nomen_om_term_df = pd.DataFrame(generated_term_rows)\n",
    "nomen_om_term_df.to_csv(nomen_om_term_out_path, index=False, sep=\",\", encoding=\"utf-8\")"
   ],
   "id": "a20982cc4ee08acc",
   "outputs": [],
   "execution_count": 13
  },
  {
   "metadata": {},
   "cell_type": "markdown",
   "source": [
    "## 2. Ingest the nomenclature\n",
    "\n",
    "\n",
    "For now(09-2025), **the python-sdk does not support nomenclature ingestion**. We have not found api too. The official doc for ingesting glossary and terms is [here](https://docs.open-metadata.org/latest/how-to-guides/data-governance/glossary/import). So we will `load the glossary term via OM GUI`. The goal is:\n",
    "\n",
    "1. Create a glossary called \"constances_geo_terms\"\n",
    "2. Insert the generated om_nomenclatures.csv \n",
    "\n"
   ],
   "id": "5fa242434e9a4780"
  },
  {
   "metadata": {},
   "cell_type": "code",
   "outputs": [],
   "execution_count": null,
   "source": "",
   "id": "97d6cd7f42b11bf7"
  },
  {
   "metadata": {},
   "cell_type": "markdown",
   "source": [
    "## 3. Link terms with target columns\n",
    "\n",
    "The terms in glossary has been created, now we need to associate the terms with matched columns.\n",
    "\n",
    "> if you already move the database to the domain constances, you also need to move the glossary to the domain constances. Othwise, you can not associate the term with the target columns"
   ],
   "id": "96e444eb37031d3e"
  },
  {
   "metadata": {
    "ExecuteTime": {
     "end_time": "2025-09-03T11:44:13.296053Z",
     "start_time": "2025-09-03T11:44:13.292971Z"
    }
   },
   "cell_type": "code",
   "source": [
    "DB_SERVICE_NAME = \"Constances-Geography\"\n",
    "DB_NAME = \"hospitals_in_france\"\n",
    "SCHEMA_NAME = \"Geography\"\n",
    "glossary_name = \"constances_geo_terms\""
   ],
   "id": "30360bf75e069c88",
   "outputs": [],
   "execution_count": 14
  },
  {
   "metadata": {
    "ExecuteTime": {
     "end_time": "2025-09-03T11:44:14.501079Z",
     "start_time": "2025-09-03T11:44:14.489884Z"
    }
   },
   "cell_type": "code",
   "source": [
    "from metadata.generated.schema.entity.data.glossaryTerm import GlossaryTerm\n",
    "\n",
    "\n",
    "def search_constance_column_name(tab_col_path: str, target_col_name: str) -> list:\n",
    "    \"\"\"\n",
    "    This function read the constances_vars, find all rows that contains the\n",
    "    target column name. return a list of all match table column pair\n",
    "    :param tab_col_path:\n",
    "    :type tab_col_path:\n",
    "    :param target_col_name:\n",
    "    :type target_col_name:\n",
    "    :return:\n",
    "    :rtype:\n",
    "    \"\"\"\n",
    "    res_tab_col = []\n",
    "    col_df = pd.read_csv(tab_col_path, header=0)\n",
    "    target_tab_col = col_df[col_df[\"var\"] == target_col_name]\n",
    "    if len(target_tab_col) > 0:\n",
    "        for index, row in target_tab_col.iterrows():\n",
    "            row_dict = row.to_dict()\n",
    "            res_tab_col.append({\n",
    "                \"table\": row_dict[\"table\"],\n",
    "                \"column\": row_dict[\"var\"],\n",
    "            })\n",
    "\n",
    "    return res_tab_col\n",
    "\n",
    "\n",
    "def get_glossary_term_by_fqn(om_conn, term_fqn: str) -> GlossaryTerm:\n",
    "    \"\"\"\n",
    "    This function takes a term fully qualified name and returns a corresponding term entity. If the target term does\n",
    "    not exist or not valid, return None.\n",
    "    :param om_conn:\n",
    "    :type om_conn:\n",
    "    :param term_fqn:\n",
    "    :type term_fqn:\n",
    "    :return:\n",
    "    :rtype:\n",
    "    \"\"\"\n",
    "    try:\n",
    "        term_entity = om_conn.get_by_name(entity=GlossaryTerm, fqn=term_fqn)\n",
    "    except Exception as e:\n",
    "        print(f\"Can not find the target term, or the term is not valid: {e}\")\n",
    "        raise\n",
    "    return term_entity\n",
    "\n",
    "\n",
    "def patch_term_to_column(om_conn, term_fqn: str, db_fqn: str, tab_name: str, column_name: str):\n",
    "    # get the target table entity which contains the target column\n",
    "    table_fqn = f\"{db_fqn}.{tab_name}\"\n",
    "    table_entity = om_conn.get_by_name(entity=Table, fqn=table_fqn)\n",
    "    # get the term entity\n",
    "    term_entity = get_glossary_term_by_fqn(om_conn, term_fqn)\n",
    "    if not table_entity:\n",
    "        print(f\"Can't find the table entity: {table_fqn} \")\n",
    "        return\n",
    "    if not term_entity:\n",
    "        print(f\"Can't find the term entity: {term_fqn} \")\n",
    "        return\n",
    "        # build a tag label with the given term entity\n",
    "    tag_label = TagLabel(tagFQN=term_entity.fullyQualifiedName, source=TagSource.Glossary, state=State.Suggested,\n",
    "                         labelType=LabelType.Automated)\n",
    "    col_tag = ColumnTag(column_fqn=f\"{db_fqn}.{tab_name}.{column_name}\", tag_label=tag_label)\n",
    "\n",
    "    if col_tag:\n",
    "        om_conn.patch_column_tags(table=table_entity,\n",
    "                                  column_tags=[col_tag],\n",
    "                                  operation=PatchOperation.ADD, )"
   ],
   "id": "7cac5028c00d241c",
   "outputs": [],
   "execution_count": 15
  },
  {
   "metadata": {
    "ExecuteTime": {
     "end_time": "2025-09-03T11:44:15.234592Z",
     "start_time": "2025-09-03T11:44:15.221648Z"
    }
   },
   "cell_type": "code",
   "source": [
    "resu_list = search_constance_column_name(column_spec_path, \"geometry\")\n",
    "print(resu_list)"
   ],
   "id": "c4b7c3dbab8583f4",
   "outputs": [
    {
     "name": "stdout",
     "output_type": "stream",
     "text": [
      "[{'table': 'fr_communes_raw', 'column': 'geometry'}, {'table': 'fr_communes_clean', 'column': 'geometry'}, {'table': 'hospitals_in_communes', 'column': 'geometry'}]\n"
     ]
    }
   ],
   "execution_count": 16
  },
  {
   "metadata": {
    "ExecuteTime": {
     "end_time": "2025-09-03T11:44:16.644185Z",
     "start_time": "2025-09-03T11:44:16.630368Z"
    }
   },
   "cell_type": "code",
   "source": [
    "# define the target database fqn\n",
    "db_fqn = f\"{DB_SERVICE_NAME}.{DB_NAME}.{SCHEMA_NAME}\"\n",
    "\n",
    "# get nomenclature df\n",
    "nom_df = pd.read_csv(nomen_spec_path, header=0).drop_duplicates(subset=[\"nomenclature\"])\n",
    "print(nom_df.head(5))"
   ],
   "id": "a47857d893d147e8",
   "outputs": [
    {
     "name": "stdout",
     "output_type": "stream",
     "text": [
      "    nomenclature                                              titre  \\\n",
      "0  geometry_type  The description of possible type values in a g...   \n",
      "1     code_insee  The administrative code of a french commune is...   \n",
      "\n",
      "  variables_liees  nombre_lignes  \n",
      "0        geometry            NaN  \n",
      "1           insee            NaN  \n"
     ]
    }
   ],
   "execution_count": 17
  },
  {
   "metadata": {},
   "cell_type": "code",
   "outputs": [],
   "execution_count": null,
   "source": "",
   "id": "60b935679879d597"
  },
  {
   "metadata": {
    "ExecuteTime": {
     "end_time": "2025-09-03T11:44:18.241301Z",
     "start_time": "2025-09-03T11:44:17.869929Z"
    }
   },
   "cell_type": "code",
   "source": [
    "for index, row in nom_df.iterrows():\n",
    "    row_dict = row.to_dict()\n",
    "    print(row_dict)\n",
    "    term_name, _, linked_cols = parse_nomenclature_row(row_dict, desc_dir_path)\n",
    "    print(f\"treating term: {term_name}\")\n",
    "    # find linked table column via term name\n",
    "    term_linked_tab_cols = search_constance_column_name(column_spec_path, term_name)\n",
    "    print(term_linked_tab_cols)\n",
    "    # for each linked col, add term to the column\n",
    "    for term_linked_tab_col in term_linked_tab_cols:\n",
    "        print(f\"target column: {term_linked_tab_col}\")\n",
    "        patch_term_to_column(metadata, f\"{glossary_name}.{term_name}\", db_fqn, term_linked_tab_col[\"table\"],\n",
    "                             term_linked_tab_col[\"column\"])\n",
    "    # find linked table column via linked_cols\n",
    "    print(linked_cols)\n",
    "    if len(linked_cols) > 0:\n",
    "        for linked_col in linked_cols:\n",
    "            print(linked_col)\n",
    "            col_linked_tab_cols = search_constance_column_name(column_spec_path, linked_col)\n",
    "            # for each find table column, add tag\n",
    "            for col_linked_tab_col in col_linked_tab_cols:\n",
    "                patch_term_to_column(metadata, f\"{glossary_name}.{term_name}\", db_fqn, col_linked_tab_col[\"table\"],\n",
    "                                     col_linked_tab_col[\"column\"])"
   ],
   "id": "3c0004a5e0d0ed81",
   "outputs": [
    {
     "name": "stdout",
     "output_type": "stream",
     "text": [
      "{'nomenclature': 'geometry_type', 'titre': 'The description of possible type values in a geometry column', 'variables_liees': 'geometry', 'nombre_lignes': nan}\n",
      "treating term: geometry_type\n",
      "[]\n",
      "['geometry']\n",
      "geometry\n",
      "Can't find the term entity: constances_geo_terms.geometry_type \n",
      "Can't find the term entity: constances_geo_terms.geometry_type \n",
      "Can't find the term entity: constances_geo_terms.geometry_type \n",
      "{'nomenclature': 'code_insee', 'titre': 'The administrative code of a french commune issued by INSEE ', 'variables_liees': 'insee', 'nombre_lignes': nan}\n",
      "treating term: code_insee\n",
      "[]\n",
      "['insee']\n",
      "insee\n",
      "Can't find the term entity: constances_geo_terms.code_insee \n",
      "Can't find the term entity: constances_geo_terms.code_insee \n"
     ]
    }
   ],
   "execution_count": 18
  },
  {
   "metadata": {},
   "cell_type": "code",
   "outputs": [],
   "execution_count": null,
   "source": "",
   "id": "3c2f9e1cf8f3db73"
  }
 ],
 "metadata": {
  "kernelspec": {
   "display_name": "Python 3",
   "language": "python",
   "name": "python3"
  },
  "language_info": {
   "codemirror_mode": {
    "name": "ipython",
    "version": 2
   },
   "file_extension": ".py",
   "mimetype": "text/x-python",
   "name": "python",
   "nbconvert_exporter": "python",
   "pygments_lexer": "ipython2",
   "version": "2.7.6"
  }
 },
 "nbformat": 4,
 "nbformat_minor": 5
}
