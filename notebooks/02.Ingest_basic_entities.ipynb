{
 "cells": [
  {
   "metadata": {},
   "cell_type": "markdown",
   "source": [
    "#  Ingest metadata of basic entities into open metadata\n",
    "\n",
    "In this tutorial, we will show how to ingest metadata into open metadata.\n",
    "\n",
    "There are many ways to ingest metadat into openmetadata, such as:\n",
    "- connectors\n",
    "- rest API\n",
    "- python SDK\n",
    "\n",
    "In this tutorial, we only how you how to use `python SDK` to ingest metadata.\n",
    "\n",
    "## 1. Set up the python virtual environment\n",
    "\n",
    "Open a conda shell of **python 11** in `Bureau`->`Raccourci`->`Python`. Then enter the below command\n",
    "\n",
    "```shell\n",
    "# 1. Check if conda exists in the current shell\n",
    "conda --version\n",
    "\n",
    "# 2. create a virtual environment\n",
    "conda create --name om-ingestion python --offline\n",
    "# view existing virtual environment list\n",
    "conda env list\n",
    "# check status of a virtual environment\n",
    "conda info --envs\n",
    "\n",
    "# 3. activate a virtual environment\n",
    "conda activate om-ingestion\n",
    "\n",
    "# 4. install packages\n",
    "# check installed package list\n",
    "pip list\n",
    "\n",
    "# install package via requirements.txt\n",
    "pip install -r requirements.txt\n",
    "\n",
    "# 5. verify that you have the required packages\n",
    "pip show pandas\n",
    "pip show openmetadata-ingestion\n",
    "```\n",
    "\n",
    "## 2. Ingest metadata of basic entities\n",
    "\n",
    "The most basic entities in open metadata is the descriptive metadata of data assets. For example\n",
    "- Databases\n",
    "- Tables\n",
    "- Columns\n",
    "- Filesystem\n",
    "- Folder\n",
    "- Files\n",
    "- Etc.\n",
    "\n",
    "In the below example, we will insert the descriptive metadata of Database, Schema, tables, and columns."
   ],
   "id": "7c7b3379c5ec65f7"
  },
  {
   "metadata": {
    "ExecuteTime": {
     "end_time": "2025-09-08T09:45:16.018016Z",
     "start_time": "2025-09-08T09:45:06.481423Z"
    }
   },
   "cell_type": "code",
   "source": [
    "import pandas as pd\n",
    "from metadata.ingestion.ometa.ometa_api import OpenMetadata\n",
    "from metadata.generated.schema.entity.services.connections.metadata.openMetadataConnection import (OpenMetadataConnection, AuthProvider)\n",
    "from metadata.generated.schema.security.client.openMetadataJWTClientConfig import OpenMetadataJWTClientConfig"
   ],
   "id": "f59f3e090c31d200",
   "outputs": [],
   "execution_count": 2
  },
  {
   "metadata": {},
   "cell_type": "markdown",
   "source": [
    "### 2.1 Check open metadata api server connectivity\n",
    "\n",
    "The python-SDK which we use to ingest metadata is an `OM client`, it needs to connect to an `OM server` to ingest metadata.\n",
    "Let's check the connectivity of the server via client."
   ],
   "id": "bc7939334469c9fe"
  },
  {
   "metadata": {
    "ExecuteTime": {
     "end_time": "2025-09-08T12:06:33.622810Z",
     "start_time": "2025-09-08T12:06:33.609154Z"
    }
   },
   "cell_type": "code",
   "source": [
    "# you need to modify this value to match your target open metadata server url\n",
    "target_om_server=\"http://om-dev.casd.local/api\""
   ],
   "id": "d5ff1a7166ad9e46",
   "outputs": [],
   "execution_count": 5
  },
  {
   "metadata": {
    "ExecuteTime": {
     "end_time": "2025-09-08T12:06:38.666021Z",
     "start_time": "2025-09-08T12:06:38.616700Z"
    }
   },
   "cell_type": "code",
   "source": [
    "\n",
    "from conf.creds import om_oidc_token\n",
    "server_config = OpenMetadataConnection(\n",
    "    hostPort=target_om_server,\n",
    "    authProvider=AuthProvider.openmetadata,\n",
    "    securityConfig=OpenMetadataJWTClientConfig(\n",
    "        jwtToken=om_oidc_token,\n",
    "    ),\n",
    ")\n",
    "metadata = OpenMetadata(server_config)"
   ],
   "id": "affb21bdd19c3819",
   "outputs": [],
   "execution_count": 6
  },
  {
   "metadata": {
    "ExecuteTime": {
     "end_time": "2025-09-08T12:06:39.185309Z",
     "start_time": "2025-09-08T12:06:39.163805Z"
    }
   },
   "cell_type": "code",
   "source": [
    "# if it returns true, it means the connection is success \n",
    "metadata.health_check()"
   ],
   "id": "2a8a9344aed2cea3",
   "outputs": [
    {
     "data": {
      "text/plain": [
       "True"
      ]
     },
     "execution_count": 7,
     "metadata": {},
     "output_type": "execute_result"
    }
   ],
   "execution_count": 7
  },
  {
   "metadata": {},
   "cell_type": "markdown",
   "source": [
    "### 2.2 Ingest the metadata of a database\n",
    "\n",
    "Suppose we have a mysql database called `hospitals_in_france`. We want to ingest metadata of this database into OM. So other user can use this database."
   ],
   "id": "916b5af61a02ce9a"
  },
  {
   "metadata": {
    "ExecuteTime": {
     "end_time": "2025-09-08T12:18:44.945851Z",
     "start_time": "2025-09-08T12:18:44.875337Z"
    }
   },
   "cell_type": "code",
   "source": [
    "from metadata.generated.schema.api.services.createDatabaseService import CreateDatabaseServiceRequest\n",
    "from metadata.generated.schema.entity.services.connections.database.common.basicAuth import BasicAuth\n",
    "from metadata.generated.schema.entity.services.connections.database.mysqlConnection import MysqlConnection\n",
    "from metadata.generated.schema.entity.services.databaseService import (DatabaseConnection, DatabaseService, DatabaseServiceType,)\n",
    "\n",
    "# name of the db service\n",
    "DB_SERVICE_NAME = \"Constances-Geography\"\n",
    "# description of the service\n",
    "DB_SERVICE_DESC = \"This database service stores all geography databases of INSERM\"\n",
    "\n",
    "DB_AUTH_LOGIN = \"db_login\"\n",
    "DB_AUTH_PWD = \"db_pwd\"\n",
    "DB_URL = \"http://db_url:1234\"\n",
    "\n",
    "db_service = CreateDatabaseServiceRequest(\n",
    "    name=DB_SERVICE_NAME,\n",
    "    serviceType=DatabaseServiceType.Mysql,\n",
    "    connection=DatabaseConnection(\n",
    "        config=MysqlConnection(\n",
    "            username=DB_AUTH_LOGIN,\n",
    "            authType=BasicAuth(password=DB_AUTH_PWD),\n",
    "            hostPort=DB_URL,\n",
    "        )\n",
    "    ),\n",
    "    description=DB_SERVICE_DESC,\n",
    ")\n",
    "\n",
    "# when we create an entity by using function `create_or_update`, it returns the created instance of the query\n",
    "db_service_entity = metadata.create_or_update(data=db_service)"
   ],
   "id": "2e37614cb861d481",
   "outputs": [],
   "execution_count": 11
  },
  {
   "metadata": {
    "ExecuteTime": {
     "end_time": "2025-09-08T12:19:16.871556Z",
     "start_time": "2025-09-08T12:19:16.862111Z"
    }
   },
   "cell_type": "code",
   "source": [
    "# you can view the content of the returned object to check if your request is executed correctly.\n",
    "print(db_service_entity)"
   ],
   "id": "c6edef46d810807a",
   "outputs": [
    {
     "name": "stdout",
     "output_type": "stream",
     "text": [
      "id=Uuid(root=UUID('c726e413-a5de-41d0-a9b7-25fb11197d6b')) name=EntityName(root='Constances-Geography') fullyQualifiedName=FullyQualifiedEntityName(root='Constances-Geography') displayName=None serviceType=<DatabaseServiceType.Mysql: 'Mysql'> description=Markdown(root='This database service stores all geography databases of INSERM') connection=DatabaseConnection(config=MysqlConnection(type=<MySQLType.Mysql: 'Mysql'>, scheme=<MySQLScheme.mysql_pymysql: 'mysql+pymysql'>, username='db_login', authType=BasicAuth(password=SecretStr('**********')), hostPort='http://db_url:1234', databaseName=None, databaseSchema=None, sslConfig=None, connectionOptions=None, connectionArguments=None, schemaFilterPattern=FilterPattern(includes=[], excludes=['^information_schema$', '^performance_schema$']), tableFilterPattern=None, databaseFilterPattern=None, supportsMetadataExtraction=SupportsMetadataExtraction(root=True), supportsDBTExtraction=SupportsDBTExtraction(root=True), supportsProfiler=SupportsProfiler(root=True), supportsQueryComment=SupportsQueryComment(root=True), sampleDataStorageConfig=None, supportsDataDiff=SupportsDataDiff(root=True), supportsUsageExtraction=SupportsUsageExtraction(root=True), supportsLineageExtraction=SupportsLineageExtraction(root=True), useSlowLogs=False)) pipelines=None testConnectionResult=None tags=[] version=EntityVersion(root=0.1) updatedAt=Timestamp(root=1757333924894) updatedBy='ingestion-bot' owners=None href=Href(root=AnyUrl('http://localhost:8585/v1/services/databaseServices/c726e413-a5de-41d0-a9b7-25fb11197d6b')) followers=None changeDescription=None incrementalChangeDescription=None deleted=False dataProducts=None domains=None ingestionRunner=None\n"
     ]
    }
   ],
   "execution_count": 12
  },
  {
   "metadata": {
    "ExecuteTime": {
     "end_time": "2025-09-08T12:19:41.335195Z",
     "start_time": "2025-09-08T12:19:41.267970Z"
    }
   },
   "cell_type": "code",
   "source": [
    "from metadata.generated.schema.api.data.createDatabase import CreateDatabaseRequest\n",
    "DB_NAME = \"hospitals_in_france\"\n",
    "\n",
    "db_entity_req = CreateDatabaseRequest(\n",
    "    name=DB_NAME,\n",
    "    service=db_service_entity.fullyQualifiedName,\n",
    "    description=\"In this database, we store all tables which contain geographical information in Constances\",\n",
    ")\n",
    "\n",
    "db_entity = metadata.create_or_update(data=db_entity_req)"
   ],
   "id": "70856d7e4a869e6",
   "outputs": [],
   "execution_count": 13
  },
  {
   "metadata": {
    "ExecuteTime": {
     "end_time": "2025-09-03T10:05:40.508379Z",
     "start_time": "2025-09-03T10:05:40.278926Z"
    }
   },
   "cell_type": "code",
   "source": [
    "from metadata.generated.schema.api.data.createDatabaseSchema import CreateDatabaseSchemaRequest\n",
    "SCHEMA_NAME = \"Geography\"\n",
    "create_schema_req = CreateDatabaseSchemaRequest(\n",
    "    name=SCHEMA_NAME, \n",
    "    database=db_entity.fullyQualifiedName,\n",
    "    description=\"In this schema, we group all tables which contain geographical information of hospitals in France\",)\n",
    "\n",
    "# the create request will return the fqn(fully qualified name) of the created schema\n",
    "schema_entity = metadata.create_or_update(data=create_schema_req)"
   ],
   "id": "3b0d61d6d7f53636",
   "outputs": [],
   "execution_count": 6
  },
  {
   "metadata": {},
   "cell_type": "markdown",
   "source": [
    "## Step2: Get metadata from source files\n",
    "\n",
    "Here we use two files to describe metadata:\n",
    "- <project_name>_tables: describes the metadata of tables in this project\n",
    "- <project_name_vars>: describes the metadata of the columns in this project "
   ],
   "id": "70b622ba52b61c33"
  },
  {
   "metadata": {
    "ExecuteTime": {
     "end_time": "2025-09-03T11:38:30.211652Z",
     "start_time": "2025-09-03T11:38:30.204972Z"
    }
   },
   "cell_type": "code",
   "source": [
    "import pathlib\n",
    "project_root = pathlib.Path.cwd().parent\n",
    "metadata_path = project_root / \"data\"\n",
    "\n",
    "print(metadata_path)"
   ],
   "id": "d8d4f57e7e7921c8",
   "outputs": [
    {
     "name": "stdout",
     "output_type": "stream",
     "text": [
      "C:\\Users\\PLIU\\Documents\\git\\Seminare_data_catalog\\data\n"
     ]
    }
   ],
   "execution_count": 8
  },
  {
   "metadata": {
    "ExecuteTime": {
     "end_time": "2025-09-03T11:38:33.220283Z",
     "start_time": "2025-09-03T11:38:33.215360Z"
    }
   },
   "cell_type": "code",
   "source": [
    "table_spec_path = f\"{metadata_path}/constances_tables.csv\"\n",
    "col_spec_path = f\"{metadata_path}/constances_vars.csv\"\n",
    "\n"
   ],
   "id": "69330e6c60b62cd7",
   "outputs": [],
   "execution_count": 9
  },
  {
   "metadata": {
    "ExecuteTime": {
     "end_time": "2025-09-03T11:38:37.839744Z",
     "start_time": "2025-09-03T11:38:37.824534Z"
    }
   },
   "cell_type": "code",
   "source": [
    "table_df = pd.read_csv(table_spec_path,header=0)\n",
    "print(table_df.head(5))"
   ],
   "id": "6711b2784ba2c72e",
   "outputs": [
    {
     "name": "stdout",
     "output_type": "stream",
     "text": [
      "       domain                  table  \\\n",
      "0       INSEE        fr_communes_raw   \n",
      "1  Constances      fr_communes_clean   \n",
      "2         OSM         osm_france_raw   \n",
      "3  Constances    osm_hospitals_clean   \n",
      "4  Constances  hospitals_in_communes   \n",
      "\n",
      "                                         description  creation  suppression  \n",
      "0  This table contains all geographical informati...      2022          NaN  \n",
      "1  This table is built based on fr_communes_raw w...      2024          NaN  \n",
      "2  This table is the open street map of france. I...      2020          NaN  \n",
      "3  This table is build based on osm_france_raw. I...      2024          NaN  \n",
      "4  This table contains the number of hospitals in...      2024          NaN  \n"
     ]
    }
   ],
   "execution_count": 10
  },
  {
   "metadata": {
    "ExecuteTime": {
     "end_time": "2025-09-03T11:38:38.894674Z",
     "start_time": "2025-09-03T11:38:38.885696Z"
    }
   },
   "cell_type": "code",
   "source": [
    "col_df = pd.read_csv(col_spec_path,header=0)\n",
    "print(col_df.head(5))"
   ],
   "id": "1dea237874908789",
   "outputs": [
    {
     "name": "stdout",
     "output_type": "stream",
     "text": [
      "             table        var                                    description  \\\n",
      "0  fr_communes_raw   geometry  geo location of the commune in a polygon form   \n",
      "1  fr_communes_raw  wikipedia            url of the wiki page of the commune   \n",
      "2  fr_communes_raw    surf_ha          number of habitats inside the commune   \n",
      "3  fr_communes_raw        nom                            name of the commune   \n",
      "4  fr_communes_raw      insee                      code insee of the commune   \n",
      "\n",
      "   var_type var_size    nomencalure  creation  suppression  \n",
      "0  geometry       18  geometry_type      2024          NaN  \n",
      "1    string       28            NaN      2024          NaN  \n",
      "2    number        8            NaN      2024          NaN  \n",
      "3    string       26            NaN      2024          NaN  \n",
      "4    string        5     code_insee      2024          NaN  \n"
     ]
    }
   ],
   "execution_count": 11
  },
  {
   "metadata": {
    "ExecuteTime": {
     "end_time": "2025-09-03T11:38:40.930660Z",
     "start_time": "2025-09-03T11:38:40.919744Z"
    }
   },
   "cell_type": "code",
   "source": [
    "from metadata.generated.schema.api.data.createTable import CreateTableRequest\n",
    "from metadata.generated.schema.entity.data.table import Column, DataType\n",
    "\n",
    "def getColDetailsByTabName(table_name:str, col_df):\n",
    "    # filter the rows that belongs to the given table name\n",
    "    table_col_list=col_df[col_df[\"table\"]==table_name].to_dict(orient=\"records\")\n",
    "    return table_col_list\n",
    "    \n",
    "target_tab_name = \"fr_communes_raw\"\n",
    "tab_col_list=getColDetailsByTabName(target_tab_name, col_df)\n",
    "\n",
    "for item in tab_col_list:\n",
    "    print(f\"table name: {item['table']}\")\n",
    "    print(f\"column name: {item['var']}\")\n",
    "    print(f\"column type: {item['var_type']}\")\n",
    "    print(f\"column size: {item['var_size']}\")\n",
    "    print(f\"column description: {item['description']}\")"
   ],
   "id": "9fdaa20baae10c5d",
   "outputs": [
    {
     "name": "stdout",
     "output_type": "stream",
     "text": [
      "table name: fr_communes_raw\n",
      "column name: geometry\n",
      "column type: geometry\n",
      "column size: 18\n",
      "column description: geo location of the commune in a polygon form\n",
      "table name: fr_communes_raw\n",
      "column name: wikipedia\n",
      "column type: string\n",
      "column size: 28\n",
      "column description: url of the wiki page of the commune\n",
      "table name: fr_communes_raw\n",
      "column name: surf_ha\n",
      "column type: number\n",
      "column size: 8\n",
      "column description: number of habitats inside the commune\n",
      "table name: fr_communes_raw\n",
      "column name: nom\n",
      "column type: string\n",
      "column size: 26\n",
      "column description: name of the commune\n",
      "table name: fr_communes_raw\n",
      "column name: insee\n",
      "column type: string\n",
      "column size: 5\n",
      "column description: code insee of the commune\n"
     ]
    }
   ],
   "execution_count": 12
  },
  {
   "metadata": {},
   "cell_type": "markdown",
   "source": [
    "## Step 3. clean the metadata before ingestion  \n",
    "\n",
    "We need to clean the raw metadata before ingestion, because the value may not be compatible with `Open metadata`.\n",
    "For example, the column types in `Open metadata` are pre-defined. Only the valid value can be inserted into the `Open metadata` server. "
   ],
   "id": "9eb1a594613849ea"
  },
  {
   "metadata": {
    "ExecuteTime": {
     "end_time": "2025-09-03T11:39:06.706586Z",
     "start_time": "2025-09-03T11:39:06.692078Z"
    }
   },
   "cell_type": "code",
   "source": [
    "from metadata.generated.schema.entity.data.table import Column, DataType\n",
    "from typing import Dict, List, Optional\n",
    "\n",
    "# util func\n",
    "authorized_str_type=[\"string\",\"str\",]\n",
    "authorized_int_type=[\"int\",\"integer\"]\n",
    "authorized_long_type=[\"bigint\",\"long\"]\n",
    "\n",
    "def get_om_dtype(in_type:str)->DataType:\n",
    "    # test input type is not null and is string\n",
    "    if in_type and isinstance(in_type, str):\n",
    "        # cast it to lower case to ignor case\n",
    "        in_type_val=in_type.lower()\n",
    "        # we create a mapping case for all sql types\n",
    "        if in_type_val == \"tinyint\":\n",
    "            return DataType.TINYINT\n",
    "        elif in_type_val == \"byte\":\n",
    "            return DataType.BYTEINT\n",
    "        elif in_type_val == \"smallint\":\n",
    "            return DataType.SMALLINT\n",
    "        elif in_type_val in authorized_int_type:\n",
    "            return DataType.INT\n",
    "        elif in_type_val in authorized_long_type:\n",
    "            return DataType.BIGINT\n",
    "        elif in_type_val=='numeric':\n",
    "            return DataType.NUMERIC\n",
    "        elif in_type_val=='number':\n",
    "            return DataType.NUMBER\n",
    "        elif in_type_val=='float':\n",
    "            return DataType.FLOAT\n",
    "        elif in_type_val=='double':\n",
    "            return DataType.DOUBLE\n",
    "        elif in_type_val=='date':\n",
    "            return DataType.DATE\n",
    "        elif in_type_val=='time':\n",
    "            return DataType.TIME\n",
    "        elif in_type_val==\"char\":\n",
    "            return DataType.CHAR\n",
    "        elif in_type_val==\"varchar\":\n",
    "            return DataType.VARCHAR\n",
    "        elif in_type_val==\"text\":\n",
    "            return DataType.TEXT\n",
    "        elif in_type_val==\"ntext\":\n",
    "            return DataType.NTEXT\n",
    "        elif in_type_val==\"binary\":\n",
    "            return DataType.BINARY\n",
    "        elif in_type_val==\"varbinary\":\n",
    "            return DataType.VARBINARY\n",
    "        # other types\n",
    "        elif in_type_val in authorized_str_type:\n",
    "            return DataType.STRING\n",
    "        # for complex map such as array<int>, map<int,string>\n",
    "        # we must use dataTypeDisplay to show the details. In dataType, we can only put array, map\n",
    "        elif in_type_val==\"array\":\n",
    "            return DataType.ARRAY\n",
    "        elif in_type_val==\"map\":\n",
    "            return DataType.MAP\n",
    "        elif in_type_val==\"struct\":\n",
    "            return DataType.STRUCT\n",
    "        # for geometry type\n",
    "        elif in_type_val==\"geometry\":\n",
    "            return DataType.GEOMETRY\n",
    "        # for empty string, we use string as default value\n",
    "        elif in_type_val==\"\":\n",
    "            return DataType.STRING\n",
    "        \n",
    "        else:\n",
    "            return DataType.UNKNOWN\n",
    "    else:\n",
    "        print(f\"The input value {in_type} is not a valid string type\")\n",
    "        raise ValueError\n",
    "    \n",
    "\n",
    "def build_type_display_name(type_val: str, length: Optional[int], precision: Optional[int]) -> str:\n",
    "    \"\"\"\n",
    "    This function build a data type display value, it only considers three case, because the result return by \n",
    "    split_length_precision only has three possible case\n",
    "    :param type_val: data type value (e.g. string, int, etc.) \n",
    "    :type type_val: str\n",
    "    :param length: full length of the type \n",
    "    :type length: Optional[int]\n",
    "    :param precision: precision of the type \n",
    "    :type precision: Optional[int]\n",
    "    :return: data type display value\n",
    "    :rtype: str\n",
    "    \"\"\"\n",
    "    if length and precision:\n",
    "        return f\"{type_val}({length},{precision})\"\n",
    "    elif length and not precision:\n",
    "        return f\"{type_val}({length})\"\n",
    "    else:\n",
    "        return type_val\n",
    "\n",
    "def split_length_precision(raw_type_size: str) -> (int, int):\n",
    "    \"\"\"\n",
    "    This function parse the raw type size (e.g. 3 or 5,3) into a tuple of (length, precision).\n",
    "    Some example\n",
    "     - 3 to (3,None)\n",
    "     - 5,3 to (5,3).\n",
    "     - None or not string to (None,None)\n",
    "     - \"\" to (None,None)\n",
    "     - ,3 to (None,None) because it does not make sense if only return precision\n",
    "    :param raw_type_size:\n",
    "    :type raw_type_size:\n",
    "    :return:\n",
    "    :rtype:\n",
    "    \"\"\"\n",
    "    length = None\n",
    "    precision = None\n",
    "    # if it's null or not string, return none,none\n",
    "    if raw_type_size and isinstance(raw_type_size, str):\n",
    "        # if the size is not empty string, do split\n",
    "        if len(raw_type_size) > 0:\n",
    "            split_res = raw_type_size.split(\",\", 1)\n",
    "            # if it has two items after split, it has length and precision\n",
    "            try:\n",
    "                if len(split_res) == 2:\n",
    "                    length = int(split_res[0])\n",
    "                    precision = int(split_res[1])\n",
    "                else:\n",
    "                    length = int(split_res[0])\n",
    "            except ValueError as e:\n",
    "                print(f\"The length:{split_res[0]} or precision{split_res[1]} can't be cast to int.\")\n",
    "\n",
    "    return length, precision\n",
    "    \n",
    "def generate_om_column_entity(col_details:List[Dict])->List[Column]:\n",
    "    \"\"\"\n",
    "    This functions takes the column details of a tables, it generates a list of openmetadata column entity\n",
    "    :param col_details: \n",
    "    :type col_details: \n",
    "    :return: \n",
    "    :rtype: \n",
    "    \"\"\"\n",
    "    columns:List[Column]=[]\n",
    "    for col_detail in col_details:\n",
    "        col_name=col_detail['var']\n",
    "        type_val=col_detail['var_type'].lower()\n",
    "        type_size=col_detail['var_size']\n",
    "        length, precision=split_length_precision(type_size)\n",
    "        data_type=get_om_dtype(type_val)\n",
    "        type_display_val=build_type_display_name(type_val,length,precision)\n",
    "        col_desc=col_detail['description']\n",
    "        # for array data type, we must also provide the datatype inside the array, here we set string for simplicity\n",
    "        if data_type==DataType.ARRAY:\n",
    "            array_data_type=DataType.STRING\n",
    "        else:\n",
    "            array_data_type=None\n",
    "        # for struct data type,\n",
    "        if data_type==DataType.STRUCT:\n",
    "            children=[{\"version\":DataType.INT},{\"timestamp\":DataType.TIME}]\n",
    "        else:\n",
    "            children=None\n",
    "        col_entity=Column(name=col_name, dataType=data_type, arrayDataType=array_data_type, children=children, dataTypeDisplay=type_display_val, dataLength=length,precision=precision,description=col_desc)\n",
    "        columns.append(col_entity)\n",
    "    return columns"
   ],
   "id": "977b30bed9bf7f6c",
   "outputs": [],
   "execution_count": 13
  },
  {
   "metadata": {
    "ExecuteTime": {
     "end_time": "2025-09-03T11:39:12.788937Z",
     "start_time": "2025-09-03T11:39:11.943159Z"
    }
   },
   "cell_type": "code",
   "source": [
    "## Load metadata of all tables\n",
    "from metadata.generated.schema.api.data.createTable import CreateTableRequest\n",
    "# step1: loop the table list to get table name and description\n",
    "table_list=table_df[['table','description']].to_dict(orient=\"records\")\n",
    "\n",
    "for tab in table_list:\n",
    "    tab_name=tab['table']\n",
    "    tab_desc=tab['description']\n",
    "    print(f\"tab_name:{tab_name}, tab_desc:{tab_desc}\")\n",
    "    # step2: get tab col list\n",
    "    tab_col_list=getColDetailsByTabName(tab_name, col_df)\n",
    "    # step3: loop through the col list and build the OM colum list\n",
    "    columns = generate_om_column_entity(tab_col_list)\n",
    "    # step4: create table\n",
    "    table_create=CreateTableRequest(\n",
    "    name=tab_name,\n",
    "    description=tab_desc,\n",
    "    databaseSchema=schema_entity.fullyQualifiedName,\n",
    "    columns=columns)\n",
    "    table_entity=metadata.create_or_update(data=table_create)"
   ],
   "id": "6ac38aa593e6a7e",
   "outputs": [
    {
     "name": "stdout",
     "output_type": "stream",
     "text": [
      "tab_name:fr_communes_raw, tab_desc:This table contains all geographical information of french communes\n",
      "tab_name:fr_communes_clean, tab_desc:This table is built based on fr_communes_raw which is suitable for Contances related analysis\n",
      "tab_name:osm_france_raw, tab_desc:This table is the open street map of france. It contains all geographical information such as roads hospitals in france\n",
      "tab_name:osm_hospitals_clean, tab_desc:This table is build based on osm_france_raw. It only contains geographical information of hospitals in france\n",
      "tab_name:hospitals_in_communes, tab_desc:This table contains the number of hospitals in each communes\n"
     ]
    }
   ],
   "execution_count": 14
  },
  {
   "metadata": {},
   "cell_type": "code",
   "outputs": [],
   "execution_count": null,
   "source": [
    "from metadata.generated.schema.api.services.createStorageService import CreateStorageServiceRequest\n",
    "from metadata.generated.schema.entity.services.storageService import StorageServiceType\n",
    "from metadata.generated.schema.entity.services.connections.storage.customFileConnection import CustomFileConnection\n",
    "from metadata.generated.schema.entity.services.storageService import StorageConnection\n",
    "\n",
    "STORAGE_SERVICE_NAME = \"Local-Filesystem\"\n",
    "\n",
    "storage_service = CreateStorageServiceRequest(\n",
    "    name=STORAGE_SERVICE_NAME,\n",
    "    serviceType=StorageServiceType.Local,   # other options: S3, GCS, ADLS\n",
    "    description=\"Local filesystem containing raw data files.\"\n",
    ")\n",
    "\n",
    "storage_service_entity = metadata.create_or_update(data=storage_service)"
   ],
   "id": "c49d31983e3ab053"
  },
  {
   "metadata": {},
   "cell_type": "markdown",
   "source": "## Clean up",
   "id": "ee2443979be2930f"
  },
  {
   "metadata": {
    "ExecuteTime": {
     "end_time": "2025-09-08T12:18:09.084555Z",
     "start_time": "2025-09-08T12:18:01.185744Z"
    }
   },
   "cell_type": "code",
   "source": [
    "service_id = metadata.get_by_name(\n",
    "    entity=DatabaseService, fqn=DB_SERVICE_NAME\n",
    ").id\n",
    "\n",
    "metadata.delete(\n",
    "    entity=DatabaseService,\n",
    "    entity_id=service_id,\n",
    "    recursive=True,\n",
    "    hard_delete=True,\n",
    ")"
   ],
   "id": "f58adb42567775ef",
   "outputs": [],
   "execution_count": 10
  },
  {
   "metadata": {},
   "cell_type": "code",
   "outputs": [],
   "execution_count": null,
   "source": "",
   "id": "20549119fa56f219"
  }
 ],
 "metadata": {
  "kernelspec": {
   "display_name": "Python 3",
   "language": "python",
   "name": "python3"
  },
  "language_info": {
   "codemirror_mode": {
    "name": "ipython",
    "version": 2
   },
   "file_extension": ".py",
   "mimetype": "text/x-python",
   "name": "python",
   "nbconvert_exporter": "python",
   "pygments_lexer": "ipython2",
   "version": "2.7.6"
  }
 },
 "nbformat": 4,
 "nbformat_minor": 5
}
